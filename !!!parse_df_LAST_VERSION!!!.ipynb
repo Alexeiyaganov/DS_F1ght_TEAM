{
 "cells": [
  {
   "cell_type": "code",
   "execution_count": 1,
   "id": "89061001",
   "metadata": {
    "ExecuteTime": {
     "end_time": "2022-10-07T15:42:49.932352Z",
     "start_time": "2022-10-07T15:42:49.516226Z"
    }
   },
   "outputs": [],
   "source": [
    "import pandas as pd\n",
    "import numpy as np\n",
    "from tqdm import tqdm\n",
    "import json\n",
    "import re\n",
    "\n",
    "import ast"
   ]
  },
  {
   "cell_type": "code",
   "execution_count": 2,
   "id": "3f2eff81",
   "metadata": {
    "ExecuteTime": {
     "end_time": "2022-10-07T15:42:59.130903Z",
     "start_time": "2022-10-07T15:42:49.933257Z"
    }
   },
   "outputs": [
    {
     "data": {
      "text/html": [
       "<div>\n",
       "<style scoped>\n",
       "    .dataframe tbody tr th:only-of-type {\n",
       "        vertical-align: middle;\n",
       "    }\n",
       "\n",
       "    .dataframe tbody tr th {\n",
       "        vertical-align: top;\n",
       "    }\n",
       "\n",
       "    .dataframe thead th {\n",
       "        text-align: right;\n",
       "    }\n",
       "</style>\n",
       "<table border=\"1\" class=\"dataframe\">\n",
       "  <thead>\n",
       "    <tr style=\"text-align: right;\">\n",
       "      <th></th>\n",
       "      <th>_id</th>\n",
       "      <th>title</th>\n",
       "      <th>authors</th>\n",
       "      <th>venue</th>\n",
       "      <th>year</th>\n",
       "      <th>keywords</th>\n",
       "      <th>fos</th>\n",
       "      <th>references</th>\n",
       "      <th>n_citation</th>\n",
       "      <th>page_start</th>\n",
       "      <th>page_end</th>\n",
       "      <th>lang</th>\n",
       "      <th>volume</th>\n",
       "      <th>issue</th>\n",
       "      <th>issn</th>\n",
       "      <th>isbn</th>\n",
       "      <th>doi</th>\n",
       "      <th>pdf</th>\n",
       "      <th>url</th>\n",
       "      <th>abstract</th>\n",
       "    </tr>\n",
       "  </thead>\n",
       "  <tbody>\n",
       "    <tr>\n",
       "      <th>0</th>\n",
       "      <td>53e99784b7602d9701f3e151</td>\n",
       "      <td>A solution to the problem of touching and brok...</td>\n",
       "      <td>[{'_id': '53f46797dabfaeb22f542630', 'name': '...</td>\n",
       "      <td>{'_id': '53a72a4920f7420be8bfa51b', 'name_d': ...</td>\n",
       "      <td>1993.0</td>\n",
       "      <td>['handwriting recognition', 'prototypes', 'ima...</td>\n",
       "      <td>['Intelligent character recognition', 'Pattern...</td>\n",
       "      <td>['53e99cf5b7602d97025ace63', '557e8a7a6fee0fe9...</td>\n",
       "      <td>17.0</td>\n",
       "      <td>602</td>\n",
       "      <td>605</td>\n",
       "      <td>en</td>\n",
       "      <td>NaN</td>\n",
       "      <td>NaN</td>\n",
       "      <td>NaN</td>\n",
       "      <td>NaN</td>\n",
       "      <td>10.1109/ICDAR.1993.395663</td>\n",
       "      <td>NaN</td>\n",
       "      <td>['http://dx.doi.org/10.1109/ICDAR.1993.395663']</td>\n",
       "      <td>NaN</td>\n",
       "    </tr>\n",
       "    <tr>\n",
       "      <th>1</th>\n",
       "      <td>53e99784b7602d9701f3e161</td>\n",
       "      <td>360°</td>\n",
       "      <td>[{'_id': '53f46946dabfaec09f24b4ed', 'name': '...</td>\n",
       "      <td>{'_id': '5390a74a20f70186a0e8b40b', 'raw': 'AC...</td>\n",
       "      <td>2009.0</td>\n",
       "      <td>['global high technology', 'daily short-distan...</td>\n",
       "      <td>NaN</td>\n",
       "      <td>NaN</td>\n",
       "      <td>NaN</td>\n",
       "      <td>39</td>\n",
       "      <td>39</td>\n",
       "      <td>en</td>\n",
       "      <td>NaN</td>\n",
       "      <td>NaN</td>\n",
       "      <td>NaN</td>\n",
       "      <td>NaN</td>\n",
       "      <td>10.1145/1665137.1665166</td>\n",
       "      <td>NaN</td>\n",
       "      <td>NaN</td>\n",
       "      <td>360° represents the concerns that are addresse...</td>\n",
       "    </tr>\n",
       "    <tr>\n",
       "      <th>2</th>\n",
       "      <td>53e99784b7602d9701f3f992</td>\n",
       "      <td>Firewalls.</td>\n",
       "      <td>[{'_id': '53f453aedabfaeb22f4f637d', 'name': '...</td>\n",
       "      <td>{'raw': 'Encyclopedia of Cryptography and Secu...</td>\n",
       "      <td>2011.0</td>\n",
       "      <td>[]</td>\n",
       "      <td>NaN</td>\n",
       "      <td>NaN</td>\n",
       "      <td>0.0</td>\n",
       "      <td>474</td>\n",
       "      <td>482</td>\n",
       "      <td>en</td>\n",
       "      <td>NaN</td>\n",
       "      <td>NaN</td>\n",
       "      <td>NaN</td>\n",
       "      <td>NaN</td>\n",
       "      <td>NaN</td>\n",
       "      <td>NaN</td>\n",
       "      <td>['http://dx.doi.org/10.1007/978-1-4419-5906-5_...</td>\n",
       "      <td>NaN</td>\n",
       "    </tr>\n",
       "  </tbody>\n",
       "</table>\n",
       "</div>"
      ],
      "text/plain": [
       "                        _id  \\\n",
       "0  53e99784b7602d9701f3e151   \n",
       "1  53e99784b7602d9701f3e161   \n",
       "2  53e99784b7602d9701f3f992   \n",
       "\n",
       "                                               title  \\\n",
       "0  A solution to the problem of touching and brok...   \n",
       "1                                               360°   \n",
       "2                                         Firewalls.   \n",
       "\n",
       "                                             authors  \\\n",
       "0  [{'_id': '53f46797dabfaeb22f542630', 'name': '...   \n",
       "1  [{'_id': '53f46946dabfaec09f24b4ed', 'name': '...   \n",
       "2  [{'_id': '53f453aedabfaeb22f4f637d', 'name': '...   \n",
       "\n",
       "                                               venue    year  \\\n",
       "0  {'_id': '53a72a4920f7420be8bfa51b', 'name_d': ...  1993.0   \n",
       "1  {'_id': '5390a74a20f70186a0e8b40b', 'raw': 'AC...  2009.0   \n",
       "2  {'raw': 'Encyclopedia of Cryptography and Secu...  2011.0   \n",
       "\n",
       "                                            keywords  \\\n",
       "0  ['handwriting recognition', 'prototypes', 'ima...   \n",
       "1  ['global high technology', 'daily short-distan...   \n",
       "2                                                 []   \n",
       "\n",
       "                                                 fos  \\\n",
       "0  ['Intelligent character recognition', 'Pattern...   \n",
       "1                                                NaN   \n",
       "2                                                NaN   \n",
       "\n",
       "                                          references  n_citation page_start  \\\n",
       "0  ['53e99cf5b7602d97025ace63', '557e8a7a6fee0fe9...        17.0        602   \n",
       "1                                                NaN         NaN         39   \n",
       "2                                                NaN         0.0        474   \n",
       "\n",
       "  page_end lang volume issue issn isbn                        doi  pdf  \\\n",
       "0      605   en    NaN   NaN  NaN  NaN  10.1109/ICDAR.1993.395663  NaN   \n",
       "1       39   en    NaN   NaN  NaN  NaN    10.1145/1665137.1665166  NaN   \n",
       "2      482   en    NaN   NaN  NaN  NaN                        NaN  NaN   \n",
       "\n",
       "                                                 url  \\\n",
       "0    ['http://dx.doi.org/10.1109/ICDAR.1993.395663']   \n",
       "1                                                NaN   \n",
       "2  ['http://dx.doi.org/10.1007/978-1-4419-5906-5_...   \n",
       "\n",
       "                                            abstract  \n",
       "0                                                NaN  \n",
       "1  360° represents the concerns that are addresse...  \n",
       "2                                                NaN  "
      ]
     },
     "execution_count": 2,
     "metadata": {},
     "output_type": "execute_result"
    }
   ],
   "source": [
    "df = pd.read_csv('data/row_papersdata_v13.csv')\n",
    "df.head(3)"
   ]
  },
  {
   "cell_type": "code",
   "execution_count": 3,
   "id": "281bf83a",
   "metadata": {
    "ExecuteTime": {
     "end_time": "2022-10-07T15:42:59.146094Z",
     "start_time": "2022-10-07T15:42:59.131828Z"
    }
   },
   "outputs": [],
   "source": [
    "def get_names(series, needed='name') -> list:\n",
    "    def _parse_row(row):\n",
    "        if row is not None:\n",
    "            try: values_dict = ast.literal_eval(row)\n",
    "            except: return([])\n",
    "            \n",
    "            names = [None] * len(values_dict)\n",
    "            for key, value in enumerate(values_dict):\n",
    "                try: names[key] = value[needed]\n",
    "                except: return([])\n",
    "                \n",
    "            return(names)\n",
    "        return([])\n",
    "    \n",
    "    parsed_series = [None] * series.shape[0]\n",
    "    for key, row in enumerate(tqdm(df['authors'].iloc())):\n",
    "        names = _parse_row(row)\n",
    "        parsed_series[key] = list(set(names))\n",
    "    return parsed_series"
   ]
  },
  {
   "cell_type": "code",
   "execution_count": 4,
   "id": "8a2b744a",
   "metadata": {
    "ExecuteTime": {
     "end_time": "2022-10-07T15:43:23.114897Z",
     "start_time": "2022-10-07T15:42:59.148153Z"
    },
    "scrolled": false
   },
   "outputs": [
    {
     "name": "stderr",
     "output_type": "stream",
     "text": [
      "385524it [00:23, 16118.27it/s]\n"
     ]
    }
   ],
   "source": [
    "authors_names = get_names(df['authors'], needed='name')"
   ]
  },
  {
   "cell_type": "code",
   "execution_count": 5,
   "id": "b0f95c3b",
   "metadata": {
    "ExecuteTime": {
     "end_time": "2022-10-07T15:43:45.797208Z",
     "start_time": "2022-10-07T15:43:23.116486Z"
    }
   },
   "outputs": [
    {
     "name": "stderr",
     "output_type": "stream",
     "text": [
      "385524it [00:22, 17007.12it/s]\n"
     ]
    }
   ],
   "source": [
    "org_names = get_names(df['authors'], needed='org')"
   ]
  },
  {
   "cell_type": "code",
   "execution_count": 6,
   "id": "5d71e279",
   "metadata": {
    "ExecuteTime": {
     "end_time": "2022-10-07T15:44:07.616690Z",
     "start_time": "2022-10-07T15:43:45.798304Z"
    }
   },
   "outputs": [
    {
     "name": "stderr",
     "output_type": "stream",
     "text": [
      "385524it [00:21, 17684.27it/s]\n"
     ]
    }
   ],
   "source": [
    "raw_venue_names = get_names(df['venue'], needed='raw')"
   ]
  },
  {
   "cell_type": "code",
   "execution_count": 7,
   "id": "448bc045",
   "metadata": {
    "ExecuteTime": {
     "end_time": "2022-10-07T15:44:07.854789Z",
     "start_time": "2022-10-07T15:44:07.618686Z"
    }
   },
   "outputs": [],
   "source": [
    "df['auther_name'] = authors_names\n",
    "df['org_names'] = org_names"
   ]
  },
  {
   "cell_type": "code",
   "execution_count": 8,
   "id": "fc903c5f",
   "metadata": {
    "ExecuteTime": {
     "end_time": "2022-10-07T15:44:10.788842Z",
     "start_time": "2022-10-07T15:44:07.855684Z"
    }
   },
   "outputs": [
    {
     "name": "stdout",
     "output_type": "stream",
     "text": [
      "Before: (385524, 22)\n",
      "After:  (1188750, 22)\n"
     ]
    }
   ],
   "source": [
    "print(f'Before: {df.shape}')\n",
    "df = df.explode('auther_name')\n",
    "# df = df.explode('org_names')\n",
    "print(f'After:  {df.shape}')"
   ]
  },
  {
   "cell_type": "code",
   "execution_count": 9,
   "id": "1906529d",
   "metadata": {
    "ExecuteTime": {
     "end_time": "2022-10-07T15:45:05.975071Z",
     "start_time": "2022-10-07T15:44:10.790847Z"
    }
   },
   "outputs": [],
   "source": [
    "df.to_csv('data/last_version.csv')"
   ]
  }
 ],
 "metadata": {
  "kernelspec": {
   "display_name": "Python 3 (ipykernel)",
   "language": "python",
   "name": "python3"
  },
  "language_info": {
   "codemirror_mode": {
    "name": "ipython",
    "version": 3
   },
   "file_extension": ".py",
   "mimetype": "text/x-python",
   "name": "python",
   "nbconvert_exporter": "python",
   "pygments_lexer": "ipython3",
   "version": "3.9.7"
  },
  "toc": {
   "base_numbering": 1,
   "nav_menu": {},
   "number_sections": false,
   "sideBar": true,
   "skip_h1_title": false,
   "title_cell": "Table of Contents",
   "title_sidebar": "Contents",
   "toc_cell": false,
   "toc_position": {},
   "toc_section_display": true,
   "toc_window_display": false
  }
 },
 "nbformat": 4,
 "nbformat_minor": 5
}
