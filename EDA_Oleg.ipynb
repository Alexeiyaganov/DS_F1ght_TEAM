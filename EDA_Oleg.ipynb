{
 "cells": [
  {
   "cell_type": "markdown",
   "id": "437799b5",
   "metadata": {},
   "source": [
    "# Import tools"
   ]
  },
  {
   "cell_type": "code",
   "execution_count": 85,
   "id": "361520ff",
   "metadata": {
    "ExecuteTime": {
     "end_time": "2022-10-06T14:13:29.192664Z",
     "start_time": "2022-10-06T14:13:29.165189Z"
    }
   },
   "outputs": [],
   "source": [
    "import pandas as pd\n",
    "import numpy as np\n",
    "\n",
    "import seaborn as sns\n",
    "import plotly.express as px\n",
    "import matplotlib.pyplot as plt\n",
    "\n",
    "from collections import defaultdict\n",
    "\n",
    "from scipy.stats import normaltest\n",
    "\n",
    "sns.set_context('talk')\n",
    "sns.set_style('darkgrid')\n",
    "%matplotlib inline\n",
    "plt.rcParams['figure.figsize'] = (10, 8)\n"
   ]
  },
  {
   "cell_type": "code",
   "execution_count": 86,
   "id": "049b6c05",
   "metadata": {
    "ExecuteTime": {
     "end_time": "2022-10-06T14:13:35.238833Z",
     "start_time": "2022-10-06T14:13:29.282593Z"
    }
   },
   "outputs": [
    {
     "name": "stderr",
     "output_type": "stream",
     "text": [
      "C:\\Users\\Oleg_Naidovich\\Anaconda3\\lib\\site-packages\\IPython\\core\\interactiveshell.py:3444: DtypeWarning: Columns (0,4,8,9,13) have mixed types.Specify dtype option on import or set low_memory=False.\n",
      "  exec(code_obj, self.user_global_ns, self.user_ns)\n"
     ]
    }
   ],
   "source": [
    "df = pd.read_csv('data/row_papersdata.csv')"
   ]
  },
  {
   "cell_type": "markdown",
   "id": "7f1fbe20",
   "metadata": {},
   "source": [
    "# Preprocess"
   ]
  },
  {
   "cell_type": "code",
   "execution_count": 87,
   "id": "d3c8b871",
   "metadata": {
    "ExecuteTime": {
     "end_time": "2022-10-06T14:13:35.254863Z",
     "start_time": "2022-10-06T14:13:35.239835Z"
    }
   },
   "outputs": [],
   "source": [
    "def preprocess_raw_data(df: pd.DataFrame) -> pd.DataFrame:\n",
    "    \n",
    "    def _count_shape(df):\n",
    "        print(f'shape: {df.shape[0]}\\nunique rows by PK==id: {df[\"id\"].nunique()}')\n",
    "        \n",
    "    def _filter_raw_rows(df: pd.DataFrame) -> pd.DataFrame:\n",
    "        df['id_new'] = df['id'].astype(str)\n",
    "        df['indicator'] = df['id_new'].str.isdigit()\n",
    "        df = df[df['indicator'] == True]\n",
    "        return df.drop(['id_new', 'indicator'], axis=1)\n",
    "    \n",
    "    _count_shape(df)\n",
    "    df = _filter_raw_rows(df)\n",
    "    _count_shape(df)\n",
    "    \n",
    "    df.index = df['id']\n",
    "    df.drop(columns=['id'], inplace=True)\n",
    "    \n",
    "    return df"
   ]
  },
  {
   "cell_type": "code",
   "execution_count": 88,
   "id": "8251f513",
   "metadata": {
    "ExecuteTime": {
     "end_time": "2022-10-06T14:13:35.807404Z",
     "start_time": "2022-10-06T14:13:35.255835Z"
    }
   },
   "outputs": [
    {
     "name": "stdout",
     "output_type": "stream",
     "text": [
      "shape: 300011\n",
      "unique rows by PK==id: 300010\n",
      "shape: 300001\n",
      "unique rows by PK==id: 300001\n"
     ]
    }
   ],
   "source": [
    "df = preprocess_raw_data(df)"
   ]
  },
  {
   "cell_type": "code",
   "execution_count": 89,
   "id": "1000c45e",
   "metadata": {
    "ExecuteTime": {
     "end_time": "2022-10-06T14:13:35.838443Z",
     "start_time": "2022-10-06T14:13:35.809406Z"
    }
   },
   "outputs": [
    {
     "data": {
      "text/html": [
       "<div>\n",
       "<style scoped>\n",
       "    .dataframe tbody tr th:only-of-type {\n",
       "        vertical-align: middle;\n",
       "    }\n",
       "\n",
       "    .dataframe tbody tr th {\n",
       "        vertical-align: top;\n",
       "    }\n",
       "\n",
       "    .dataframe thead th {\n",
       "        text-align: right;\n",
       "    }\n",
       "</style>\n",
       "<table border=\"1\" class=\"dataframe\">\n",
       "  <thead>\n",
       "    <tr style=\"text-align: right;\">\n",
       "      <th></th>\n",
       "      <th>title</th>\n",
       "      <th>authors</th>\n",
       "      <th>venue</th>\n",
       "      <th>year</th>\n",
       "      <th>fos</th>\n",
       "      <th>references</th>\n",
       "      <th>n_citation</th>\n",
       "      <th>page_start</th>\n",
       "      <th>page_end</th>\n",
       "      <th>doc_type</th>\n",
       "      <th>publisher</th>\n",
       "      <th>volume</th>\n",
       "      <th>issue</th>\n",
       "      <th>doi</th>\n",
       "      <th>indexed_abstract</th>\n",
       "    </tr>\n",
       "    <tr>\n",
       "      <th>id</th>\n",
       "      <th></th>\n",
       "      <th></th>\n",
       "      <th></th>\n",
       "      <th></th>\n",
       "      <th></th>\n",
       "      <th></th>\n",
       "      <th></th>\n",
       "      <th></th>\n",
       "      <th></th>\n",
       "      <th></th>\n",
       "      <th></th>\n",
       "      <th></th>\n",
       "      <th></th>\n",
       "      <th></th>\n",
       "      <th></th>\n",
       "    </tr>\n",
       "  </thead>\n",
       "  <tbody>\n",
       "    <tr>\n",
       "      <th>1091</th>\n",
       "      <td>Preliminary Design of a Network Protocol Learn...</td>\n",
       "      <td>[{'name': 'Makoto Satoh', 'org': 'Shinshu Univ...</td>\n",
       "      <td>{'raw': 'International Conference on Human-Com...</td>\n",
       "      <td>2013</td>\n",
       "      <td>[{'name': 'Telecommunications network', 'w': D...</td>\n",
       "      <td>[2005687710, 2018037215]</td>\n",
       "      <td>1.0</td>\n",
       "      <td>89</td>\n",
       "      <td>93</td>\n",
       "      <td>Conference</td>\n",
       "      <td>Springer, Berlin, Heidelberg</td>\n",
       "      <td>NaN</td>\n",
       "      <td>NaN</td>\n",
       "      <td>10.1007/978-3-642-39476-8_19</td>\n",
       "      <td>{'IndexLength': 58, 'InvertedIndex': {'tool.':...</td>\n",
       "    </tr>\n",
       "    <tr>\n",
       "      <th>1388</th>\n",
       "      <td>Further Results on Independence in Direct-Prod...</td>\n",
       "      <td>[{'name': 'Pranava K. Jha', 'id': 2718958994}]</td>\n",
       "      <td>{'raw': 'Ars Combinatoria', 'id': 73158690, 't...</td>\n",
       "      <td>2000</td>\n",
       "      <td>[{'name': 'Graph', 'w': Decimal('0.0')}, {'nam...</td>\n",
       "      <td>NaN</td>\n",
       "      <td>1.0</td>\n",
       "      <td>NaN</td>\n",
       "      <td>NaN</td>\n",
       "      <td>Journal</td>\n",
       "      <td>NaN</td>\n",
       "      <td>56.0</td>\n",
       "      <td>NaN</td>\n",
       "      <td>NaN</td>\n",
       "      <td>NaN</td>\n",
       "    </tr>\n",
       "    <tr>\n",
       "      <th>1674</th>\n",
       "      <td>A methodology for the physically accurate visu...</td>\n",
       "      <td>[{'name': 'G. Beale', 'org': 'Archaeological C...</td>\n",
       "      <td>{'raw': 'International Conference on Virtual R...</td>\n",
       "      <td>2011</td>\n",
       "      <td>[{'name': 'Statue', 'w': Decimal('0.40216')}, ...</td>\n",
       "      <td>[1535888970, 1992876689, 1993710814, 203565334...</td>\n",
       "      <td>1.0</td>\n",
       "      <td>137</td>\n",
       "      <td>144</td>\n",
       "      <td>Conference</td>\n",
       "      <td>Eurographics Association</td>\n",
       "      <td>NaN</td>\n",
       "      <td>NaN</td>\n",
       "      <td>10.2312/VAST/VAST11/137-144</td>\n",
       "      <td>{'IndexLength': 201, 'InvertedIndex': {'illust...</td>\n",
       "    </tr>\n",
       "    <tr>\n",
       "      <th>1688</th>\n",
       "      <td>Comparison of GARCH, Neural Network and Suppor...</td>\n",
       "      <td>[{'name': 'Altaf Hossain', 'org': 'Department ...</td>\n",
       "      <td>{'raw': 'Pattern Recognition and Machine Intel...</td>\n",
       "      <td>2009</td>\n",
       "      <td>[{'name': 'Autoregressive–moving-average model...</td>\n",
       "      <td>[1560724230, 1986968751, 2156909104]</td>\n",
       "      <td>6.0</td>\n",
       "      <td>597</td>\n",
       "      <td>602</td>\n",
       "      <td>Conference</td>\n",
       "      <td>Springer, Berlin, Heidelberg</td>\n",
       "      <td>NaN</td>\n",
       "      <td>NaN</td>\n",
       "      <td>10.1007/978-3-642-11164-8_97</td>\n",
       "      <td>{'IndexLength': 64, 'InvertedIndex': {'standar...</td>\n",
       "    </tr>\n",
       "    <tr>\n",
       "      <th>5411</th>\n",
       "      <td>COMPARING GNG3D AND QUADRIC ERROR METRICS METH...</td>\n",
       "      <td>[{'name': 'Rafael Álvarez', 'id': 2125293936},...</td>\n",
       "      <td>{'raw': 'International Conference on Computer ...</td>\n",
       "      <td>2009</td>\n",
       "      <td>[{'name': 'Computer vision', 'w': Decimal('0.4...</td>\n",
       "      <td>NaN</td>\n",
       "      <td>0.0</td>\n",
       "      <td>99</td>\n",
       "      <td>102</td>\n",
       "      <td>Conference</td>\n",
       "      <td>NaN</td>\n",
       "      <td>NaN</td>\n",
       "      <td>NaN</td>\n",
       "      <td>NaN</td>\n",
       "      <td>NaN</td>\n",
       "    </tr>\n",
       "  </tbody>\n",
       "</table>\n",
       "</div>"
      ],
      "text/plain": [
       "                                                  title  \\\n",
       "id                                                        \n",
       "1091  Preliminary Design of a Network Protocol Learn...   \n",
       "1388  Further Results on Independence in Direct-Prod...   \n",
       "1674  A methodology for the physically accurate visu...   \n",
       "1688  Comparison of GARCH, Neural Network and Suppor...   \n",
       "5411  COMPARING GNG3D AND QUADRIC ERROR METRICS METH...   \n",
       "\n",
       "                                                authors  \\\n",
       "id                                                        \n",
       "1091  [{'name': 'Makoto Satoh', 'org': 'Shinshu Univ...   \n",
       "1388     [{'name': 'Pranava K. Jha', 'id': 2718958994}]   \n",
       "1674  [{'name': 'G. Beale', 'org': 'Archaeological C...   \n",
       "1688  [{'name': 'Altaf Hossain', 'org': 'Department ...   \n",
       "5411  [{'name': 'Rafael Álvarez', 'id': 2125293936},...   \n",
       "\n",
       "                                                  venue  year  \\\n",
       "id                                                              \n",
       "1091  {'raw': 'International Conference on Human-Com...  2013   \n",
       "1388  {'raw': 'Ars Combinatoria', 'id': 73158690, 't...  2000   \n",
       "1674  {'raw': 'International Conference on Virtual R...  2011   \n",
       "1688  {'raw': 'Pattern Recognition and Machine Intel...  2009   \n",
       "5411  {'raw': 'International Conference on Computer ...  2009   \n",
       "\n",
       "                                                    fos  \\\n",
       "id                                                        \n",
       "1091  [{'name': 'Telecommunications network', 'w': D...   \n",
       "1388  [{'name': 'Graph', 'w': Decimal('0.0')}, {'nam...   \n",
       "1674  [{'name': 'Statue', 'w': Decimal('0.40216')}, ...   \n",
       "1688  [{'name': 'Autoregressive–moving-average model...   \n",
       "5411  [{'name': 'Computer vision', 'w': Decimal('0.4...   \n",
       "\n",
       "                                             references  n_citation  \\\n",
       "id                                                                    \n",
       "1091                           [2005687710, 2018037215]         1.0   \n",
       "1388                                                NaN         1.0   \n",
       "1674  [1535888970, 1992876689, 1993710814, 203565334...         1.0   \n",
       "1688               [1560724230, 1986968751, 2156909104]         6.0   \n",
       "5411                                                NaN         0.0   \n",
       "\n",
       "     page_start page_end    doc_type                     publisher  volume  \\\n",
       "id                                                                           \n",
       "1091         89       93  Conference  Springer, Berlin, Heidelberg     NaN   \n",
       "1388        NaN      NaN     Journal                           NaN    56.0   \n",
       "1674        137      144  Conference      Eurographics Association     NaN   \n",
       "1688        597      602  Conference  Springer, Berlin, Heidelberg     NaN   \n",
       "5411         99      102  Conference                           NaN     NaN   \n",
       "\n",
       "     issue                           doi  \\\n",
       "id                                         \n",
       "1091   NaN  10.1007/978-3-642-39476-8_19   \n",
       "1388   NaN                           NaN   \n",
       "1674   NaN   10.2312/VAST/VAST11/137-144   \n",
       "1688   NaN  10.1007/978-3-642-11164-8_97   \n",
       "5411   NaN                           NaN   \n",
       "\n",
       "                                       indexed_abstract  \n",
       "id                                                       \n",
       "1091  {'IndexLength': 58, 'InvertedIndex': {'tool.':...  \n",
       "1388                                                NaN  \n",
       "1674  {'IndexLength': 201, 'InvertedIndex': {'illust...  \n",
       "1688  {'IndexLength': 64, 'InvertedIndex': {'standar...  \n",
       "5411                                                NaN  "
      ]
     },
     "execution_count": 89,
     "metadata": {},
     "output_type": "execute_result"
    }
   ],
   "source": [
    "df.head()"
   ]
  },
  {
   "cell_type": "code",
   "execution_count": 90,
   "id": "59e2225f",
   "metadata": {
    "ExecuteTime": {
     "end_time": "2022-10-06T14:13:35.902404Z",
     "start_time": "2022-10-06T14:13:35.840406Z"
    }
   },
   "outputs": [
    {
     "data": {
      "text/plain": [
       "id\n",
       "1091          Preliminary Design of a Network Protocol Learn...\n",
       "1388          Further Results on Independence in Direct-Prod...\n",
       "1674          A methodology for the physically accurate visu...\n",
       "1688          Comparison of GARCH, Neural Network and Suppor...\n",
       "5411          COMPARING GNG3D AND QUADRIC ERROR METRICS METH...\n",
       "                                    ...                        \n",
       "1481992918    Weyl variations and local sufficiency of linea...\n",
       "1481993126    A novel design of self-organizing approximator...\n",
       "1481993566     Resource discovery protocol for mobile computing\n",
       "1481994000                                 PIX, the latest NeWS\n",
       "1481994496    iPRIDE: a parallel integrated circuit simulato...\n",
       "Name: title, Length: 300001, dtype: object"
      ]
     },
     "execution_count": 90,
     "metadata": {},
     "output_type": "execute_result"
    }
   ],
   "source": [
    "df['title']"
   ]
  },
  {
   "cell_type": "markdown",
   "id": "56640d08",
   "metadata": {},
   "source": [
    "# EDA"
   ]
  },
  {
   "cell_type": "markdown",
   "id": "8b90a58a",
   "metadata": {},
   "source": [
    "## Nans"
   ]
  },
  {
   "cell_type": "code",
   "execution_count": 166,
   "id": "531bba1d",
   "metadata": {
    "ExecuteTime": {
     "end_time": "2022-10-06T14:25:52.020919Z",
     "start_time": "2022-10-06T14:25:52.014923Z"
    }
   },
   "outputs": [],
   "source": [
    "def get_nan(df):\n",
    "    def _df_style(v):\n",
    "        return \"font-weight: bold; color: red;\" if v > 25 else None\n",
    "    \n",
    "    sns.heatmap(df.isna());\n",
    "    plt.title('Visualization of NAs in dataset (white - missing values)\\n');\n",
    "    \n",
    "    temp = {'col': [], 'perc_nan': []}\n",
    "    for col in df.columns:\n",
    "        perc_nan = df[col].isna().sum() / df.shape[0]  * 100\n",
    "        temp['col'] += [col]\n",
    "        temp['perc_nan'] += [perc_nan]\n",
    "\n",
    "    temp = pd.DataFrame(temp)\n",
    "    temp.set_index(['col'], inplace=True)\n",
    "    subset = temp[temp['perc_nan'] > 50]\n",
    "    summary = temp.style.applymap(_df_style)\n",
    "    display(summary)"
   ]
  },
  {
   "cell_type": "code",
   "execution_count": 167,
   "id": "7c1015d6",
   "metadata": {
    "ExecuteTime": {
     "end_time": "2022-10-06T14:25:56.219263Z",
     "start_time": "2022-10-06T14:25:53.260169Z"
    },
    "scrolled": false
   },
   "outputs": [
    {
     "data": {
      "text/html": [
       "<style type=\"text/css\">\n",
       "#T_7570f_row5_col0, #T_7570f_row10_col0, #T_7570f_row11_col0, #T_7570f_row12_col0, #T_7570f_row13_col0, #T_7570f_row14_col0 {\n",
       "  font-weight: bold;\n",
       "  color: red;\n",
       "}\n",
       "</style>\n",
       "<table id=\"T_7570f_\">\n",
       "  <thead>\n",
       "    <tr>\n",
       "      <th class=\"blank level0\" >&nbsp;</th>\n",
       "      <th class=\"col_heading level0 col0\" >perc_nan</th>\n",
       "    </tr>\n",
       "    <tr>\n",
       "      <th class=\"index_name level0\" >col</th>\n",
       "      <th class=\"blank col0\" >&nbsp;</th>\n",
       "    </tr>\n",
       "  </thead>\n",
       "  <tbody>\n",
       "    <tr>\n",
       "      <th id=\"T_7570f_level0_row0\" class=\"row_heading level0 row0\" >title</th>\n",
       "      <td id=\"T_7570f_row0_col0\" class=\"data row0 col0\" >0.000000</td>\n",
       "    </tr>\n",
       "    <tr>\n",
       "      <th id=\"T_7570f_level0_row1\" class=\"row_heading level0 row1\" >authors</th>\n",
       "      <td id=\"T_7570f_row1_col0\" class=\"data row1 col0\" >0.001667</td>\n",
       "    </tr>\n",
       "    <tr>\n",
       "      <th id=\"T_7570f_level0_row2\" class=\"row_heading level0 row2\" >venue</th>\n",
       "      <td id=\"T_7570f_row2_col0\" class=\"data row2 col0\" >0.001667</td>\n",
       "    </tr>\n",
       "    <tr>\n",
       "      <th id=\"T_7570f_level0_row3\" class=\"row_heading level0 row3\" >year</th>\n",
       "      <td id=\"T_7570f_row3_col0\" class=\"data row3 col0\" >0.001667</td>\n",
       "    </tr>\n",
       "    <tr>\n",
       "      <th id=\"T_7570f_level0_row4\" class=\"row_heading level0 row4\" >fos</th>\n",
       "      <td id=\"T_7570f_row4_col0\" class=\"data row4 col0\" >0.921664</td>\n",
       "    </tr>\n",
       "    <tr>\n",
       "      <th id=\"T_7570f_level0_row5\" class=\"row_heading level0 row5\" >references</th>\n",
       "      <td id=\"T_7570f_row5_col0\" class=\"data row5 col0\" >41.443195</td>\n",
       "    </tr>\n",
       "    <tr>\n",
       "      <th id=\"T_7570f_level0_row6\" class=\"row_heading level0 row6\" >n_citation</th>\n",
       "      <td id=\"T_7570f_row6_col0\" class=\"data row6 col0\" >0.001667</td>\n",
       "    </tr>\n",
       "    <tr>\n",
       "      <th id=\"T_7570f_level0_row7\" class=\"row_heading level0 row7\" >page_start</th>\n",
       "      <td id=\"T_7570f_row7_col0\" class=\"data row7 col0\" >10.649631</td>\n",
       "    </tr>\n",
       "    <tr>\n",
       "      <th id=\"T_7570f_level0_row8\" class=\"row_heading level0 row8\" >page_end</th>\n",
       "      <td id=\"T_7570f_row8_col0\" class=\"data row8 col0\" >16.129613</td>\n",
       "    </tr>\n",
       "    <tr>\n",
       "      <th id=\"T_7570f_level0_row9\" class=\"row_heading level0 row9\" >doc_type</th>\n",
       "      <td id=\"T_7570f_row9_col0\" class=\"data row9 col0\" >23.560588</td>\n",
       "    </tr>\n",
       "    <tr>\n",
       "      <th id=\"T_7570f_level0_row10\" class=\"row_heading level0 row10\" >publisher</th>\n",
       "      <td id=\"T_7570f_row10_col0\" class=\"data row10 col0\" >45.484182</td>\n",
       "    </tr>\n",
       "    <tr>\n",
       "      <th id=\"T_7570f_level0_row11\" class=\"row_heading level0 row11\" >volume</th>\n",
       "      <td id=\"T_7570f_row11_col0\" class=\"data row11 col0\" >79.273736</td>\n",
       "    </tr>\n",
       "    <tr>\n",
       "      <th id=\"T_7570f_level0_row12\" class=\"row_heading level0 row12\" >issue</th>\n",
       "      <td id=\"T_7570f_row12_col0\" class=\"data row12 col0\" >91.200696</td>\n",
       "    </tr>\n",
       "    <tr>\n",
       "      <th id=\"T_7570f_level0_row13\" class=\"row_heading level0 row13\" >doi</th>\n",
       "      <td id=\"T_7570f_row13_col0\" class=\"data row13 col0\" >57.819807</td>\n",
       "    </tr>\n",
       "    <tr>\n",
       "      <th id=\"T_7570f_level0_row14\" class=\"row_heading level0 row14\" >indexed_abstract</th>\n",
       "      <td id=\"T_7570f_row14_col0\" class=\"data row14 col0\" >37.891540</td>\n",
       "    </tr>\n",
       "  </tbody>\n",
       "</table>\n"
      ],
      "text/plain": [
       "<pandas.io.formats.style.Styler at 0x15eb7fdc400>"
      ]
     },
     "metadata": {},
     "output_type": "display_data"
    },
    {
     "data": {
      "image/png": "[encoded data removed]",
      "text/plain": [
       "<Figure size 720x576 with 2 Axes>"
      ]
     },
     "metadata": {
      "needs_background": "light"
     },
     "output_type": "display_data"
    }
   ],
   "source": [
    "get_nan(df)"
   ]
  },
  {
   "cell_type": "markdown",
   "id": "a4bfb0f8",
   "metadata": {},
   "source": [
    "## col: Title"
   ]
  },
  {
   "cell_type": "code",
   "execution_count": 336,
   "id": "8d4e8e43",
   "metadata": {
    "ExecuteTime": {
     "end_time": "2022-10-06T15:18:49.563212Z",
     "start_time": "2022-10-06T15:18:49.551281Z"
    }
   },
   "outputs": [],
   "source": [
    "# todo: find most/least popular values (mapa)"
   ]
  },
  {
   "cell_type": "code",
   "execution_count": 177,
   "id": "8f4f6e6f",
   "metadata": {
    "ExecuteTime": {
     "end_time": "2022-10-06T14:27:46.331222Z",
     "start_time": "2022-10-06T14:27:46.324203Z"
    }
   },
   "outputs": [
    {
     "data": {
      "text/plain": [
       "id\n",
       "1091     Preliminary Design of a Network Protocol Learn...\n",
       "1388     Further Results on Independence in Direct-Prod...\n",
       "1674     A methodology for the physically accurate visu...\n",
       "1688     Comparison of GARCH, Neural Network and Suppor...\n",
       "5411     COMPARING GNG3D AND QUADRIC ERROR METRICS METH...\n",
       "5781                   Vectorial fast correlation attacks.\n",
       "6522     Improved Secret Image Sharing Method By Encodi...\n",
       "6762     A Self-Stabilizing Algorithm for Finding the C...\n",
       "8373     Formal agent-oriented ubiquitous computing: a ...\n",
       "8763     Fur Visualisation for Computer Game Engines an...\n",
       "9415     Identifying Psychological Theme Words from Emo...\n",
       "11068    Multisymplectic Spectral Methods for the Gross...\n",
       "11796    The Role of the Board of Directors in IT Gover...\n",
       "11895    Speech training systems using lateral shapes o...\n",
       "12993          Software Evolution through Transformations.\n",
       "Name: title, dtype: object"
      ]
     },
     "execution_count": 177,
     "metadata": {},
     "output_type": "execute_result"
    }
   ],
   "source": [
    "df['title'].head(15)"
   ]
  },
  {
   "cell_type": "code",
   "execution_count": 178,
   "id": "f0ebbd8d",
   "metadata": {
    "ExecuteTime": {
     "end_time": "2022-10-06T14:27:50.852136Z",
     "start_time": "2022-10-06T14:27:50.837114Z"
    }
   },
   "outputs": [
    {
     "data": {
      "text/plain": [
       "id\n",
       "1481989682    Semantic Navigation through Multiple Topic Ont...\n",
       "1481989740        CIPS: coordinated intrusion prevention system\n",
       "1481989822    Hybrid ARQ scheme with antenna permutation for...\n",
       "1481989998    Soft handoff prioritizing algorithm for downli...\n",
       "1481990707    Analytical performance evaluation of distribut...\n",
       "1481991149                               Translating z to alloy\n",
       "1481991844    New decoding strategy for underdetermined MIMO...\n",
       "1481992253               Consistent evolution of OWL ontologies\n",
       "1481992587    The ECOS green buildings project: data dramati...\n",
       "1481992717    Existing plagiarism detection techniques: A sy...\n",
       "1481992918    Weyl variations and local sufficiency of linea...\n",
       "1481993126    A novel design of self-organizing approximator...\n",
       "1481993566     Resource discovery protocol for mobile computing\n",
       "1481994000                                 PIX, the latest NeWS\n",
       "1481994496    iPRIDE: a parallel integrated circuit simulato...\n",
       "Name: title, dtype: object"
      ]
     },
     "execution_count": 178,
     "metadata": {},
     "output_type": "execute_result"
    }
   ],
   "source": [
    "df['title'].tail(15)"
   ]
  },
  {
   "cell_type": "code",
   "execution_count": 191,
   "id": "f0d5c03b",
   "metadata": {
    "ExecuteTime": {
     "end_time": "2022-10-06T14:29:19.553931Z",
     "start_time": "2022-10-06T14:29:19.527940Z"
    }
   },
   "outputs": [
    {
     "data": {
      "text/html": [
       "<div>\n",
       "<style scoped>\n",
       "    .dataframe tbody tr th:only-of-type {\n",
       "        vertical-align: middle;\n",
       "    }\n",
       "\n",
       "    .dataframe tbody tr th {\n",
       "        vertical-align: top;\n",
       "    }\n",
       "\n",
       "    .dataframe thead th {\n",
       "        text-align: right;\n",
       "    }\n",
       "</style>\n",
       "<table border=\"1\" class=\"dataframe\">\n",
       "  <thead>\n",
       "    <tr style=\"text-align: right;\">\n",
       "      <th></th>\n",
       "      <th>title</th>\n",
       "      <th>authors</th>\n",
       "      <th>venue</th>\n",
       "      <th>year</th>\n",
       "      <th>fos</th>\n",
       "      <th>references</th>\n",
       "      <th>n_citation</th>\n",
       "      <th>page_start</th>\n",
       "      <th>page_end</th>\n",
       "      <th>doc_type</th>\n",
       "      <th>publisher</th>\n",
       "      <th>volume</th>\n",
       "      <th>issue</th>\n",
       "      <th>doi</th>\n",
       "      <th>indexed_abstract</th>\n",
       "    </tr>\n",
       "    <tr>\n",
       "      <th>id</th>\n",
       "      <th></th>\n",
       "      <th></th>\n",
       "      <th></th>\n",
       "      <th></th>\n",
       "      <th></th>\n",
       "      <th></th>\n",
       "      <th></th>\n",
       "      <th></th>\n",
       "      <th></th>\n",
       "      <th></th>\n",
       "      <th></th>\n",
       "      <th></th>\n",
       "      <th></th>\n",
       "      <th></th>\n",
       "      <th></th>\n",
       "    </tr>\n",
       "  </thead>\n",
       "  <tbody>\n",
       "    <tr>\n",
       "      <th>1481994000</th>\n",
       "      <td>PIX, the latest NeWS</td>\n",
       "      <td>[{'name': 'W. Leler', 'id': 2711287932}]</td>\n",
       "      <td>{'raw': 'IEEE Computer Society International C...</td>\n",
       "      <td>1989</td>\n",
       "      <td>[{'name': 'Scheduling (computing)', 'w': Decim...</td>\n",
       "      <td>[1734912584]</td>\n",
       "      <td>7.0</td>\n",
       "      <td>239.0</td>\n",
       "      <td>242.0</td>\n",
       "      <td>Conference</td>\n",
       "      <td>IEEE</td>\n",
       "      <td>NaN</td>\n",
       "      <td>NaN</td>\n",
       "      <td>10.1109/CMPCON.1989.301934</td>\n",
       "      <td>{'IndexLength': 161, 'InvertedIndex': {'multip...</td>\n",
       "    </tr>\n",
       "    <tr>\n",
       "      <th>1481991149</th>\n",
       "      <td>Translating z to alloy</td>\n",
       "      <td>[{'name': 'Petra Malik', 'org': 'Victoria Univ...</td>\n",
       "      <td>{'raw': 'Abstract State Machines, Alloy, B and...</td>\n",
       "      <td>2010</td>\n",
       "      <td>[{'name': 'Notation', 'w': Decimal('0.49072')}...</td>\n",
       "      <td>[1481939332, 1481955967, 1491364274, 151950347...</td>\n",
       "      <td>15.0</td>\n",
       "      <td>377.0</td>\n",
       "      <td>390.0</td>\n",
       "      <td>Conference</td>\n",
       "      <td>Springer, Berlin, Heidelberg</td>\n",
       "      <td>NaN</td>\n",
       "      <td>NaN</td>\n",
       "      <td>10.1007/978-3-642-11811-1_28</td>\n",
       "      <td>{'IndexLength': 137, 'InvertedIndex': {'extent...</td>\n",
       "    </tr>\n",
       "  </tbody>\n",
       "</table>\n",
       "</div>"
      ],
      "text/plain": [
       "                             title  \\\n",
       "id                                   \n",
       "1481994000    PIX, the latest NeWS   \n",
       "1481991149  Translating z to alloy   \n",
       "\n",
       "                                                      authors  \\\n",
       "id                                                              \n",
       "1481994000           [{'name': 'W. Leler', 'id': 2711287932}]   \n",
       "1481991149  [{'name': 'Petra Malik', 'org': 'Victoria Univ...   \n",
       "\n",
       "                                                        venue  year  \\\n",
       "id                                                                    \n",
       "1481994000  {'raw': 'IEEE Computer Society International C...  1989   \n",
       "1481991149  {'raw': 'Abstract State Machines, Alloy, B and...  2010   \n",
       "\n",
       "                                                          fos  \\\n",
       "id                                                              \n",
       "1481994000  [{'name': 'Scheduling (computing)', 'w': Decim...   \n",
       "1481991149  [{'name': 'Notation', 'w': Decimal('0.49072')}...   \n",
       "\n",
       "                                                   references  n_citation  \\\n",
       "id                                                                          \n",
       "1481994000                                       [1734912584]         7.0   \n",
       "1481991149  [1481939332, 1481955967, 1491364274, 151950347...        15.0   \n",
       "\n",
       "           page_start page_end    doc_type                     publisher  \\\n",
       "id                                                                         \n",
       "1481994000      239.0    242.0  Conference                          IEEE   \n",
       "1481991149      377.0    390.0  Conference  Springer, Berlin, Heidelberg   \n",
       "\n",
       "            volume issue                           doi  \\\n",
       "id                                                       \n",
       "1481994000     NaN   NaN    10.1109/CMPCON.1989.301934   \n",
       "1481991149     NaN   NaN  10.1007/978-3-642-11811-1_28   \n",
       "\n",
       "                                             indexed_abstract  \n",
       "id                                                             \n",
       "1481994000  {'IndexLength': 161, 'InvertedIndex': {'multip...  \n",
       "1481991149  {'IndexLength': 137, 'InvertedIndex': {'extent...  "
      ]
     },
     "execution_count": 191,
     "metadata": {},
     "output_type": "execute_result"
    }
   ],
   "source": [
    "df.loc[[1481994000, 1481991149]]"
   ]
  },
  {
   "cell_type": "markdown",
   "id": "5b9af696",
   "metadata": {},
   "source": [
    "## col: authors"
   ]
  },
  {
   "cell_type": "code",
   "execution_count": 335,
   "id": "ba4dd3ec",
   "metadata": {
    "ExecuteTime": {
     "end_time": "2022-10-06T15:18:23.245016Z",
     "start_time": "2022-10-06T15:18:23.236023Z"
    }
   },
   "outputs": [],
   "source": [
    "# todo: parse to separate dataframe\n",
    "# todo: create title -> name\n",
    "\n",
    "# \n",
    "# "
   ]
  },
  {
   "cell_type": "code",
   "execution_count": 243,
   "id": "d8196e15",
   "metadata": {
    "ExecuteTime": {
     "end_time": "2022-10-06T14:55:47.726441Z",
     "start_time": "2022-10-06T14:55:47.716442Z"
    }
   },
   "outputs": [],
   "source": [
    "import json\n",
    "import re"
   ]
  },
  {
   "cell_type": "code",
   "execution_count": 231,
   "id": "db80a6cc",
   "metadata": {
    "ExecuteTime": {
     "end_time": "2022-10-06T14:52:05.625264Z",
     "start_time": "2022-10-06T14:52:05.609243Z"
    }
   },
   "outputs": [],
   "source": [
    "p = re.compile('(?<!\\\\\\\\)\\'')\n",
    "s = p.sub('\\\"', tmp)"
   ]
  },
  {
   "cell_type": "code",
   "execution_count": 290,
   "id": "e3ab1419",
   "metadata": {
    "ExecuteTime": {
     "end_time": "2022-10-06T15:12:36.771811Z",
     "start_time": "2022-10-06T15:12:36.744806Z"
    },
    "scrolled": true
   },
   "outputs": [
    {
     "data": {
      "text/plain": [
       "\"{'name': 'Makoto Satoh', 'org': 'Shinshu University', 'id': 2312688602}, {'name': 'Ryo Muramatsu', 'org': 'Shinshu University', 'id': 2482909946}, {'name': 'Mizue Kayama', 'org': 'Shinshu University', 'id': 2128134587}, {'name': 'Kazunori Itoh', 'org': 'Shinshu University', 'id': 2101782692}, {'name': 'Masami Hashimoto', 'org': 'Shinshu University', 'id': 2114054191}, {'name': 'Makoto Otani', 'org': 'Shinshu University', 'id': 1989208940}, {'name': 'Michio Shimizu', 'org': 'Nagano Prefectural College', 'id': 2134989941}, {'name': 'Masahiko Sugimoto', 'org': 'Takushoku University, Hokkaido Junior College', 'id': 2307479915}\""
      ]
     },
     "execution_count": 290,
     "metadata": {},
     "output_type": "execute_result"
    }
   ],
   "source": [
    "tmp = df[['authors']].iloc[0, :][0][1:-1]\n",
    "tmp"
   ]
  },
  {
   "cell_type": "code",
   "execution_count": 291,
   "id": "4d7b49f6",
   "metadata": {
    "ExecuteTime": {
     "end_time": "2022-10-06T15:12:39.334882Z",
     "start_time": "2022-10-06T15:12:39.323868Z"
    }
   },
   "outputs": [
    {
     "data": {
      "text/plain": [
       "\"{{'name': 'Makoto Satoh', 'org': 'Shinshu University', 'id': 2312688602}, {'name': 'Ryo Muramatsu', 'org': 'Shinshu University', 'id': 2482909946}, {'name': 'Mizue Kayama', 'org': 'Shinshu University', 'id': 2128134587}, {'name': 'Kazunori Itoh', 'org': 'Shinshu University', 'id': 2101782692}, {'name': 'Masami Hashimoto', 'org': 'Shinshu University', 'id': 2114054191}, {'name': 'Makoto Otani', 'org': 'Shinshu University', 'id': 1989208940}, {'name': 'Michio Shimizu', 'org': 'Nagano Prefectural College', 'id': 2134989941}, {'name': 'Masahiko Sugimoto', 'org': 'Takushoku University, Hokkaido Junior College', 'id': 2307479915}}\""
      ]
     },
     "execution_count": 291,
     "metadata": {},
     "output_type": "execute_result"
    }
   ],
   "source": [
    "ss = '{' + tmp + '}'\n",
    "ss"
   ]
  },
  {
   "cell_type": "code",
   "execution_count": null,
   "id": "9ed8f5d2",
   "metadata": {},
   "outputs": [],
   "source": []
  },
  {
   "cell_type": "markdown",
   "id": "a16e6bd7",
   "metadata": {},
   "source": [
    "## col: venue"
   ]
  },
  {
   "cell_type": "code",
   "execution_count": 334,
   "id": "a71a30aa",
   "metadata": {
    "ExecuteTime": {
     "end_time": "2022-10-06T15:18:19.817491Z",
     "start_time": "2022-10-06T15:18:19.802474Z"
    }
   },
   "outputs": [],
   "source": [
    "# todo: parse to separate dataframe"
   ]
  },
  {
   "cell_type": "code",
   "execution_count": 331,
   "id": "6e138cc4",
   "metadata": {
    "ExecuteTime": {
     "end_time": "2022-10-06T15:14:48.838694Z",
     "start_time": "2022-10-06T15:14:48.823675Z"
    }
   },
   "outputs": [
    {
     "data": {
      "text/plain": [
       "\"{'raw': 'International Conference on Human-Computer Interaction', 'id': 1127419992, 'type': 'C'}\""
      ]
     },
     "execution_count": 331,
     "metadata": {},
     "output_type": "execute_result"
    }
   ],
   "source": [
    "df[['venue']].iloc[0, 0]"
   ]
  },
  {
   "cell_type": "markdown",
   "id": "c0828fec",
   "metadata": {},
   "source": [
    "## col: year"
   ]
  },
  {
   "cell_type": "code",
   "execution_count": null,
   "id": "a315155c",
   "metadata": {},
   "outputs": [],
   "source": [
    "# todo: to int"
   ]
  },
  {
   "cell_type": "code",
   "execution_count": 333,
   "id": "ebf185ba",
   "metadata": {
    "ExecuteTime": {
     "end_time": "2022-10-06T15:17:48.072055Z",
     "start_time": "2022-10-06T15:17:48.063065Z"
    }
   },
   "outputs": [
    {
     "data": {
      "text/plain": [
       "id\n",
       "1091          2013\n",
       "1388          2000\n",
       "1674          2011\n",
       "1688          2009\n",
       "5411          2009\n",
       "              ... \n",
       "1481992918    2015\n",
       "1481993126    2003\n",
       "1481993566    1996\n",
       "1481994000    1989\n",
       "1481994496    1988\n",
       "Name: year, Length: 300001, dtype: object"
      ]
     },
     "execution_count": 333,
     "metadata": {},
     "output_type": "execute_result"
    }
   ],
   "source": [
    "df['year']"
   ]
  },
  {
   "cell_type": "code",
   "execution_count": null,
   "id": "d9045ba6",
   "metadata": {},
   "outputs": [],
   "source": []
  },
  {
   "cell_type": "markdown",
   "id": "eeefa980",
   "metadata": {},
   "source": [
    "## col: doc_type"
   ]
  },
  {
   "cell_type": "code",
   "execution_count": 175,
   "id": "d67fca29",
   "metadata": {
    "ExecuteTime": {
     "end_time": "2022-10-06T14:27:32.536821Z",
     "start_time": "2022-10-06T14:27:32.450731Z"
    }
   },
   "outputs": [
    {
     "data": {
      "application/vnd.plotly.v1+json": {
       "config": {
        "plotlyServerURL": "https://plot.ly"
       },
       "data": [
        {
         "alignmentgroup": "True",
         "hovertemplate": "doc_type=%{x}<br>count=%{y}<extra></extra>",
         "legendgroup": "Book",
         "marker": {
          "color": "#636efa",
          "pattern": {
           "shape": ""
          }
         },
         "name": "Book",
         "offsetgroup": "Book",
         "orientation": "v",
         "showlegend": true,
         "textposition": "auto",
         "type": "bar",
         "x": [
          "Book"
         ],
         "xaxis": "x",
         "y": [
          922
         ],
         "yaxis": "y"
        },
        {
         "alignmentgroup": "True",
         "hovertemplate": "doc_type=%{x}<br>count=%{y}<extra></extra>",
         "legendgroup": "BookChapter",
         "marker": {
          "color": "#EF553B",
          "pattern": {
           "shape": ""
          }
         },
         "name": "BookChapter",
         "offsetgroup": "BookChapter",
         "orientation": "v",
         "showlegend": true,
         "textposition": "auto",
         "type": "bar",
         "x": [
          "BookChapter"
         ],
         "xaxis": "x",
         "y": [
          4
         ],
         "yaxis": "y"
        },
        {
         "alignmentgroup": "True",
         "hovertemplate": "doc_type=%{x}<br>count=%{y}<extra></extra>",
         "legendgroup": "Conference",
         "marker": {
          "color": "#00cc96",
          "pattern": {
           "shape": ""
          }
         },
         "name": "Conference",
         "offsetgroup": "Conference",
         "orientation": "v",
         "showlegend": true,
         "textposition": "auto",
         "type": "bar",
         "x": [
          "Conference"
         ],
         "xaxis": "x",
         "y": [
          172439
         ],
         "yaxis": "y"
        },
        {
         "alignmentgroup": "True",
         "hovertemplate": "doc_type=%{x}<br>count=%{y}<extra></extra>",
         "legendgroup": "Journal",
         "marker": {
          "color": "#ab63fa",
          "pattern": {
           "shape": ""
          }
         },
         "name": "Journal",
         "offsetgroup": "Journal",
         "orientation": "v",
         "showlegend": true,
         "textposition": "auto",
         "type": "bar",
         "x": [
          "Journal"
         ],
         "xaxis": "x",
         "y": [
          54956
         ],
         "yaxis": "y"
        },
        {
         "alignmentgroup": "True",
         "hovertemplate": "doc_type=%{x}<br>count=%{y}<extra></extra>",
         "legendgroup": "Patent",
         "marker": {
          "color": "#FFA15A",
          "pattern": {
           "shape": ""
          }
         },
         "name": "Patent",
         "offsetgroup": "Patent",
         "orientation": "v",
         "showlegend": true,
         "textposition": "auto",
         "type": "bar",
         "x": [
          "Patent"
         ],
         "xaxis": "x",
         "y": [
          78
         ],
         "yaxis": "y"
        },
        {
         "alignmentgroup": "True",
         "hovertemplate": "doc_type=%{x}<br>count=%{y}<extra></extra>",
         "legendgroup": "Repository",
         "marker": {
          "color": "#19d3f3",
          "pattern": {
           "shape": ""
          }
         },
         "name": "Repository",
         "offsetgroup": "Repository",
         "orientation": "v",
         "showlegend": true,
         "textposition": "auto",
         "type": "bar",
         "x": [
          "Repository"
         ],
         "xaxis": "x",
         "y": [
          920
         ],
         "yaxis": "y"
        }
       ],
       "layout": {
        "barmode": "relative",
        "legend": {
         "title": {
          "text": "doc_type"
         },
         "tracegroupgap": 0
        },
        "margin": {
         "t": 60
        },
        "template": {
         "data": {
          "bar": [
           {
            "error_x": {
             "color": "#2a3f5f"
            },
            "error_y": {
             "color": "#2a3f5f"
            },
            "marker": {
             "line": {
              "color": "#E5ECF6",
              "width": 0.5
             },
             "pattern": {
              "fillmode": "overlay",
              "size": 10,
              "solidity": 0.2
             }
            },
            "type": "bar"
           }
          ],
          "barpolar": [
           {
            "marker": {
             "line": {
              "color": "#E5ECF6",
              "width": 0.5
             },
             "pattern": {
              "fillmode": "overlay",
              "size": 10,
              "solidity": 0.2
             }
            },
            "type": "barpolar"
           }
          ],
          "carpet": [
           {
            "aaxis": {
             "endlinecolor": "#2a3f5f",
             "gridcolor": "white",
             "linecolor": "white",
             "minorgridcolor": "white",
             "startlinecolor": "#2a3f5f"
            },
            "baxis": {
             "endlinecolor": "#2a3f5f",
             "gridcolor": "white",
             "linecolor": "white",
             "minorgridcolor": "white",
             "startlinecolor": "#2a3f5f"
            },
            "type": "carpet"
           }
          ],
          "choropleth": [
           {
            "colorbar": {
             "outlinewidth": 0,
             "ticks": ""
            },
            "type": "choropleth"
           }
          ],
          "contour": [
           {
            "colorbar": {
             "outlinewidth": 0,
             "ticks": ""
            },
            "colorscale": [
             [
              0,
              "#0d0887"
             ],
             [
              0.1111111111111111,
              "#46039f"
             ],
             [
              0.2222222222222222,
              "#7201a8"
             ],
             [
              0.3333333333333333,
              "#9c179e"
             ],
             [
              0.4444444444444444,
              "#bd3786"
             ],
             [
              0.5555555555555556,
              "#d8576b"
             ],
             [
              0.6666666666666666,
              "#ed7953"
             ],
             [
              0.7777777777777778,
              "#fb9f3a"
             ],
             [
              0.8888888888888888,
              "#fdca26"
             ],
             [
              1,
              "#f0f921"
             ]
            ],
            "type": "contour"
           }
          ],
          "contourcarpet": [
           {
            "colorbar": {
             "outlinewidth": 0,
             "ticks": ""
            },
            "type": "contourcarpet"
           }
          ],
          "heatmap": [
           {
            "colorbar": {
             "outlinewidth": 0,
             "ticks": ""
            },
            "colorscale": [
             [
              0,
              "#0d0887"
             ],
             [
              0.1111111111111111,
              "#46039f"
             ],
             [
              0.2222222222222222,
              "#7201a8"
             ],
             [
              0.3333333333333333,
              "#9c179e"
             ],
             [
              0.4444444444444444,
              "#bd3786"
             ],
             [
              0.5555555555555556,
              "#d8576b"
             ],
             [
              0.6666666666666666,
              "#ed7953"
             ],
             [
              0.7777777777777778,
              "#fb9f3a"
             ],
             [
              0.8888888888888888,
              "#fdca26"
             ],
             [
              1,
              "#f0f921"
             ]
            ],
            "type": "heatmap"
           }
          ],
          "heatmapgl": [
           {
            "colorbar": {
             "outlinewidth": 0,
             "ticks": ""
            },
            "colorscale": [
             [
              0,
              "#0d0887"
             ],
             [
              0.1111111111111111,
              "#46039f"
             ],
             [
              0.2222222222222222,
              "#7201a8"
             ],
             [
              0.3333333333333333,
              "#9c179e"
             ],
             [
              0.4444444444444444,
              "#bd3786"
             ],
             [
              0.5555555555555556,
              "#d8576b"
             ],
             [
              0.6666666666666666,
              "#ed7953"
             ],
             [
              0.7777777777777778,
              "#fb9f3a"
             ],
             [
              0.8888888888888888,
              "#fdca26"
             ],
             [
              1,
              "#f0f921"
             ]
            ],
            "type": "heatmapgl"
           }
          ],
          "histogram": [
           {
            "marker": {
             "pattern": {
              "fillmode": "overlay",
              "size": 10,
              "solidity": 0.2
             }
            },
            "type": "histogram"
           }
          ],
          "histogram2d": [
           {
            "colorbar": {
             "outlinewidth": 0,
             "ticks": ""
            },
            "colorscale": [
             [
              0,
              "#0d0887"
             ],
             [
              0.1111111111111111,
              "#46039f"
             ],
             [
              0.2222222222222222,
              "#7201a8"
             ],
             [
              0.3333333333333333,
              "#9c179e"
             ],
             [
              0.4444444444444444,
              "#bd3786"
             ],
             [
              0.5555555555555556,
              "#d8576b"
             ],
             [
              0.6666666666666666,
              "#ed7953"
             ],
             [
              0.7777777777777778,
              "#fb9f3a"
             ],
             [
              0.8888888888888888,
              "#fdca26"
             ],
             [
              1,
              "#f0f921"
             ]
            ],
            "type": "histogram2d"
           }
          ],
          "histogram2dcontour": [
           {
            "colorbar": {
             "outlinewidth": 0,
             "ticks": ""
            },
            "colorscale": [
             [
              0,
              "#0d0887"
             ],
             [
              0.1111111111111111,
              "#46039f"
             ],
             [
              0.2222222222222222,
              "#7201a8"
             ],
             [
              0.3333333333333333,
              "#9c179e"
             ],
             [
              0.4444444444444444,
              "#bd3786"
             ],
             [
              0.5555555555555556,
              "#d8576b"
             ],
             [
              0.6666666666666666,
              "#ed7953"
             ],
             [
              0.7777777777777778,
              "#fb9f3a"
             ],
             [
              0.8888888888888888,
              "#fdca26"
             ],
             [
              1,
              "#f0f921"
             ]
            ],
            "type": "histogram2dcontour"
           }
          ],
          "mesh3d": [
           {
            "colorbar": {
             "outlinewidth": 0,
             "ticks": ""
            },
            "type": "mesh3d"
           }
          ],
          "parcoords": [
           {
            "line": {
             "colorbar": {
              "outlinewidth": 0,
              "ticks": ""
             }
            },
            "type": "parcoords"
           }
          ],
          "pie": [
           {
            "automargin": true,
            "type": "pie"
           }
          ],
          "scatter": [
           {
            "fillpattern": {
             "fillmode": "overlay",
             "size": 10,
             "solidity": 0.2
            },
            "type": "scatter"
           }
          ],
          "scatter3d": [
           {
            "line": {
             "colorbar": {
              "outlinewidth": 0,
              "ticks": ""
             }
            },
            "marker": {
             "colorbar": {
              "outlinewidth": 0,
              "ticks": ""
             }
            },
            "type": "scatter3d"
           }
          ],
          "scattercarpet": [
           {
            "marker": {
             "colorbar": {
              "outlinewidth": 0,
              "ticks": ""
             }
            },
            "type": "scattercarpet"
           }
          ],
          "scattergeo": [
           {
            "marker": {
             "colorbar": {
              "outlinewidth": 0,
              "ticks": ""
             }
            },
            "type": "scattergeo"
           }
          ],
          "scattergl": [
           {
            "marker": {
             "colorbar": {
              "outlinewidth": 0,
              "ticks": ""
             }
            },
            "type": "scattergl"
           }
          ],
          "scattermapbox": [
           {
            "marker": {
             "colorbar": {
              "outlinewidth": 0,
              "ticks": ""
             }
            },
            "type": "scattermapbox"
           }
          ],
          "scatterpolar": [
           {
            "marker": {
             "colorbar": {
              "outlinewidth": 0,
              "ticks": ""
             }
            },
            "type": "scatterpolar"
           }
          ],
          "scatterpolargl": [
           {
            "marker": {
             "colorbar": {
              "outlinewidth": 0,
              "ticks": ""
             }
            },
            "type": "scatterpolargl"
           }
          ],
          "scatterternary": [
           {
            "marker": {
             "colorbar": {
              "outlinewidth": 0,
              "ticks": ""
             }
            },
            "type": "scatterternary"
           }
          ],
          "surface": [
           {
            "colorbar": {
             "outlinewidth": 0,
             "ticks": ""
            },
            "colorscale": [
             [
              0,
              "#0d0887"
             ],
             [
              0.1111111111111111,
              "#46039f"
             ],
             [
              0.2222222222222222,
              "#7201a8"
             ],
             [
              0.3333333333333333,
              "#9c179e"
             ],
             [
              0.4444444444444444,
              "#bd3786"
             ],
             [
              0.5555555555555556,
              "#d8576b"
             ],
             [
              0.6666666666666666,
              "#ed7953"
             ],
             [
              0.7777777777777778,
              "#fb9f3a"
             ],
             [
              0.8888888888888888,
              "#fdca26"
             ],
             [
              1,
              "#f0f921"
             ]
            ],
            "type": "surface"
           }
          ],
          "table": [
           {
            "cells": {
             "fill": {
              "color": "#EBF0F8"
             },
             "line": {
              "color": "white"
             }
            },
            "header": {
             "fill": {
              "color": "#C8D4E3"
             },
             "line": {
              "color": "white"
             }
            },
            "type": "table"
           }
          ]
         },
         "layout": {
          "annotationdefaults": {
           "arrowcolor": "#2a3f5f",
           "arrowhead": 0,
           "arrowwidth": 1
          },
          "autotypenumbers": "strict",
          "coloraxis": {
           "colorbar": {
            "outlinewidth": 0,
            "ticks": ""
           }
          },
          "colorscale": {
           "diverging": [
            [
             0,
             "#8e0152"
            ],
            [
             0.1,
             "#c51b7d"
            ],
            [
             0.2,
             "#de77ae"
            ],
            [
             0.3,
             "#f1b6da"
            ],
            [
             0.4,
             "#fde0ef"
            ],
            [
             0.5,
             "#f7f7f7"
            ],
            [
             0.6,
             "#e6f5d0"
            ],
            [
             0.7,
             "#b8e186"
            ],
            [
             0.8,
             "#7fbc41"
            ],
            [
             0.9,
             "#4d9221"
            ],
            [
             1,
             "#276419"
            ]
           ],
           "sequential": [
            [
             0,
             "#0d0887"
            ],
            [
             0.1111111111111111,
             "#46039f"
            ],
            [
             0.2222222222222222,
             "#7201a8"
            ],
            [
             0.3333333333333333,
             "#9c179e"
            ],
            [
             0.4444444444444444,
             "#bd3786"
            ],
            [
             0.5555555555555556,
             "#d8576b"
            ],
            [
             0.6666666666666666,
             "#ed7953"
            ],
            [
             0.7777777777777778,
             "#fb9f3a"
            ],
            [
             0.8888888888888888,
             "#fdca26"
            ],
            [
             1,
             "#f0f921"
            ]
           ],
           "sequentialminus": [
            [
             0,
             "#0d0887"
            ],
            [
             0.1111111111111111,
             "#46039f"
            ],
            [
             0.2222222222222222,
             "#7201a8"
            ],
            [
             0.3333333333333333,
             "#9c179e"
            ],
            [
             0.4444444444444444,
             "#bd3786"
            ],
            [
             0.5555555555555556,
             "#d8576b"
            ],
            [
             0.6666666666666666,
             "#ed7953"
            ],
            [
             0.7777777777777778,
             "#fb9f3a"
            ],
            [
             0.8888888888888888,
             "#fdca26"
            ],
            [
             1,
             "#f0f921"
            ]
           ]
          },
          "colorway": [
           "#636efa",
           "#EF553B",
           "#00cc96",
           "#ab63fa",
           "#FFA15A",
           "#19d3f3",
           "#FF6692",
           "#B6E880",
           "#FF97FF",
           "#FECB52"
          ],
          "font": {
           "color": "#2a3f5f"
          },
          "geo": {
           "bgcolor": "white",
           "lakecolor": "white",
           "landcolor": "#E5ECF6",
           "showlakes": true,
           "showland": true,
           "subunitcolor": "white"
          },
          "hoverlabel": {
           "align": "left"
          },
          "hovermode": "closest",
          "mapbox": {
           "style": "light"
          },
          "paper_bgcolor": "white",
          "plot_bgcolor": "#E5ECF6",
          "polar": {
           "angularaxis": {
            "gridcolor": "white",
            "linecolor": "white",
            "ticks": ""
           },
           "bgcolor": "#E5ECF6",
           "radialaxis": {
            "gridcolor": "white",
            "linecolor": "white",
            "ticks": ""
           }
          },
          "scene": {
           "xaxis": {
            "backgroundcolor": "#E5ECF6",
            "gridcolor": "white",
            "gridwidth": 2,
            "linecolor": "white",
            "showbackground": true,
            "ticks": "",
            "zerolinecolor": "white"
           },
           "yaxis": {
            "backgroundcolor": "#E5ECF6",
            "gridcolor": "white",
            "gridwidth": 2,
            "linecolor": "white",
            "showbackground": true,
            "ticks": "",
            "zerolinecolor": "white"
           },
           "zaxis": {
            "backgroundcolor": "#E5ECF6",
            "gridcolor": "white",
            "gridwidth": 2,
            "linecolor": "white",
            "showbackground": true,
            "ticks": "",
            "zerolinecolor": "white"
           }
          },
          "shapedefaults": {
           "line": {
            "color": "#2a3f5f"
           }
          },
          "ternary": {
           "aaxis": {
            "gridcolor": "white",
            "linecolor": "white",
            "ticks": ""
           },
           "baxis": {
            "gridcolor": "white",
            "linecolor": "white",
            "ticks": ""
           },
           "bgcolor": "#E5ECF6",
           "caxis": {
            "gridcolor": "white",
            "linecolor": "white",
            "ticks": ""
           }
          },
          "title": {
           "x": 0.05
          },
          "xaxis": {
           "automargin": true,
           "gridcolor": "white",
           "linecolor": "white",
           "ticks": "",
           "title": {
            "standoff": 15
           },
           "zerolinecolor": "white",
           "zerolinewidth": 2
          },
          "yaxis": {
           "automargin": true,
           "gridcolor": "white",
           "linecolor": "white",
           "ticks": "",
           "title": {
            "standoff": 15
           },
           "zerolinecolor": "white",
           "zerolinewidth": 2
          }
         }
        },
        "xaxis": {
         "anchor": "y",
         "categoryarray": [
          "Book",
          "BookChapter",
          "Conference",
          "Journal",
          "Patent",
          "Repository"
         ],
         "categoryorder": "array",
         "domain": [
          0,
          1
         ],
         "title": {
          "text": "doc_type"
         }
        },
        "yaxis": {
         "anchor": "x",
         "domain": [
          0,
          1
         ],
         "title": {
          "text": "count"
         }
        }
       }
      },
      "text/html": [
       "<div>                            <div id=\"112ed973-7c8c-44f3-b05c-4c6b10b78eb6\" class=\"plotly-graph-div\" style=\"height:525px; width:100%;\"></div>            <script type=\"text/javascript\">                require([\"plotly\"], function(Plotly) {                    window.PLOTLYENV=window.PLOTLYENV || {};                                    if (document.getElementById(\"112ed973-7c8c-44f3-b05c-4c6b10b78eb6\")) {                    Plotly.newPlot(                        \"112ed973-7c8c-44f3-b05c-4c6b10b78eb6\",                        [{\"alignmentgroup\":\"True\",\"hovertemplate\":\"doc_type=%{x}<br>count=%{y}<extra></extra>\",\"legendgroup\":\"Book\",\"marker\":{\"color\":\"#636efa\",\"pattern\":{\"shape\":\"\"}},\"name\":\"Book\",\"offsetgroup\":\"Book\",\"orientation\":\"v\",\"showlegend\":true,\"textposition\":\"auto\",\"x\":[\"Book\"],\"xaxis\":\"x\",\"y\":[922],\"yaxis\":\"y\",\"type\":\"bar\"},{\"alignmentgroup\":\"True\",\"hovertemplate\":\"doc_type=%{x}<br>count=%{y}<extra></extra>\",\"legendgroup\":\"BookChapter\",\"marker\":{\"color\":\"#EF553B\",\"pattern\":{\"shape\":\"\"}},\"name\":\"BookChapter\",\"offsetgroup\":\"BookChapter\",\"orientation\":\"v\",\"showlegend\":true,\"textposition\":\"auto\",\"x\":[\"BookChapter\"],\"xaxis\":\"x\",\"y\":[4],\"yaxis\":\"y\",\"type\":\"bar\"},{\"alignmentgroup\":\"True\",\"hovertemplate\":\"doc_type=%{x}<br>count=%{y}<extra></extra>\",\"legendgroup\":\"Conference\",\"marker\":{\"color\":\"#00cc96\",\"pattern\":{\"shape\":\"\"}},\"name\":\"Conference\",\"offsetgroup\":\"Conference\",\"orientation\":\"v\",\"showlegend\":true,\"textposition\":\"auto\",\"x\":[\"Conference\"],\"xaxis\":\"x\",\"y\":[172439],\"yaxis\":\"y\",\"type\":\"bar\"},{\"alignmentgroup\":\"True\",\"hovertemplate\":\"doc_type=%{x}<br>count=%{y}<extra></extra>\",\"legendgroup\":\"Journal\",\"marker\":{\"color\":\"#ab63fa\",\"pattern\":{\"shape\":\"\"}},\"name\":\"Journal\",\"offsetgroup\":\"Journal\",\"orientation\":\"v\",\"showlegend\":true,\"textposition\":\"auto\",\"x\":[\"Journal\"],\"xaxis\":\"x\",\"y\":[54956],\"yaxis\":\"y\",\"type\":\"bar\"},{\"alignmentgroup\":\"True\",\"hovertemplate\":\"doc_type=%{x}<br>count=%{y}<extra></extra>\",\"legendgroup\":\"Patent\",\"marker\":{\"color\":\"#FFA15A\",\"pattern\":{\"shape\":\"\"}},\"name\":\"Patent\",\"offsetgroup\":\"Patent\",\"orientation\":\"v\",\"showlegend\":true,\"textposition\":\"auto\",\"x\":[\"Patent\"],\"xaxis\":\"x\",\"y\":[78],\"yaxis\":\"y\",\"type\":\"bar\"},{\"alignmentgroup\":\"True\",\"hovertemplate\":\"doc_type=%{x}<br>count=%{y}<extra></extra>\",\"legendgroup\":\"Repository\",\"marker\":{\"color\":\"#19d3f3\",\"pattern\":{\"shape\":\"\"}},\"name\":\"Repository\",\"offsetgroup\":\"Repository\",\"orientation\":\"v\",\"showlegend\":true,\"textposition\":\"auto\",\"x\":[\"Repository\"],\"xaxis\":\"x\",\"y\":[920],\"yaxis\":\"y\",\"type\":\"bar\"}],                        {\"template\":{\"data\":{\"histogram2dcontour\":[{\"type\":\"histogram2dcontour\",\"colorbar\":{\"outlinewidth\":0,\"ticks\":\"\"},\"colorscale\":[[0.0,\"#0d0887\"],[0.1111111111111111,\"#46039f\"],[0.2222222222222222,\"#7201a8\"],[0.3333333333333333,\"#9c179e\"],[0.4444444444444444,\"#bd3786\"],[0.5555555555555556,\"#d8576b\"],[0.6666666666666666,\"#ed7953\"],[0.7777777777777778,\"#fb9f3a\"],[0.8888888888888888,\"#fdca26\"],[1.0,\"#f0f921\"]]}],\"choropleth\":[{\"type\":\"choropleth\",\"colorbar\":{\"outlinewidth\":0,\"ticks\":\"\"}}],\"histogram2d\":[{\"type\":\"histogram2d\",\"colorbar\":{\"outlinewidth\":0,\"ticks\":\"\"},\"colorscale\":[[0.0,\"#0d0887\"],[0.1111111111111111,\"#46039f\"],[0.2222222222222222,\"#7201a8\"],[0.3333333333333333,\"#9c179e\"],[0.4444444444444444,\"#bd3786\"],[0.5555555555555556,\"#d8576b\"],[0.6666666666666666,\"#ed7953\"],[0.7777777777777778,\"#fb9f3a\"],[0.8888888888888888,\"#fdca26\"],[1.0,\"#f0f921\"]]}],\"heatmap\":[{\"type\":\"heatmap\",\"colorbar\":{\"outlinewidth\":0,\"ticks\":\"\"},\"colorscale\":[[0.0,\"#0d0887\"],[0.1111111111111111,\"#46039f\"],[0.2222222222222222,\"#7201a8\"],[0.3333333333333333,\"#9c179e\"],[0.4444444444444444,\"#bd3786\"],[0.5555555555555556,\"#d8576b\"],[0.6666666666666666,\"#ed7953\"],[0.7777777777777778,\"#fb9f3a\"],[0.8888888888888888,\"#fdca26\"],[1.0,\"#f0f921\"]]}],\"heatmapgl\":[{\"type\":\"heatmapgl\",\"colorbar\":{\"outlinewidth\":0,\"ticks\":\"\"},\"colorscale\":[[0.0,\"#0d0887\"],[0.1111111111111111,\"#46039f\"],[0.2222222222222222,\"#7201a8\"],[0.3333333333333333,\"#9c179e\"],[0.4444444444444444,\"#bd3786\"],[0.5555555555555556,\"#d8576b\"],[0.6666666666666666,\"#ed7953\"],[0.7777777777777778,\"#fb9f3a\"],[0.8888888888888888,\"#fdca26\"],[1.0,\"#f0f921\"]]}],\"contourcarpet\":[{\"type\":\"contourcarpet\",\"colorbar\":{\"outlinewidth\":0,\"ticks\":\"\"}}],\"contour\":[{\"type\":\"contour\",\"colorbar\":{\"outlinewidth\":0,\"ticks\":\"\"},\"colorscale\":[[0.0,\"#0d0887\"],[0.1111111111111111,\"#46039f\"],[0.2222222222222222,\"#7201a8\"],[0.3333333333333333,\"#9c179e\"],[0.4444444444444444,\"#bd3786\"],[0.5555555555555556,\"#d8576b\"],[0.6666666666666666,\"#ed7953\"],[0.7777777777777778,\"#fb9f3a\"],[0.8888888888888888,\"#fdca26\"],[1.0,\"#f0f921\"]]}],\"surface\":[{\"type\":\"surface\",\"colorbar\":{\"outlinewidth\":0,\"ticks\":\"\"},\"colorscale\":[[0.0,\"#0d0887\"],[0.1111111111111111,\"#46039f\"],[0.2222222222222222,\"#7201a8\"],[0.3333333333333333,\"#9c179e\"],[0.4444444444444444,\"#bd3786\"],[0.5555555555555556,\"#d8576b\"],[0.6666666666666666,\"#ed7953\"],[0.7777777777777778,\"#fb9f3a\"],[0.8888888888888888,\"#fdca26\"],[1.0,\"#f0f921\"]]}],\"mesh3d\":[{\"type\":\"mesh3d\",\"colorbar\":{\"outlinewidth\":0,\"ticks\":\"\"}}],\"scatter\":[{\"fillpattern\":{\"fillmode\":\"overlay\",\"size\":10,\"solidity\":0.2},\"type\":\"scatter\"}],\"parcoords\":[{\"type\":\"parcoords\",\"line\":{\"colorbar\":{\"outlinewidth\":0,\"ticks\":\"\"}}}],\"scatterpolargl\":[{\"type\":\"scatterpolargl\",\"marker\":{\"colorbar\":{\"outlinewidth\":0,\"ticks\":\"\"}}}],\"bar\":[{\"error_x\":{\"color\":\"#2a3f5f\"},\"error_y\":{\"color\":\"#2a3f5f\"},\"marker\":{\"line\":{\"color\":\"#E5ECF6\",\"width\":0.5},\"pattern\":{\"fillmode\":\"overlay\",\"size\":10,\"solidity\":0.2}},\"type\":\"bar\"}],\"scattergeo\":[{\"type\":\"scattergeo\",\"marker\":{\"colorbar\":{\"outlinewidth\":0,\"ticks\":\"\"}}}],\"scatterpolar\":[{\"type\":\"scatterpolar\",\"marker\":{\"colorbar\":{\"outlinewidth\":0,\"ticks\":\"\"}}}],\"histogram\":[{\"marker\":{\"pattern\":{\"fillmode\":\"overlay\",\"size\":10,\"solidity\":0.2}},\"type\":\"histogram\"}],\"scattergl\":[{\"type\":\"scattergl\",\"marker\":{\"colorbar\":{\"outlinewidth\":0,\"ticks\":\"\"}}}],\"scatter3d\":[{\"type\":\"scatter3d\",\"line\":{\"colorbar\":{\"outlinewidth\":0,\"ticks\":\"\"}},\"marker\":{\"colorbar\":{\"outlinewidth\":0,\"ticks\":\"\"}}}],\"scattermapbox\":[{\"type\":\"scattermapbox\",\"marker\":{\"colorbar\":{\"outlinewidth\":0,\"ticks\":\"\"}}}],\"scatterternary\":[{\"type\":\"scatterternary\",\"marker\":{\"colorbar\":{\"outlinewidth\":0,\"ticks\":\"\"}}}],\"scattercarpet\":[{\"type\":\"scattercarpet\",\"marker\":{\"colorbar\":{\"outlinewidth\":0,\"ticks\":\"\"}}}],\"carpet\":[{\"aaxis\":{\"endlinecolor\":\"#2a3f5f\",\"gridcolor\":\"white\",\"linecolor\":\"white\",\"minorgridcolor\":\"white\",\"startlinecolor\":\"#2a3f5f\"},\"baxis\":{\"endlinecolor\":\"#2a3f5f\",\"gridcolor\":\"white\",\"linecolor\":\"white\",\"minorgridcolor\":\"white\",\"startlinecolor\":\"#2a3f5f\"},\"type\":\"carpet\"}],\"table\":[{\"cells\":{\"fill\":{\"color\":\"#EBF0F8\"},\"line\":{\"color\":\"white\"}},\"header\":{\"fill\":{\"color\":\"#C8D4E3\"},\"line\":{\"color\":\"white\"}},\"type\":\"table\"}],\"barpolar\":[{\"marker\":{\"line\":{\"color\":\"#E5ECF6\",\"width\":0.5},\"pattern\":{\"fillmode\":\"overlay\",\"size\":10,\"solidity\":0.2}},\"type\":\"barpolar\"}],\"pie\":[{\"automargin\":true,\"type\":\"pie\"}]},\"layout\":{\"autotypenumbers\":\"strict\",\"colorway\":[\"#636efa\",\"#EF553B\",\"#00cc96\",\"#ab63fa\",\"#FFA15A\",\"#19d3f3\",\"#FF6692\",\"#B6E880\",\"#FF97FF\",\"#FECB52\"],\"font\":{\"color\":\"#2a3f5f\"},\"hovermode\":\"closest\",\"hoverlabel\":{\"align\":\"left\"},\"paper_bgcolor\":\"white\",\"plot_bgcolor\":\"#E5ECF6\",\"polar\":{\"bgcolor\":\"#E5ECF6\",\"angularaxis\":{\"gridcolor\":\"white\",\"linecolor\":\"white\",\"ticks\":\"\"},\"radialaxis\":{\"gridcolor\":\"white\",\"linecolor\":\"white\",\"ticks\":\"\"}},\"ternary\":{\"bgcolor\":\"#E5ECF6\",\"aaxis\":{\"gridcolor\":\"white\",\"linecolor\":\"white\",\"ticks\":\"\"},\"baxis\":{\"gridcolor\":\"white\",\"linecolor\":\"white\",\"ticks\":\"\"},\"caxis\":{\"gridcolor\":\"white\",\"linecolor\":\"white\",\"ticks\":\"\"}},\"coloraxis\":{\"colorbar\":{\"outlinewidth\":0,\"ticks\":\"\"}},\"colorscale\":{\"sequential\":[[0.0,\"#0d0887\"],[0.1111111111111111,\"#46039f\"],[0.2222222222222222,\"#7201a8\"],[0.3333333333333333,\"#9c179e\"],[0.4444444444444444,\"#bd3786\"],[0.5555555555555556,\"#d8576b\"],[0.6666666666666666,\"#ed7953\"],[0.7777777777777778,\"#fb9f3a\"],[0.8888888888888888,\"#fdca26\"],[1.0,\"#f0f921\"]],\"sequentialminus\":[[0.0,\"#0d0887\"],[0.1111111111111111,\"#46039f\"],[0.2222222222222222,\"#7201a8\"],[0.3333333333333333,\"#9c179e\"],[0.4444444444444444,\"#bd3786\"],[0.5555555555555556,\"#d8576b\"],[0.6666666666666666,\"#ed7953\"],[0.7777777777777778,\"#fb9f3a\"],[0.8888888888888888,\"#fdca26\"],[1.0,\"#f0f921\"]],\"diverging\":[[0,\"#8e0152\"],[0.1,\"#c51b7d\"],[0.2,\"#de77ae\"],[0.3,\"#f1b6da\"],[0.4,\"#fde0ef\"],[0.5,\"#f7f7f7\"],[0.6,\"#e6f5d0\"],[0.7,\"#b8e186\"],[0.8,\"#7fbc41\"],[0.9,\"#4d9221\"],[1,\"#276419\"]]},\"xaxis\":{\"gridcolor\":\"white\",\"linecolor\":\"white\",\"ticks\":\"\",\"title\":{\"standoff\":15},\"zerolinecolor\":\"white\",\"automargin\":true,\"zerolinewidth\":2},\"yaxis\":{\"gridcolor\":\"white\",\"linecolor\":\"white\",\"ticks\":\"\",\"title\":{\"standoff\":15},\"zerolinecolor\":\"white\",\"automargin\":true,\"zerolinewidth\":2},\"scene\":{\"xaxis\":{\"backgroundcolor\":\"#E5ECF6\",\"gridcolor\":\"white\",\"linecolor\":\"white\",\"showbackground\":true,\"ticks\":\"\",\"zerolinecolor\":\"white\",\"gridwidth\":2},\"yaxis\":{\"backgroundcolor\":\"#E5ECF6\",\"gridcolor\":\"white\",\"linecolor\":\"white\",\"showbackground\":true,\"ticks\":\"\",\"zerolinecolor\":\"white\",\"gridwidth\":2},\"zaxis\":{\"backgroundcolor\":\"#E5ECF6\",\"gridcolor\":\"white\",\"linecolor\":\"white\",\"showbackground\":true,\"ticks\":\"\",\"zerolinecolor\":\"white\",\"gridwidth\":2}},\"shapedefaults\":{\"line\":{\"color\":\"#2a3f5f\"}},\"annotationdefaults\":{\"arrowcolor\":\"#2a3f5f\",\"arrowhead\":0,\"arrowwidth\":1},\"geo\":{\"bgcolor\":\"white\",\"landcolor\":\"#E5ECF6\",\"subunitcolor\":\"white\",\"showland\":true,\"showlakes\":true,\"lakecolor\":\"white\"},\"title\":{\"x\":0.05},\"mapbox\":{\"style\":\"light\"}}},\"xaxis\":{\"anchor\":\"y\",\"domain\":[0.0,1.0],\"title\":{\"text\":\"doc_type\"},\"categoryorder\":\"array\",\"categoryarray\":[\"Book\",\"BookChapter\",\"Conference\",\"Journal\",\"Patent\",\"Repository\"]},\"yaxis\":{\"anchor\":\"x\",\"domain\":[0.0,1.0],\"title\":{\"text\":\"count\"}},\"legend\":{\"title\":{\"text\":\"doc_type\"},\"tracegroupgap\":0},\"margin\":{\"t\":60},\"barmode\":\"relative\"},                        {\"responsive\": true}                    ).then(function(){\n",
       "                            \n",
       "var gd = document.getElementById('112ed973-7c8c-44f3-b05c-4c6b10b78eb6');\n",
       "var x = new MutationObserver(function (mutations, observer) {{\n",
       "        var display = window.getComputedStyle(gd).display;\n",
       "        if (!display || display === 'none') {{\n",
       "            console.log([gd, 'removed!']);\n",
       "            Plotly.purge(gd);\n",
       "            observer.disconnect();\n",
       "        }}\n",
       "}});\n",
       "\n",
       "// Listen for the removal of the full notebook cells\n",
       "var notebookContainer = gd.closest('#notebook-container');\n",
       "if (notebookContainer) {{\n",
       "    x.observe(notebookContainer, {childList: true});\n",
       "}}\n",
       "\n",
       "// Listen for the clearing of the current output cell\n",
       "var outputEl = gd.closest('.output');\n",
       "if (outputEl) {{\n",
       "    x.observe(outputEl, {childList: true});\n",
       "}}\n",
       "\n",
       "                        })                };                });            </script>        </div>"
      ]
     },
     "metadata": {},
     "output_type": "display_data"
    }
   ],
   "source": [
    "temp = df.groupby('doc_type')[['doc_type']].count()\n",
    "temp.columns = ['count']\n",
    "temp = temp.reset_index()\n",
    "\n",
    "fig = px.bar(temp, x='doc_type', y='count', color='doc_type')\n",
    "fig.show()"
   ]
  },
  {
   "cell_type": "code",
   "execution_count": null,
   "id": "7ad986a0",
   "metadata": {},
   "outputs": [],
   "source": []
  },
  {
   "cell_type": "code",
   "execution_count": 193,
   "id": "5642974b",
   "metadata": {
    "ExecuteTime": {
     "end_time": "2022-10-05T15:42:14.685860Z",
     "start_time": "2022-10-05T15:42:14.668550Z"
    }
   },
   "outputs": [
    {
     "data": {
      "text/plain": [
       "\"[{'name': 'Makoto Satoh', 'org': 'Shinshu University', 'id': 2312688602}, {'name': 'Ryo Muramatsu', 'org': 'Shinshu University', 'id': 2482909946}, {'name': 'Mizue Kayama', 'org': 'Shinshu University', 'id': 2128134587}, {'name': 'Kazunori Itoh', 'org': 'Shinshu University', 'id': 2101782692}, {'name': 'Masami Hashimoto', 'org': 'Shinshu University', 'id': 2114054191}, {'name': 'Makoto Otani', 'org': 'Shinshu University', 'id': 1989208940}, {'name': 'Michio Shimizu', 'org': 'Nagano Prefectural College', 'id': 2134989941}, {'name': 'Masahiko Sugimoto', 'org': 'Takushoku University, Hokkaido Junior College', 'id': 2307479915}]\""
      ]
     },
     "execution_count": 193,
     "metadata": {},
     "output_type": "execute_result"
    }
   ],
   "source": [
    "df['authors']['1091']"
   ]
  },
  {
   "cell_type": "code",
   "execution_count": 8,
   "id": "ccacbf90",
   "metadata": {
    "ExecuteTime": {
     "end_time": "2022-10-05T12:51:57.039662Z",
     "start_time": "2022-10-05T12:51:57.032164Z"
    }
   },
   "outputs": [
    {
     "data": {
      "text/plain": [
       "\"[{'name': 'Telecommunications network', 'w': Decimal('0.45139')}, {'name': 'Computer science', 'w': Decimal('0.45245')}, {'name': 'Mind map', 'w': Decimal('0.5347')}, {'name': 'Human–computer interaction', 'w': Decimal('0.47011')}, {'name': 'Multimedia', 'w': Decimal('0.46629')}, {'name': 'Empirical research', 'w': Decimal('0.49737')}, {'name': 'Comprehension', 'w': Decimal('0.47042')}, {'name': 'Communications protocol', 'w': Decimal('0.51907')}]\""
      ]
     },
     "execution_count": 8,
     "metadata": {},
     "output_type": "execute_result"
    }
   ],
   "source": [
    "df['fos'][0]"
   ]
  },
  {
   "cell_type": "code",
   "execution_count": 9,
   "id": "518b42d5",
   "metadata": {
    "ExecuteTime": {
     "end_time": "2022-10-05T12:52:29.771567Z",
     "start_time": "2022-10-05T12:52:29.755955Z"
    }
   },
   "outputs": [
    {
     "data": {
      "text/plain": [
       "'10.1007/978-3-642-39476-8_19'"
      ]
     },
     "execution_count": 9,
     "metadata": {},
     "output_type": "execute_result"
    }
   ],
   "source": [
    "df['doi'][0]"
   ]
  },
  {
   "cell_type": "code",
   "execution_count": 11,
   "id": "a45f6970",
   "metadata": {
    "ExecuteTime": {
     "end_time": "2022-10-05T12:52:37.287846Z",
     "start_time": "2022-10-05T12:52:37.282898Z"
    }
   },
   "outputs": [
    {
     "data": {
      "text/plain": [
       "\"{'IndexLength': 58, 'InvertedIndex': {'tool.': [42], 'study': [4], 'aim': [37], 'purpose': [1], 'scientific': [17], 'for': [11], 'aspects': [18], 'students': [14, 46], 'focus': [27], 'hands-on': [47], 'learning': [9, 41], 'experience': [48], 'our': [40], 'we': [26], 'network': [33, 56], 'The': [0], 'More': [24], 'high': [12], 'protocols.': [57], 'school': [13], 'and': [21], 'of': [2, 19, 32, 55], 'communication': [22], 'protocols': [34], 'gives': [45], 'on': [28], 'a': [8], 'studying': [15], 'specifically,': [25], 'this': [3], 'understand': [51], 'is': [5], 'develop': [7, 39], 'Our': [43], 'tool': [10, 44], 'the': [16, 29, 36, 52], 'help': [50], 'as': [35], 'principles': [31, 54], 'information': [20], 'networks.': [23], 'to': [6, 38, 49], 'basic': [30, 53]}}\""
      ]
     },
     "execution_count": 11,
     "metadata": {},
     "output_type": "execute_result"
    }
   ],
   "source": [
    "df['indexed_abstract'][0]"
   ]
  },
  {
   "cell_type": "code",
   "execution_count": 144,
   "id": "35dc14bc",
   "metadata": {
    "ExecuteTime": {
     "end_time": "2022-10-05T15:27:33.924996Z",
     "start_time": "2022-10-05T15:27:33.900717Z"
    }
   },
   "outputs": [
    {
     "data": {
      "text/plain": [
       "91.20069599768"
      ]
     },
     "execution_count": 144,
     "metadata": {},
     "output_type": "execute_result"
    }
   ],
   "source": []
  },
  {
   "cell_type": "code",
   "execution_count": 7,
   "id": "f43705fb",
   "metadata": {
    "ExecuteTime": {
     "end_time": "2022-10-05T12:51:35.972659Z",
     "start_time": "2022-10-05T12:51:35.944704Z"
    }
   },
   "outputs": [
    {
     "data": {
      "text/html": [
       "<div>\n",
       "<style scoped>\n",
       "    .dataframe tbody tr th:only-of-type {\n",
       "        vertical-align: middle;\n",
       "    }\n",
       "\n",
       "    .dataframe tbody tr th {\n",
       "        vertical-align: top;\n",
       "    }\n",
       "\n",
       "    .dataframe thead th {\n",
       "        text-align: right;\n",
       "    }\n",
       "</style>\n",
       "<table border=\"1\" class=\"dataframe\">\n",
       "  <thead>\n",
       "    <tr style=\"text-align: right;\">\n",
       "      <th></th>\n",
       "      <th>id</th>\n",
       "      <th>title</th>\n",
       "      <th>authors</th>\n",
       "      <th>venue</th>\n",
       "      <th>year</th>\n",
       "      <th>fos</th>\n",
       "      <th>references</th>\n",
       "      <th>n_citation</th>\n",
       "      <th>page_start</th>\n",
       "      <th>page_end</th>\n",
       "      <th>doc_type</th>\n",
       "      <th>publisher</th>\n",
       "      <th>volume</th>\n",
       "      <th>issue</th>\n",
       "      <th>doi</th>\n",
       "      <th>indexed_abstract</th>\n",
       "    </tr>\n",
       "  </thead>\n",
       "  <tbody>\n",
       "    <tr>\n",
       "      <th>0</th>\n",
       "      <td>1091</td>\n",
       "      <td>Preliminary Design of a Network Protocol Learn...</td>\n",
       "      <td>[{'name': 'Makoto Satoh', 'org': 'Shinshu Univ...</td>\n",
       "      <td>{'raw': 'International Conference on Human-Com...</td>\n",
       "      <td>2013</td>\n",
       "      <td>[{'name': 'Telecommunications network', 'w': D...</td>\n",
       "      <td>[2005687710, 2018037215]</td>\n",
       "      <td>1.0</td>\n",
       "      <td>89</td>\n",
       "      <td>93</td>\n",
       "      <td>Conference</td>\n",
       "      <td>Springer, Berlin, Heidelberg</td>\n",
       "      <td>NaN</td>\n",
       "      <td>NaN</td>\n",
       "      <td>10.1007/978-3-642-39476-8_19</td>\n",
       "      <td>{'IndexLength': 58, 'InvertedIndex': {'tool.':...</td>\n",
       "    </tr>\n",
       "    <tr>\n",
       "      <th>1</th>\n",
       "      <td>1388</td>\n",
       "      <td>Further Results on Independence in Direct-Prod...</td>\n",
       "      <td>[{'name': 'Pranava K. Jha', 'id': 2718958994}]</td>\n",
       "      <td>{'raw': 'Ars Combinatoria', 'id': 73158690, 't...</td>\n",
       "      <td>2000</td>\n",
       "      <td>[{'name': 'Graph', 'w': Decimal('0.0')}, {'nam...</td>\n",
       "      <td>NaN</td>\n",
       "      <td>1.0</td>\n",
       "      <td>NaN</td>\n",
       "      <td>NaN</td>\n",
       "      <td>Journal</td>\n",
       "      <td>NaN</td>\n",
       "      <td>56.0</td>\n",
       "      <td>NaN</td>\n",
       "      <td>NaN</td>\n",
       "      <td>NaN</td>\n",
       "    </tr>\n",
       "    <tr>\n",
       "      <th>2</th>\n",
       "      <td>1674</td>\n",
       "      <td>A methodology for the physically accurate visu...</td>\n",
       "      <td>[{'name': 'G. Beale', 'org': 'Archaeological C...</td>\n",
       "      <td>{'raw': 'International Conference on Virtual R...</td>\n",
       "      <td>2011</td>\n",
       "      <td>[{'name': 'Statue', 'w': Decimal('0.40216')}, ...</td>\n",
       "      <td>[1535888970, 1992876689, 1993710814, 203565334...</td>\n",
       "      <td>1.0</td>\n",
       "      <td>137</td>\n",
       "      <td>144</td>\n",
       "      <td>Conference</td>\n",
       "      <td>Eurographics Association</td>\n",
       "      <td>NaN</td>\n",
       "      <td>NaN</td>\n",
       "      <td>10.2312/VAST/VAST11/137-144</td>\n",
       "      <td>{'IndexLength': 201, 'InvertedIndex': {'illust...</td>\n",
       "    </tr>\n",
       "    <tr>\n",
       "      <th>3</th>\n",
       "      <td>1688</td>\n",
       "      <td>Comparison of GARCH, Neural Network and Suppor...</td>\n",
       "      <td>[{'name': 'Altaf Hossain', 'org': 'Department ...</td>\n",
       "      <td>{'raw': 'Pattern Recognition and Machine Intel...</td>\n",
       "      <td>2009</td>\n",
       "      <td>[{'name': 'Autoregressive–moving-average model...</td>\n",
       "      <td>[1560724230, 1986968751, 2156909104]</td>\n",
       "      <td>6.0</td>\n",
       "      <td>597</td>\n",
       "      <td>602</td>\n",
       "      <td>Conference</td>\n",
       "      <td>Springer, Berlin, Heidelberg</td>\n",
       "      <td>NaN</td>\n",
       "      <td>NaN</td>\n",
       "      <td>10.1007/978-3-642-11164-8_97</td>\n",
       "      <td>{'IndexLength': 64, 'InvertedIndex': {'standar...</td>\n",
       "    </tr>\n",
       "    <tr>\n",
       "      <th>4</th>\n",
       "      <td>5411</td>\n",
       "      <td>COMPARING GNG3D AND QUADRIC ERROR METRICS METH...</td>\n",
       "      <td>[{'name': 'Rafael Álvarez', 'id': 2125293936},...</td>\n",
       "      <td>{'raw': 'International Conference on Computer ...</td>\n",
       "      <td>2009</td>\n",
       "      <td>[{'name': 'Computer vision', 'w': Decimal('0.4...</td>\n",
       "      <td>NaN</td>\n",
       "      <td>0.0</td>\n",
       "      <td>99</td>\n",
       "      <td>102</td>\n",
       "      <td>Conference</td>\n",
       "      <td>NaN</td>\n",
       "      <td>NaN</td>\n",
       "      <td>NaN</td>\n",
       "      <td>NaN</td>\n",
       "      <td>NaN</td>\n",
       "    </tr>\n",
       "    <tr>\n",
       "      <th>...</th>\n",
       "      <td>...</td>\n",
       "      <td>...</td>\n",
       "      <td>...</td>\n",
       "      <td>...</td>\n",
       "      <td>...</td>\n",
       "      <td>...</td>\n",
       "      <td>...</td>\n",
       "      <td>...</td>\n",
       "      <td>...</td>\n",
       "      <td>...</td>\n",
       "      <td>...</td>\n",
       "      <td>...</td>\n",
       "      <td>...</td>\n",
       "      <td>...</td>\n",
       "      <td>...</td>\n",
       "      <td>...</td>\n",
       "    </tr>\n",
       "    <tr>\n",
       "      <th>300006</th>\n",
       "      <td>1481992918</td>\n",
       "      <td>Weyl variations and local sufficiency of linea...</td>\n",
       "      <td>[{'name': 'Igor G. Vladimirov', 'id': 19827660...</td>\n",
       "      <td>{'raw': 'arXiv: Quantum Physics', 'id': 259519...</td>\n",
       "      <td>2015</td>\n",
       "      <td>[{'name': 'Linear combination', 'w': Decimal('...</td>\n",
       "      <td>[1486692963, 2100144423, 2949265413]</td>\n",
       "      <td>1.0</td>\n",
       "      <td>NaN</td>\n",
       "      <td>NaN</td>\n",
       "      <td>Repository</td>\n",
       "      <td>NaN</td>\n",
       "      <td>NaN</td>\n",
       "      <td>NaN</td>\n",
       "      <td>NaN</td>\n",
       "      <td>{'IndexLength': 178, 'InvertedIndex': {'cohere...</td>\n",
       "    </tr>\n",
       "    <tr>\n",
       "      <th>300007</th>\n",
       "      <td>1481993126</td>\n",
       "      <td>A novel design of self-organizing approximator...</td>\n",
       "      <td>[{'name': 'Dong-Won Kim', 'org': 'Dept. of Ele...</td>\n",
       "      <td>{'raw': 'Systems, Man and Cybernetics', 'id': ...</td>\n",
       "      <td>2003</td>\n",
       "      <td>[{'name': 'Heuristic', 'w': Decimal('0.48582')...</td>\n",
       "      <td>[1639032689, 1966423772, 1984810512, 203147052...</td>\n",
       "      <td>3.0</td>\n",
       "      <td>4643.0</td>\n",
       "      <td>4648.0</td>\n",
       "      <td>Conference</td>\n",
       "      <td>IEEE</td>\n",
       "      <td>5.0</td>\n",
       "      <td>NaN</td>\n",
       "      <td>10.1109/ICSMC.2003.1245716</td>\n",
       "      <td>{'IndexLength': 160, 'InvertedIndex': {'modeli...</td>\n",
       "    </tr>\n",
       "    <tr>\n",
       "      <th>300008</th>\n",
       "      <td>1481993566</td>\n",
       "      <td>Resource discovery protocol for mobile computing</td>\n",
       "      <td>[{'name': 'Charles E. Perkins', 'org': 'IBM T....</td>\n",
       "      <td>{'raw': 'Mobile Networks and Applications', 'i...</td>\n",
       "      <td>1996</td>\n",
       "      <td>[{'name': 'Mobile technology', 'w': Decimal('0...</td>\n",
       "      <td>[1529205966, 1641167210, 1761598307, 177566302...</td>\n",
       "      <td>31.0</td>\n",
       "      <td>447.0</td>\n",
       "      <td>455.0</td>\n",
       "      <td>Journal</td>\n",
       "      <td>Springer-Verlag New York, Inc.</td>\n",
       "      <td>1.0</td>\n",
       "      <td>4.0</td>\n",
       "      <td>10.1007/978-0-387-34980-0_22</td>\n",
       "      <td>{'IndexLength': 72, 'InvertedIndex': {'tested'...</td>\n",
       "    </tr>\n",
       "    <tr>\n",
       "      <th>300009</th>\n",
       "      <td>1481994000</td>\n",
       "      <td>PIX, the latest NeWS</td>\n",
       "      <td>[{'name': 'W. Leler', 'id': 2711287932}]</td>\n",
       "      <td>{'raw': 'IEEE Computer Society International C...</td>\n",
       "      <td>1989</td>\n",
       "      <td>[{'name': 'Scheduling (computing)', 'w': Decim...</td>\n",
       "      <td>[1734912584]</td>\n",
       "      <td>7.0</td>\n",
       "      <td>239.0</td>\n",
       "      <td>242.0</td>\n",
       "      <td>Conference</td>\n",
       "      <td>IEEE</td>\n",
       "      <td>NaN</td>\n",
       "      <td>NaN</td>\n",
       "      <td>10.1109/CMPCON.1989.301934</td>\n",
       "      <td>{'IndexLength': 161, 'InvertedIndex': {'multip...</td>\n",
       "    </tr>\n",
       "    <tr>\n",
       "      <th>300010</th>\n",
       "      <td>1481994496</td>\n",
       "      <td>iPRIDE: a parallel integrated circuit simulato...</td>\n",
       "      <td>[{'name': 'Mi-Chang Chang', 'org': 'Dept. of E...</td>\n",
       "      <td>{'raw': 'International Conference on Computer ...</td>\n",
       "      <td>1988</td>\n",
       "      <td>[{'name': 'Direct method', 'w': Decimal('0.489...</td>\n",
       "      <td>[1510015875, 2021854760, 2028754841, 203403634...</td>\n",
       "      <td>17.0</td>\n",
       "      <td>304.0</td>\n",
       "      <td>307.0</td>\n",
       "      <td>Conference</td>\n",
       "      <td>IEEE</td>\n",
       "      <td>NaN</td>\n",
       "      <td>NaN</td>\n",
       "      <td>10.1109/ICCAD.1988.122516</td>\n",
       "      <td>{'IndexLength': 145, 'InvertedIndex': {'u003e'...</td>\n",
       "    </tr>\n",
       "  </tbody>\n",
       "</table>\n",
       "<p>300011 rows × 16 columns</p>\n",
       "</div>"
      ],
      "text/plain": [
       "                id                                              title  \\\n",
       "0             1091  Preliminary Design of a Network Protocol Learn...   \n",
       "1             1388  Further Results on Independence in Direct-Prod...   \n",
       "2             1674  A methodology for the physically accurate visu...   \n",
       "3             1688  Comparison of GARCH, Neural Network and Suppor...   \n",
       "4             5411  COMPARING GNG3D AND QUADRIC ERROR METRICS METH...   \n",
       "...            ...                                                ...   \n",
       "300006  1481992918  Weyl variations and local sufficiency of linea...   \n",
       "300007  1481993126  A novel design of self-organizing approximator...   \n",
       "300008  1481993566   Resource discovery protocol for mobile computing   \n",
       "300009  1481994000                               PIX, the latest NeWS   \n",
       "300010  1481994496  iPRIDE: a parallel integrated circuit simulato...   \n",
       "\n",
       "                                                  authors  \\\n",
       "0       [{'name': 'Makoto Satoh', 'org': 'Shinshu Univ...   \n",
       "1          [{'name': 'Pranava K. Jha', 'id': 2718958994}]   \n",
       "2       [{'name': 'G. Beale', 'org': 'Archaeological C...   \n",
       "3       [{'name': 'Altaf Hossain', 'org': 'Department ...   \n",
       "4       [{'name': 'Rafael Álvarez', 'id': 2125293936},...   \n",
       "...                                                   ...   \n",
       "300006  [{'name': 'Igor G. Vladimirov', 'id': 19827660...   \n",
       "300007  [{'name': 'Dong-Won Kim', 'org': 'Dept. of Ele...   \n",
       "300008  [{'name': 'Charles E. Perkins', 'org': 'IBM T....   \n",
       "300009           [{'name': 'W. Leler', 'id': 2711287932}]   \n",
       "300010  [{'name': 'Mi-Chang Chang', 'org': 'Dept. of E...   \n",
       "\n",
       "                                                    venue  year  \\\n",
       "0       {'raw': 'International Conference on Human-Com...  2013   \n",
       "1       {'raw': 'Ars Combinatoria', 'id': 73158690, 't...  2000   \n",
       "2       {'raw': 'International Conference on Virtual R...  2011   \n",
       "3       {'raw': 'Pattern Recognition and Machine Intel...  2009   \n",
       "4       {'raw': 'International Conference on Computer ...  2009   \n",
       "...                                                   ...   ...   \n",
       "300006  {'raw': 'arXiv: Quantum Physics', 'id': 259519...  2015   \n",
       "300007  {'raw': 'Systems, Man and Cybernetics', 'id': ...  2003   \n",
       "300008  {'raw': 'Mobile Networks and Applications', 'i...  1996   \n",
       "300009  {'raw': 'IEEE Computer Society International C...  1989   \n",
       "300010  {'raw': 'International Conference on Computer ...  1988   \n",
       "\n",
       "                                                      fos  \\\n",
       "0       [{'name': 'Telecommunications network', 'w': D...   \n",
       "1       [{'name': 'Graph', 'w': Decimal('0.0')}, {'nam...   \n",
       "2       [{'name': 'Statue', 'w': Decimal('0.40216')}, ...   \n",
       "3       [{'name': 'Autoregressive–moving-average model...   \n",
       "4       [{'name': 'Computer vision', 'w': Decimal('0.4...   \n",
       "...                                                   ...   \n",
       "300006  [{'name': 'Linear combination', 'w': Decimal('...   \n",
       "300007  [{'name': 'Heuristic', 'w': Decimal('0.48582')...   \n",
       "300008  [{'name': 'Mobile technology', 'w': Decimal('0...   \n",
       "300009  [{'name': 'Scheduling (computing)', 'w': Decim...   \n",
       "300010  [{'name': 'Direct method', 'w': Decimal('0.489...   \n",
       "\n",
       "                                               references  n_citation  \\\n",
       "0                                [2005687710, 2018037215]         1.0   \n",
       "1                                                     NaN         1.0   \n",
       "2       [1535888970, 1992876689, 1993710814, 203565334...         1.0   \n",
       "3                    [1560724230, 1986968751, 2156909104]         6.0   \n",
       "4                                                     NaN         0.0   \n",
       "...                                                   ...         ...   \n",
       "300006               [1486692963, 2100144423, 2949265413]         1.0   \n",
       "300007  [1639032689, 1966423772, 1984810512, 203147052...         3.0   \n",
       "300008  [1529205966, 1641167210, 1761598307, 177566302...        31.0   \n",
       "300009                                       [1734912584]         7.0   \n",
       "300010  [1510015875, 2021854760, 2028754841, 203403634...        17.0   \n",
       "\n",
       "       page_start page_end    doc_type                       publisher  \\\n",
       "0              89       93  Conference    Springer, Berlin, Heidelberg   \n",
       "1             NaN      NaN     Journal                             NaN   \n",
       "2             137      144  Conference        Eurographics Association   \n",
       "3             597      602  Conference    Springer, Berlin, Heidelberg   \n",
       "4              99      102  Conference                             NaN   \n",
       "...           ...      ...         ...                             ...   \n",
       "300006        NaN      NaN  Repository                             NaN   \n",
       "300007     4643.0   4648.0  Conference                            IEEE   \n",
       "300008      447.0    455.0     Journal  Springer-Verlag New York, Inc.   \n",
       "300009      239.0    242.0  Conference                            IEEE   \n",
       "300010      304.0    307.0  Conference                            IEEE   \n",
       "\n",
       "        volume issue                           doi  \\\n",
       "0          NaN   NaN  10.1007/978-3-642-39476-8_19   \n",
       "1         56.0   NaN                           NaN   \n",
       "2          NaN   NaN   10.2312/VAST/VAST11/137-144   \n",
       "3          NaN   NaN  10.1007/978-3-642-11164-8_97   \n",
       "4          NaN   NaN                           NaN   \n",
       "...        ...   ...                           ...   \n",
       "300006     NaN   NaN                           NaN   \n",
       "300007     5.0   NaN    10.1109/ICSMC.2003.1245716   \n",
       "300008     1.0   4.0  10.1007/978-0-387-34980-0_22   \n",
       "300009     NaN   NaN    10.1109/CMPCON.1989.301934   \n",
       "300010     NaN   NaN     10.1109/ICCAD.1988.122516   \n",
       "\n",
       "                                         indexed_abstract  \n",
       "0       {'IndexLength': 58, 'InvertedIndex': {'tool.':...  \n",
       "1                                                     NaN  \n",
       "2       {'IndexLength': 201, 'InvertedIndex': {'illust...  \n",
       "3       {'IndexLength': 64, 'InvertedIndex': {'standar...  \n",
       "4                                                     NaN  \n",
       "...                                                   ...  \n",
       "300006  {'IndexLength': 178, 'InvertedIndex': {'cohere...  \n",
       "300007  {'IndexLength': 160, 'InvertedIndex': {'modeli...  \n",
       "300008  {'IndexLength': 72, 'InvertedIndex': {'tested'...  \n",
       "300009  {'IndexLength': 161, 'InvertedIndex': {'multip...  \n",
       "300010  {'IndexLength': 145, 'InvertedIndex': {'u003e'...  \n",
       "\n",
       "[300011 rows x 16 columns]"
      ]
     },
     "execution_count": 7,
     "metadata": {},
     "output_type": "execute_result"
    }
   ],
   "source": [
    "df"
   ]
  },
  {
   "cell_type": "code",
   "execution_count": 17,
   "id": "4a22bcb0",
   "metadata": {
    "ExecuteTime": {
     "end_time": "2022-10-05T13:23:38.270450Z",
     "start_time": "2022-10-05T13:23:38.244370Z"
    }
   },
   "outputs": [
    {
     "data": {
      "text/html": [
       "<div>\n",
       "<style scoped>\n",
       "    .dataframe tbody tr th:only-of-type {\n",
       "        vertical-align: middle;\n",
       "    }\n",
       "\n",
       "    .dataframe tbody tr th {\n",
       "        vertical-align: top;\n",
       "    }\n",
       "\n",
       "    .dataframe thead th {\n",
       "        text-align: right;\n",
       "    }\n",
       "</style>\n",
       "<table border=\"1\" class=\"dataframe\">\n",
       "  <thead>\n",
       "    <tr style=\"text-align: right;\">\n",
       "      <th></th>\n",
       "      <th>id</th>\n",
       "      <th>title</th>\n",
       "      <th>authors</th>\n",
       "      <th>venue</th>\n",
       "      <th>year</th>\n",
       "      <th>fos</th>\n",
       "      <th>references</th>\n",
       "      <th>n_citation</th>\n",
       "      <th>page_start</th>\n",
       "      <th>page_end</th>\n",
       "      <th>doc_type</th>\n",
       "      <th>publisher</th>\n",
       "      <th>volume</th>\n",
       "      <th>issue</th>\n",
       "      <th>doi</th>\n",
       "      <th>indexed_abstract</th>\n",
       "    </tr>\n",
       "  </thead>\n",
       "  <tbody>\n",
       "    <tr>\n",
       "      <th>0</th>\n",
       "      <td>1091</td>\n",
       "      <td>Preliminary Design of a Network Protocol Learn...</td>\n",
       "      <td>[{'name': 'Makoto Satoh', 'org': 'Shinshu Univ...</td>\n",
       "      <td>{'raw': 'International Conference on Human-Com...</td>\n",
       "      <td>2013</td>\n",
       "      <td>[{'name': 'Telecommunications network', 'w': D...</td>\n",
       "      <td>[2005687710, 2018037215]</td>\n",
       "      <td>1.0</td>\n",
       "      <td>89</td>\n",
       "      <td>93</td>\n",
       "      <td>Conference</td>\n",
       "      <td>Springer, Berlin, Heidelberg</td>\n",
       "      <td>NaN</td>\n",
       "      <td>NaN</td>\n",
       "      <td>10.1007/978-3-642-39476-8_19</td>\n",
       "      <td>{'IndexLength': 58, 'InvertedIndex': {'tool.':...</td>\n",
       "    </tr>\n",
       "    <tr>\n",
       "      <th>1</th>\n",
       "      <td>1388</td>\n",
       "      <td>Further Results on Independence in Direct-Prod...</td>\n",
       "      <td>[{'name': 'Pranava K. Jha', 'id': 2718958994}]</td>\n",
       "      <td>{'raw': 'Ars Combinatoria', 'id': 73158690, 't...</td>\n",
       "      <td>2000</td>\n",
       "      <td>[{'name': 'Graph', 'w': Decimal('0.0')}, {'nam...</td>\n",
       "      <td>NaN</td>\n",
       "      <td>1.0</td>\n",
       "      <td>NaN</td>\n",
       "      <td>NaN</td>\n",
       "      <td>Journal</td>\n",
       "      <td>NaN</td>\n",
       "      <td>56.0</td>\n",
       "      <td>NaN</td>\n",
       "      <td>NaN</td>\n",
       "      <td>NaN</td>\n",
       "    </tr>\n",
       "    <tr>\n",
       "      <th>2</th>\n",
       "      <td>1674</td>\n",
       "      <td>A methodology for the physically accurate visu...</td>\n",
       "      <td>[{'name': 'G. Beale', 'org': 'Archaeological C...</td>\n",
       "      <td>{'raw': 'International Conference on Virtual R...</td>\n",
       "      <td>2011</td>\n",
       "      <td>[{'name': 'Statue', 'w': Decimal('0.40216')}, ...</td>\n",
       "      <td>[1535888970, 1992876689, 1993710814, 203565334...</td>\n",
       "      <td>1.0</td>\n",
       "      <td>137</td>\n",
       "      <td>144</td>\n",
       "      <td>Conference</td>\n",
       "      <td>Eurographics Association</td>\n",
       "      <td>NaN</td>\n",
       "      <td>NaN</td>\n",
       "      <td>10.2312/VAST/VAST11/137-144</td>\n",
       "      <td>{'IndexLength': 201, 'InvertedIndex': {'illust...</td>\n",
       "    </tr>\n",
       "    <tr>\n",
       "      <th>3</th>\n",
       "      <td>1688</td>\n",
       "      <td>Comparison of GARCH, Neural Network and Suppor...</td>\n",
       "      <td>[{'name': 'Altaf Hossain', 'org': 'Department ...</td>\n",
       "      <td>{'raw': 'Pattern Recognition and Machine Intel...</td>\n",
       "      <td>2009</td>\n",
       "      <td>[{'name': 'Autoregressive–moving-average model...</td>\n",
       "      <td>[1560724230, 1986968751, 2156909104]</td>\n",
       "      <td>6.0</td>\n",
       "      <td>597</td>\n",
       "      <td>602</td>\n",
       "      <td>Conference</td>\n",
       "      <td>Springer, Berlin, Heidelberg</td>\n",
       "      <td>NaN</td>\n",
       "      <td>NaN</td>\n",
       "      <td>10.1007/978-3-642-11164-8_97</td>\n",
       "      <td>{'IndexLength': 64, 'InvertedIndex': {'standar...</td>\n",
       "    </tr>\n",
       "    <tr>\n",
       "      <th>4</th>\n",
       "      <td>5411</td>\n",
       "      <td>COMPARING GNG3D AND QUADRIC ERROR METRICS METH...</td>\n",
       "      <td>[{'name': 'Rafael Álvarez', 'id': 2125293936},...</td>\n",
       "      <td>{'raw': 'International Conference on Computer ...</td>\n",
       "      <td>2009</td>\n",
       "      <td>[{'name': 'Computer vision', 'w': Decimal('0.4...</td>\n",
       "      <td>NaN</td>\n",
       "      <td>0.0</td>\n",
       "      <td>99</td>\n",
       "      <td>102</td>\n",
       "      <td>Conference</td>\n",
       "      <td>NaN</td>\n",
       "      <td>NaN</td>\n",
       "      <td>NaN</td>\n",
       "      <td>NaN</td>\n",
       "      <td>NaN</td>\n",
       "    </tr>\n",
       "    <tr>\n",
       "      <th>...</th>\n",
       "      <td>...</td>\n",
       "      <td>...</td>\n",
       "      <td>...</td>\n",
       "      <td>...</td>\n",
       "      <td>...</td>\n",
       "      <td>...</td>\n",
       "      <td>...</td>\n",
       "      <td>...</td>\n",
       "      <td>...</td>\n",
       "      <td>...</td>\n",
       "      <td>...</td>\n",
       "      <td>...</td>\n",
       "      <td>...</td>\n",
       "      <td>...</td>\n",
       "      <td>...</td>\n",
       "      <td>...</td>\n",
       "    </tr>\n",
       "    <tr>\n",
       "      <th>300006</th>\n",
       "      <td>1481992918</td>\n",
       "      <td>Weyl variations and local sufficiency of linea...</td>\n",
       "      <td>[{'name': 'Igor G. Vladimirov', 'id': 19827660...</td>\n",
       "      <td>{'raw': 'arXiv: Quantum Physics', 'id': 259519...</td>\n",
       "      <td>2015</td>\n",
       "      <td>[{'name': 'Linear combination', 'w': Decimal('...</td>\n",
       "      <td>[1486692963, 2100144423, 2949265413]</td>\n",
       "      <td>1.0</td>\n",
       "      <td>NaN</td>\n",
       "      <td>NaN</td>\n",
       "      <td>Repository</td>\n",
       "      <td>NaN</td>\n",
       "      <td>NaN</td>\n",
       "      <td>NaN</td>\n",
       "      <td>NaN</td>\n",
       "      <td>{'IndexLength': 178, 'InvertedIndex': {'cohere...</td>\n",
       "    </tr>\n",
       "    <tr>\n",
       "      <th>300007</th>\n",
       "      <td>1481993126</td>\n",
       "      <td>A novel design of self-organizing approximator...</td>\n",
       "      <td>[{'name': 'Dong-Won Kim', 'org': 'Dept. of Ele...</td>\n",
       "      <td>{'raw': 'Systems, Man and Cybernetics', 'id': ...</td>\n",
       "      <td>2003</td>\n",
       "      <td>[{'name': 'Heuristic', 'w': Decimal('0.48582')...</td>\n",
       "      <td>[1639032689, 1966423772, 1984810512, 203147052...</td>\n",
       "      <td>3.0</td>\n",
       "      <td>4643.0</td>\n",
       "      <td>4648.0</td>\n",
       "      <td>Conference</td>\n",
       "      <td>IEEE</td>\n",
       "      <td>5.0</td>\n",
       "      <td>NaN</td>\n",
       "      <td>10.1109/ICSMC.2003.1245716</td>\n",
       "      <td>{'IndexLength': 160, 'InvertedIndex': {'modeli...</td>\n",
       "    </tr>\n",
       "    <tr>\n",
       "      <th>300008</th>\n",
       "      <td>1481993566</td>\n",
       "      <td>Resource discovery protocol for mobile computing</td>\n",
       "      <td>[{'name': 'Charles E. Perkins', 'org': 'IBM T....</td>\n",
       "      <td>{'raw': 'Mobile Networks and Applications', 'i...</td>\n",
       "      <td>1996</td>\n",
       "      <td>[{'name': 'Mobile technology', 'w': Decimal('0...</td>\n",
       "      <td>[1529205966, 1641167210, 1761598307, 177566302...</td>\n",
       "      <td>31.0</td>\n",
       "      <td>447.0</td>\n",
       "      <td>455.0</td>\n",
       "      <td>Journal</td>\n",
       "      <td>Springer-Verlag New York, Inc.</td>\n",
       "      <td>1.0</td>\n",
       "      <td>4.0</td>\n",
       "      <td>10.1007/978-0-387-34980-0_22</td>\n",
       "      <td>{'IndexLength': 72, 'InvertedIndex': {'tested'...</td>\n",
       "    </tr>\n",
       "    <tr>\n",
       "      <th>300009</th>\n",
       "      <td>1481994000</td>\n",
       "      <td>PIX, the latest NeWS</td>\n",
       "      <td>[{'name': 'W. Leler', 'id': 2711287932}]</td>\n",
       "      <td>{'raw': 'IEEE Computer Society International C...</td>\n",
       "      <td>1989</td>\n",
       "      <td>[{'name': 'Scheduling (computing)', 'w': Decim...</td>\n",
       "      <td>[1734912584]</td>\n",
       "      <td>7.0</td>\n",
       "      <td>239.0</td>\n",
       "      <td>242.0</td>\n",
       "      <td>Conference</td>\n",
       "      <td>IEEE</td>\n",
       "      <td>NaN</td>\n",
       "      <td>NaN</td>\n",
       "      <td>10.1109/CMPCON.1989.301934</td>\n",
       "      <td>{'IndexLength': 161, 'InvertedIndex': {'multip...</td>\n",
       "    </tr>\n",
       "    <tr>\n",
       "      <th>300010</th>\n",
       "      <td>1481994496</td>\n",
       "      <td>iPRIDE: a parallel integrated circuit simulato...</td>\n",
       "      <td>[{'name': 'Mi-Chang Chang', 'org': 'Dept. of E...</td>\n",
       "      <td>{'raw': 'International Conference on Computer ...</td>\n",
       "      <td>1988</td>\n",
       "      <td>[{'name': 'Direct method', 'w': Decimal('0.489...</td>\n",
       "      <td>[1510015875, 2021854760, 2028754841, 203403634...</td>\n",
       "      <td>17.0</td>\n",
       "      <td>304.0</td>\n",
       "      <td>307.0</td>\n",
       "      <td>Conference</td>\n",
       "      <td>IEEE</td>\n",
       "      <td>NaN</td>\n",
       "      <td>NaN</td>\n",
       "      <td>10.1109/ICCAD.1988.122516</td>\n",
       "      <td>{'IndexLength': 145, 'InvertedIndex': {'u003e'...</td>\n",
       "    </tr>\n",
       "  </tbody>\n",
       "</table>\n",
       "<p>300011 rows × 16 columns</p>\n",
       "</div>"
      ],
      "text/plain": [
       "                id                                              title  \\\n",
       "0             1091  Preliminary Design of a Network Protocol Learn...   \n",
       "1             1388  Further Results on Independence in Direct-Prod...   \n",
       "2             1674  A methodology for the physically accurate visu...   \n",
       "3             1688  Comparison of GARCH, Neural Network and Suppor...   \n",
       "4             5411  COMPARING GNG3D AND QUADRIC ERROR METRICS METH...   \n",
       "...            ...                                                ...   \n",
       "300006  1481992918  Weyl variations and local sufficiency of linea...   \n",
       "300007  1481993126  A novel design of self-organizing approximator...   \n",
       "300008  1481993566   Resource discovery protocol for mobile computing   \n",
       "300009  1481994000                               PIX, the latest NeWS   \n",
       "300010  1481994496  iPRIDE: a parallel integrated circuit simulato...   \n",
       "\n",
       "                                                  authors  \\\n",
       "0       [{'name': 'Makoto Satoh', 'org': 'Shinshu Univ...   \n",
       "1          [{'name': 'Pranava K. Jha', 'id': 2718958994}]   \n",
       "2       [{'name': 'G. Beale', 'org': 'Archaeological C...   \n",
       "3       [{'name': 'Altaf Hossain', 'org': 'Department ...   \n",
       "4       [{'name': 'Rafael Álvarez', 'id': 2125293936},...   \n",
       "...                                                   ...   \n",
       "300006  [{'name': 'Igor G. Vladimirov', 'id': 19827660...   \n",
       "300007  [{'name': 'Dong-Won Kim', 'org': 'Dept. of Ele...   \n",
       "300008  [{'name': 'Charles E. Perkins', 'org': 'IBM T....   \n",
       "300009           [{'name': 'W. Leler', 'id': 2711287932}]   \n",
       "300010  [{'name': 'Mi-Chang Chang', 'org': 'Dept. of E...   \n",
       "\n",
       "                                                    venue  year  \\\n",
       "0       {'raw': 'International Conference on Human-Com...  2013   \n",
       "1       {'raw': 'Ars Combinatoria', 'id': 73158690, 't...  2000   \n",
       "2       {'raw': 'International Conference on Virtual R...  2011   \n",
       "3       {'raw': 'Pattern Recognition and Machine Intel...  2009   \n",
       "4       {'raw': 'International Conference on Computer ...  2009   \n",
       "...                                                   ...   ...   \n",
       "300006  {'raw': 'arXiv: Quantum Physics', 'id': 259519...  2015   \n",
       "300007  {'raw': 'Systems, Man and Cybernetics', 'id': ...  2003   \n",
       "300008  {'raw': 'Mobile Networks and Applications', 'i...  1996   \n",
       "300009  {'raw': 'IEEE Computer Society International C...  1989   \n",
       "300010  {'raw': 'International Conference on Computer ...  1988   \n",
       "\n",
       "                                                      fos  \\\n",
       "0       [{'name': 'Telecommunications network', 'w': D...   \n",
       "1       [{'name': 'Graph', 'w': Decimal('0.0')}, {'nam...   \n",
       "2       [{'name': 'Statue', 'w': Decimal('0.40216')}, ...   \n",
       "3       [{'name': 'Autoregressive–moving-average model...   \n",
       "4       [{'name': 'Computer vision', 'w': Decimal('0.4...   \n",
       "...                                                   ...   \n",
       "300006  [{'name': 'Linear combination', 'w': Decimal('...   \n",
       "300007  [{'name': 'Heuristic', 'w': Decimal('0.48582')...   \n",
       "300008  [{'name': 'Mobile technology', 'w': Decimal('0...   \n",
       "300009  [{'name': 'Scheduling (computing)', 'w': Decim...   \n",
       "300010  [{'name': 'Direct method', 'w': Decimal('0.489...   \n",
       "\n",
       "                                               references  n_citation  \\\n",
       "0                                [2005687710, 2018037215]         1.0   \n",
       "1                                                     NaN         1.0   \n",
       "2       [1535888970, 1992876689, 1993710814, 203565334...         1.0   \n",
       "3                    [1560724230, 1986968751, 2156909104]         6.0   \n",
       "4                                                     NaN         0.0   \n",
       "...                                                   ...         ...   \n",
       "300006               [1486692963, 2100144423, 2949265413]         1.0   \n",
       "300007  [1639032689, 1966423772, 1984810512, 203147052...         3.0   \n",
       "300008  [1529205966, 1641167210, 1761598307, 177566302...        31.0   \n",
       "300009                                       [1734912584]         7.0   \n",
       "300010  [1510015875, 2021854760, 2028754841, 203403634...        17.0   \n",
       "\n",
       "       page_start page_end    doc_type                       publisher  \\\n",
       "0              89       93  Conference    Springer, Berlin, Heidelberg   \n",
       "1             NaN      NaN     Journal                             NaN   \n",
       "2             137      144  Conference        Eurographics Association   \n",
       "3             597      602  Conference    Springer, Berlin, Heidelberg   \n",
       "4              99      102  Conference                             NaN   \n",
       "...           ...      ...         ...                             ...   \n",
       "300006        NaN      NaN  Repository                             NaN   \n",
       "300007     4643.0   4648.0  Conference                            IEEE   \n",
       "300008      447.0    455.0     Journal  Springer-Verlag New York, Inc.   \n",
       "300009      239.0    242.0  Conference                            IEEE   \n",
       "300010      304.0    307.0  Conference                            IEEE   \n",
       "\n",
       "        volume issue                           doi  \\\n",
       "0          NaN   NaN  10.1007/978-3-642-39476-8_19   \n",
       "1         56.0   NaN                           NaN   \n",
       "2          NaN   NaN   10.2312/VAST/VAST11/137-144   \n",
       "3          NaN   NaN  10.1007/978-3-642-11164-8_97   \n",
       "4          NaN   NaN                           NaN   \n",
       "...        ...   ...                           ...   \n",
       "300006     NaN   NaN                           NaN   \n",
       "300007     5.0   NaN    10.1109/ICSMC.2003.1245716   \n",
       "300008     1.0   4.0  10.1007/978-0-387-34980-0_22   \n",
       "300009     NaN   NaN    10.1109/CMPCON.1989.301934   \n",
       "300010     NaN   NaN     10.1109/ICCAD.1988.122516   \n",
       "\n",
       "                                         indexed_abstract  \n",
       "0       {'IndexLength': 58, 'InvertedIndex': {'tool.':...  \n",
       "1                                                     NaN  \n",
       "2       {'IndexLength': 201, 'InvertedIndex': {'illust...  \n",
       "3       {'IndexLength': 64, 'InvertedIndex': {'standar...  \n",
       "4                                                     NaN  \n",
       "...                                                   ...  \n",
       "300006  {'IndexLength': 178, 'InvertedIndex': {'cohere...  \n",
       "300007  {'IndexLength': 160, 'InvertedIndex': {'modeli...  \n",
       "300008  {'IndexLength': 72, 'InvertedIndex': {'tested'...  \n",
       "300009  {'IndexLength': 161, 'InvertedIndex': {'multip...  \n",
       "300010  {'IndexLength': 145, 'InvertedIndex': {'u003e'...  \n",
       "\n",
       "[300011 rows x 16 columns]"
      ]
     },
     "execution_count": 17,
     "metadata": {},
     "output_type": "execute_result"
    }
   ],
   "source": [
    "df"
   ]
  },
  {
   "cell_type": "code",
   "execution_count": 16,
   "id": "a1f5b7ea",
   "metadata": {
    "ExecuteTime": {
     "end_time": "2022-10-05T13:23:32.811010Z",
     "start_time": "2022-10-05T13:23:32.798027Z"
    }
   },
   "outputs": [
    {
     "data": {
      "text/plain": [
       "300011"
      ]
     },
     "execution_count": 16,
     "metadata": {},
     "output_type": "execute_result"
    }
   ],
   "source": [
    "df.shape[0]"
   ]
  },
  {
   "cell_type": "code",
   "execution_count": 13,
   "id": "25b0403d",
   "metadata": {
    "ExecuteTime": {
     "end_time": "2022-10-05T13:23:23.173034Z",
     "start_time": "2022-10-05T13:23:23.112372Z"
    }
   },
   "outputs": [
    {
     "data": {
      "text/plain": [
       "300010"
      ]
     },
     "execution_count": 13,
     "metadata": {},
     "output_type": "execute_result"
    }
   ],
   "source": [
    "df['id'].nunique()"
   ]
  },
  {
   "cell_type": "code",
   "execution_count": 28,
   "id": "cc2cbb71",
   "metadata": {
    "ExecuteTime": {
     "end_time": "2022-10-05T13:25:10.323581Z",
     "start_time": "2022-10-05T13:25:10.020359Z"
    }
   },
   "outputs": [
    {
     "data": {
      "text/plain": [
       "id\n",
       "61467                                                                                 1\n",
       "120715                                                                                1\n",
       "156053                                                                                1\n",
       "208239                                                                                1\n",
       "443846                                                                                1\n",
       "                                                                                     ..\n",
       "ight                                                                                  2\n",
       "m C}$ Actuator                                                                        1\n",
       "m IP}^{2}{                                                                            1\n",
       "m PROFIL}_{R}$ : Toward Preserving Privacy and Functionality in Geosocial Networks    1\n",
       "m{I!R}^{3}                                                                            1\n",
       "Name: id, Length: 300010, dtype: int64"
      ]
     },
     "execution_count": 28,
     "metadata": {},
     "output_type": "execute_result"
    }
   ],
   "source": [
    "df[['id']].groupby(['id'])['id'].count()"
   ]
  },
  {
   "cell_type": "code",
   "execution_count": 44,
   "id": "d4ca72a4",
   "metadata": {
    "ExecuteTime": {
     "end_time": "2022-10-05T13:37:49.381140Z",
     "start_time": "2022-10-05T13:37:49.360823Z"
    }
   },
   "outputs": [],
   "source": []
  },
  {
   "cell_type": "code",
   "execution_count": null,
   "id": "69028e07",
   "metadata": {},
   "outputs": [],
   "source": []
  },
  {
   "cell_type": "code",
   "execution_count": 41,
   "id": "d6072fff",
   "metadata": {
    "ExecuteTime": {
     "end_time": "2022-10-05T13:28:49.400157Z",
     "start_time": "2022-10-05T13:28:49.296321Z"
    }
   },
   "outputs": [],
   "source": [
    "df['id_new'] = df['id'].astype(str)\n",
    "df['new_col2'] = df['id_new'].str.isdigit()\n"
   ]
  },
  {
   "cell_type": "code",
   "execution_count": 42,
   "id": "bd0a02a5",
   "metadata": {
    "ExecuteTime": {
     "end_time": "2022-10-05T13:28:58.918526Z",
     "start_time": "2022-10-05T13:28:58.893527Z"
    }
   },
   "outputs": [
    {
     "data": {
      "text/html": [
       "<div>\n",
       "<style scoped>\n",
       "    .dataframe tbody tr th:only-of-type {\n",
       "        vertical-align: middle;\n",
       "    }\n",
       "\n",
       "    .dataframe tbody tr th {\n",
       "        vertical-align: top;\n",
       "    }\n",
       "\n",
       "    .dataframe thead th {\n",
       "        text-align: right;\n",
       "    }\n",
       "</style>\n",
       "<table border=\"1\" class=\"dataframe\">\n",
       "  <thead>\n",
       "    <tr style=\"text-align: right;\">\n",
       "      <th></th>\n",
       "      <th>id</th>\n",
       "      <th>title</th>\n",
       "      <th>authors</th>\n",
       "      <th>venue</th>\n",
       "      <th>year</th>\n",
       "      <th>fos</th>\n",
       "      <th>references</th>\n",
       "      <th>n_citation</th>\n",
       "      <th>page_start</th>\n",
       "      <th>page_end</th>\n",
       "      <th>doc_type</th>\n",
       "      <th>publisher</th>\n",
       "      <th>volume</th>\n",
       "      <th>issue</th>\n",
       "      <th>doi</th>\n",
       "      <th>indexed_abstract</th>\n",
       "      <th>id_new</th>\n",
       "      <th>new_col1</th>\n",
       "      <th>new_col2</th>\n",
       "    </tr>\n",
       "  </thead>\n",
       "  <tbody>\n",
       "    <tr>\n",
       "      <th>19207</th>\n",
       "      <td>m IP}^{2}{</td>\n",
       "      <td>NaN</td>\n",
       "      <td>NaN</td>\n",
       "      <td>NaN</td>\n",
       "      <td>NaN</td>\n",
       "      <td>NaN</td>\n",
       "      <td>NaN</td>\n",
       "      <td>NaN</td>\n",
       "      <td>NaN</td>\n",
       "      <td>NaN</td>\n",
       "      <td>NaN</td>\n",
       "      <td>NaN</td>\n",
       "      <td>NaN</td>\n",
       "      <td>NaN</td>\n",
       "      <td>NaN</td>\n",
       "      <td>NaN</td>\n",
       "      <td>m IP}^{2}{</td>\n",
       "      <td>False</td>\n",
       "      <td>False</td>\n",
       "    </tr>\n",
       "    <tr>\n",
       "      <th>19208</th>\n",
       "      <td>m C}$ Actuator</td>\n",
       "      <td>[{'name': 'Riccardo Caponetto', 'org': 'Dipt. ...</td>\n",
       "      <td>{'raw': 'IEEE Transactions on Instrumentation ...</td>\n",
       "      <td>2014</td>\n",
       "      <td>[{'name': 'Data modeling', 'w': Decimal('0.455...</td>\n",
       "      <td>[1984717708, 2019425123, 2024991751, 204282619...</td>\n",
       "      <td>5</td>\n",
       "      <td>1347.0</td>\n",
       "      <td>1355</td>\n",
       "      <td>Journal</td>\n",
       "      <td>IEEE</td>\n",
       "      <td>63</td>\n",
       "      <td>5.0</td>\n",
       "      <td>10.1109/TIM.2014.2298172</td>\n",
       "      <td>{'IndexLength': 139, 'InvertedIndex': {'been':...</td>\n",
       "      <td>NaN</td>\n",
       "      <td>m C}$ Actuator</td>\n",
       "      <td>False</td>\n",
       "      <td>False</td>\n",
       "    </tr>\n",
       "    <tr>\n",
       "      <th>21851</th>\n",
       "      <td>m{I!R}^{3}</td>\n",
       "      <td>[{'name': 'Klaus Gürlebeck', 'org': 'BAUHAUS U...</td>\n",
       "      <td>{'raw': 'International Conference on Computati...</td>\n",
       "      <td>2014</td>\n",
       "      <td>[{'name': 'Linear combination', 'w': Decimal('...</td>\n",
       "      <td>NaN</td>\n",
       "      <td>1</td>\n",
       "      <td>189.0</td>\n",
       "      <td>203</td>\n",
       "      <td>Conference</td>\n",
       "      <td>Springer, Cham</td>\n",
       "      <td>NaN</td>\n",
       "      <td>NaN</td>\n",
       "      <td>10.1007/978-3-319-09144-0_14</td>\n",
       "      <td>{'IndexLength': 133, 'InvertedIndex': {'play':...</td>\n",
       "      <td>NaN</td>\n",
       "      <td>m{I!R}^{3}</td>\n",
       "      <td>False</td>\n",
       "      <td>False</td>\n",
       "    </tr>\n",
       "    <tr>\n",
       "      <th>231197</th>\n",
       "      <td>ight</td>\n",
       "      <td>NaN</td>\n",
       "      <td>NaN</td>\n",
       "      <td>NaN</td>\n",
       "      <td>NaN</td>\n",
       "      <td>NaN</td>\n",
       "      <td>NaN</td>\n",
       "      <td>NaN</td>\n",
       "      <td>NaN</td>\n",
       "      <td>NaN</td>\n",
       "      <td>NaN</td>\n",
       "      <td>NaN</td>\n",
       "      <td>NaN</td>\n",
       "      <td>NaN</td>\n",
       "      <td>NaN</td>\n",
       "      <td>NaN</td>\n",
       "      <td>ight</td>\n",
       "      <td>False</td>\n",
       "      <td>False</td>\n",
       "    </tr>\n",
       "    <tr>\n",
       "      <th>231198</th>\n",
       "      <td>angle }</td>\n",
       "      <td>NaN</td>\n",
       "      <td>NaN</td>\n",
       "      <td>NaN</td>\n",
       "      <td>NaN</td>\n",
       "      <td>NaN</td>\n",
       "      <td>NaN</td>\n",
       "      <td>NaN</td>\n",
       "      <td>NaN</td>\n",
       "      <td>NaN</td>\n",
       "      <td>NaN</td>\n",
       "      <td>NaN</td>\n",
       "      <td>NaN</td>\n",
       "      <td>NaN</td>\n",
       "      <td>NaN</td>\n",
       "      <td>NaN</td>\n",
       "      <td>angle }</td>\n",
       "      <td>False</td>\n",
       "      <td>False</td>\n",
       "    </tr>\n",
       "    <tr>\n",
       "      <th>231199</th>\n",
       "      <td>ight</td>\n",
       "      <td>NaN</td>\n",
       "      <td>NaN</td>\n",
       "      <td>NaN</td>\n",
       "      <td>NaN</td>\n",
       "      <td>NaN</td>\n",
       "      <td>NaN</td>\n",
       "      <td>NaN</td>\n",
       "      <td>NaN</td>\n",
       "      <td>NaN</td>\n",
       "      <td>NaN</td>\n",
       "      <td>NaN</td>\n",
       "      <td>NaN</td>\n",
       "      <td>NaN</td>\n",
       "      <td>NaN</td>\n",
       "      <td>NaN</td>\n",
       "      <td>ight</td>\n",
       "      <td>False</td>\n",
       "      <td>False</td>\n",
       "    </tr>\n",
       "    <tr>\n",
       "      <th>231200</th>\n",
       "      <td>angle-LTL.</td>\n",
       "      <td>[{'name': 'Aidan Harding', 'id': 2139993607}, ...</td>\n",
       "      <td>{'raw': 'TIME'}</td>\n",
       "      <td>2003</td>\n",
       "      <td>[{'name': 'Psychology', 'w': Decimal('0.32082'...</td>\n",
       "      <td>NaN</td>\n",
       "      <td>0</td>\n",
       "      <td>137.0</td>\n",
       "      <td>146</td>\n",
       "      <td>NaN</td>\n",
       "      <td>NaN</td>\n",
       "      <td>NaN</td>\n",
       "      <td>NaN</td>\n",
       "      <td>NaN</td>\n",
       "      <td>NaN</td>\n",
       "      <td>NaN</td>\n",
       "      <td>angle-LTL.</td>\n",
       "      <td>False</td>\n",
       "      <td>False</td>\n",
       "    </tr>\n",
       "    <tr>\n",
       "      <th>241036</th>\n",
       "      <td>ceil DEPTH(2 lceil log n</td>\n",
       "      <td>NaN</td>\n",
       "      <td>NaN</td>\n",
       "      <td>NaN</td>\n",
       "      <td>NaN</td>\n",
       "      <td>NaN</td>\n",
       "      <td>NaN</td>\n",
       "      <td>NaN</td>\n",
       "      <td>NaN</td>\n",
       "      <td>NaN</td>\n",
       "      <td>NaN</td>\n",
       "      <td>NaN</td>\n",
       "      <td>NaN</td>\n",
       "      <td>NaN</td>\n",
       "      <td>NaN</td>\n",
       "      <td>NaN</td>\n",
       "      <td>ceil DEPTH(2 lceil log n</td>\n",
       "      <td>False</td>\n",
       "      <td>False</td>\n",
       "    </tr>\n",
       "    <tr>\n",
       "      <th>241037</th>\n",
       "      <td>ceil -3).</td>\n",
       "      <td>[{'name': 'Sudarshan K. Dhall', 'id': 29740243...</td>\n",
       "      <td>{'raw': 'International Conference on Parallel ...</td>\n",
       "      <td>1987</td>\n",
       "      <td>[{'name': 'Binary logarithm', 'w': Decimal('0....</td>\n",
       "      <td>NaN</td>\n",
       "      <td>20</td>\n",
       "      <td>58.0</td>\n",
       "      <td>65</td>\n",
       "      <td>Conference</td>\n",
       "      <td>NaN</td>\n",
       "      <td>NaN</td>\n",
       "      <td>NaN</td>\n",
       "      <td>NaN</td>\n",
       "      <td>NaN</td>\n",
       "      <td>NaN</td>\n",
       "      <td>ceil -3).</td>\n",
       "      <td>False</td>\n",
       "      <td>False</td>\n",
       "    </tr>\n",
       "    <tr>\n",
       "      <th>241442</th>\n",
       "      <td>m PROFIL}_{R}$ : Toward Preserving Privacy and...</td>\n",
       "      <td>[{'name': 'Bogdan Carbunar', 'org': 'Sch. of C...</td>\n",
       "      <td>{'raw': 'IEEE Transactions on Information Fore...</td>\n",
       "      <td>2014</td>\n",
       "      <td>[{'name': 'Mobile computing', 'w': Decimal('0....</td>\n",
       "      <td>[1492124753, 1555820810, 1566461722, 160100179...</td>\n",
       "      <td>5</td>\n",
       "      <td>709.0</td>\n",
       "      <td>718</td>\n",
       "      <td>Journal</td>\n",
       "      <td>IEEE</td>\n",
       "      <td>9</td>\n",
       "      <td>4.0</td>\n",
       "      <td>10.1109/TIFS.2014.2307697</td>\n",
       "      <td>{'IndexLength': 133, 'InvertedIndex': {'small'...</td>\n",
       "      <td>NaN</td>\n",
       "      <td>m PROFIL}_{R}$ : Toward Preserving Privacy and...</td>\n",
       "      <td>False</td>\n",
       "      <td>False</td>\n",
       "    </tr>\n",
       "  </tbody>\n",
       "</table>\n",
       "</div>"
      ],
      "text/plain": [
       "                                                       id  \\\n",
       "19207                                          m IP}^{2}{   \n",
       "19208                                      m C}$ Actuator   \n",
       "21851                                          m{I!R}^{3}   \n",
       "231197                                               ight   \n",
       "231198                                           angle }    \n",
       "231199                                               ight   \n",
       "231200                                         angle-LTL.   \n",
       "241036                          ceil DEPTH(2 lceil log n    \n",
       "241037                                          ceil -3).   \n",
       "241442  m PROFIL}_{R}$ : Toward Preserving Privacy and...   \n",
       "\n",
       "                                                    title  \\\n",
       "19207                                                 NaN   \n",
       "19208   [{'name': 'Riccardo Caponetto', 'org': 'Dipt. ...   \n",
       "21851   [{'name': 'Klaus Gürlebeck', 'org': 'BAUHAUS U...   \n",
       "231197                                                NaN   \n",
       "231198                                                NaN   \n",
       "231199                                                NaN   \n",
       "231200  [{'name': 'Aidan Harding', 'id': 2139993607}, ...   \n",
       "241036                                                NaN   \n",
       "241037  [{'name': 'Sudarshan K. Dhall', 'id': 29740243...   \n",
       "241442  [{'name': 'Bogdan Carbunar', 'org': 'Sch. of C...   \n",
       "\n",
       "                                                  authors venue  \\\n",
       "19207                                                 NaN   NaN   \n",
       "19208   {'raw': 'IEEE Transactions on Instrumentation ...  2014   \n",
       "21851   {'raw': 'International Conference on Computati...  2014   \n",
       "231197                                                NaN   NaN   \n",
       "231198                                                NaN   NaN   \n",
       "231199                                                NaN   NaN   \n",
       "231200                                    {'raw': 'TIME'}  2003   \n",
       "241036                                                NaN   NaN   \n",
       "241037  {'raw': 'International Conference on Parallel ...  1987   \n",
       "241442  {'raw': 'IEEE Transactions on Information Fore...  2014   \n",
       "\n",
       "                                                     year  \\\n",
       "19207                                                 NaN   \n",
       "19208   [{'name': 'Data modeling', 'w': Decimal('0.455...   \n",
       "21851   [{'name': 'Linear combination', 'w': Decimal('...   \n",
       "231197                                                NaN   \n",
       "231198                                                NaN   \n",
       "231199                                                NaN   \n",
       "231200  [{'name': 'Psychology', 'w': Decimal('0.32082'...   \n",
       "241036                                                NaN   \n",
       "241037  [{'name': 'Binary logarithm', 'w': Decimal('0....   \n",
       "241442  [{'name': 'Mobile computing', 'w': Decimal('0....   \n",
       "\n",
       "                                                      fos references  \\\n",
       "19207                                                 NaN        NaN   \n",
       "19208   [1984717708, 2019425123, 2024991751, 204282619...          5   \n",
       "21851                                                 NaN          1   \n",
       "231197                                                NaN        NaN   \n",
       "231198                                                NaN        NaN   \n",
       "231199                                                NaN        NaN   \n",
       "231200                                                NaN          0   \n",
       "241036                                                NaN        NaN   \n",
       "241037                                                NaN         20   \n",
       "241442  [1492124753, 1555820810, 1566461722, 160100179...          5   \n",
       "\n",
       "        n_citation page_start    page_end        doc_type publisher  volume  \\\n",
       "19207          NaN        NaN         NaN             NaN       NaN     NaN   \n",
       "19208       1347.0       1355     Journal            IEEE        63     5.0   \n",
       "21851        189.0        203  Conference  Springer, Cham       NaN     NaN   \n",
       "231197         NaN        NaN         NaN             NaN       NaN     NaN   \n",
       "231198         NaN        NaN         NaN             NaN       NaN     NaN   \n",
       "231199         NaN        NaN         NaN             NaN       NaN     NaN   \n",
       "231200       137.0        146         NaN             NaN       NaN     NaN   \n",
       "241036         NaN        NaN         NaN             NaN       NaN     NaN   \n",
       "241037        58.0         65  Conference             NaN       NaN     NaN   \n",
       "241442       709.0        718     Journal            IEEE         9     4.0   \n",
       "\n",
       "                               issue  \\\n",
       "19207                            NaN   \n",
       "19208       10.1109/TIM.2014.2298172   \n",
       "21851   10.1007/978-3-319-09144-0_14   \n",
       "231197                           NaN   \n",
       "231198                           NaN   \n",
       "231199                           NaN   \n",
       "231200                           NaN   \n",
       "241036                           NaN   \n",
       "241037                           NaN   \n",
       "241442     10.1109/TIFS.2014.2307697   \n",
       "\n",
       "                                                      doi indexed_abstract  \\\n",
       "19207                                                 NaN              NaN   \n",
       "19208   {'IndexLength': 139, 'InvertedIndex': {'been':...              NaN   \n",
       "21851   {'IndexLength': 133, 'InvertedIndex': {'play':...              NaN   \n",
       "231197                                                NaN              NaN   \n",
       "231198                                                NaN              NaN   \n",
       "231199                                                NaN              NaN   \n",
       "231200                                                NaN              NaN   \n",
       "241036                                                NaN              NaN   \n",
       "241037                                                NaN              NaN   \n",
       "241442  {'IndexLength': 133, 'InvertedIndex': {'small'...              NaN   \n",
       "\n",
       "                                                   id_new new_col1  new_col2  \n",
       "19207                                          m IP}^{2}{    False     False  \n",
       "19208                                      m C}$ Actuator    False     False  \n",
       "21851                                          m{I!R}^{3}    False     False  \n",
       "231197                                               ight    False     False  \n",
       "231198                                           angle }     False     False  \n",
       "231199                                               ight    False     False  \n",
       "231200                                         angle-LTL.    False     False  \n",
       "241036                          ceil DEPTH(2 lceil log n     False     False  \n",
       "241037                                          ceil -3).    False     False  \n",
       "241442  m PROFIL}_{R}$ : Toward Preserving Privacy and...    False     False  "
      ]
     },
     "execution_count": 42,
     "metadata": {},
     "output_type": "execute_result"
    }
   ],
   "source": [
    "df[df['new_col2'] != True]"
   ]
  },
  {
   "cell_type": "code",
   "execution_count": 36,
   "id": "1226abe2",
   "metadata": {
    "ExecuteTime": {
     "end_time": "2022-10-05T13:26:41.485502Z",
     "start_time": "2022-10-05T13:26:41.460122Z"
    }
   },
   "outputs": [
    {
     "ename": "AttributeError",
     "evalue": "'DataFrame' object has no attribute 'isdigit'",
     "output_type": "error",
     "traceback": [
      "\u001b[1;31m---------------------------------------------------------------------------\u001b[0m",
      "\u001b[1;31mAttributeError\u001b[0m                            Traceback (most recent call last)",
      "\u001b[1;32mC:\\Users\\OLEG_N~1\\AppData\\Local\\Temp/ipykernel_30436/2217711085.py\u001b[0m in \u001b[0;36m<module>\u001b[1;34m\u001b[0m\n\u001b[1;32m----> 1\u001b[1;33m \u001b[0mdf\u001b[0m\u001b[1;33m[\u001b[0m\u001b[1;33m[\u001b[0m\u001b[1;34m'id'\u001b[0m\u001b[1;33m]\u001b[0m\u001b[1;33m]\u001b[0m\u001b[1;33m.\u001b[0m\u001b[0misdigit\u001b[0m\u001b[1;33m(\u001b[0m\u001b[1;33m)\u001b[0m\u001b[1;33m\u001b[0m\u001b[1;33m\u001b[0m\u001b[0m\n\u001b[0m",
      "\u001b[1;32m~\\Anaconda3\\lib\\site-packages\\pandas\\core\\generic.py\u001b[0m in \u001b[0;36m__getattr__\u001b[1;34m(self, name)\u001b[0m\n\u001b[0;32m   5485\u001b[0m         ):\n\u001b[0;32m   5486\u001b[0m             \u001b[1;32mreturn\u001b[0m \u001b[0mself\u001b[0m\u001b[1;33m[\u001b[0m\u001b[0mname\u001b[0m\u001b[1;33m]\u001b[0m\u001b[1;33m\u001b[0m\u001b[1;33m\u001b[0m\u001b[0m\n\u001b[1;32m-> 5487\u001b[1;33m         \u001b[1;32mreturn\u001b[0m \u001b[0mobject\u001b[0m\u001b[1;33m.\u001b[0m\u001b[0m__getattribute__\u001b[0m\u001b[1;33m(\u001b[0m\u001b[0mself\u001b[0m\u001b[1;33m,\u001b[0m \u001b[0mname\u001b[0m\u001b[1;33m)\u001b[0m\u001b[1;33m\u001b[0m\u001b[1;33m\u001b[0m\u001b[0m\n\u001b[0m\u001b[0;32m   5488\u001b[0m \u001b[1;33m\u001b[0m\u001b[0m\n\u001b[0;32m   5489\u001b[0m     \u001b[1;32mdef\u001b[0m \u001b[0m__setattr__\u001b[0m\u001b[1;33m(\u001b[0m\u001b[0mself\u001b[0m\u001b[1;33m,\u001b[0m \u001b[0mname\u001b[0m\u001b[1;33m:\u001b[0m \u001b[0mstr\u001b[0m\u001b[1;33m,\u001b[0m \u001b[0mvalue\u001b[0m\u001b[1;33m)\u001b[0m \u001b[1;33m->\u001b[0m \u001b[1;32mNone\u001b[0m\u001b[1;33m:\u001b[0m\u001b[1;33m\u001b[0m\u001b[1;33m\u001b[0m\u001b[0m\n",
      "\u001b[1;31mAttributeError\u001b[0m: 'DataFrame' object has no attribute 'isdigit'"
     ]
    }
   ],
   "source": [
    "df[['id']].isdigit()"
   ]
  },
  {
   "cell_type": "code",
   "execution_count": 32,
   "id": "9465207e",
   "metadata": {
    "ExecuteTime": {
     "end_time": "2022-10-05T13:26:07.685944Z",
     "start_time": "2022-10-05T13:26:07.670784Z"
    }
   },
   "outputs": [
    {
     "ename": "ValueError",
     "evalue": "Array conditional must be same shape as self",
     "output_type": "error",
     "traceback": [
      "\u001b[1;31m---------------------------------------------------------------------------\u001b[0m",
      "\u001b[1;31mValueError\u001b[0m                                Traceback (most recent call last)",
      "\u001b[1;32mC:\\Users\\OLEG_N~1\\AppData\\Local\\Temp/ipykernel_30436/2532376188.py\u001b[0m in \u001b[0;36m<module>\u001b[1;34m\u001b[0m\n\u001b[1;32m----> 1\u001b[1;33m \u001b[0mdf\u001b[0m\u001b[1;33m.\u001b[0m\u001b[0mwhere\u001b[0m\u001b[1;33m(\u001b[0m\u001b[0mstr\u001b[0m\u001b[1;33m(\u001b[0m\u001b[0mdf\u001b[0m\u001b[1;33m.\u001b[0m\u001b[0mid\u001b[0m\u001b[1;33m)\u001b[0m\u001b[1;33m.\u001b[0m\u001b[0misdigit\u001b[0m\u001b[1;33m(\u001b[0m\u001b[1;33m)\u001b[0m\u001b[1;33m)\u001b[0m\u001b[1;33m\u001b[0m\u001b[1;33m\u001b[0m\u001b[0m\n\u001b[0m",
      "\u001b[1;32m~\\Anaconda3\\lib\\site-packages\\pandas\\util\\_decorators.py\u001b[0m in \u001b[0;36mwrapper\u001b[1;34m(*args, **kwargs)\u001b[0m\n\u001b[0;32m    309\u001b[0m                     \u001b[0mstacklevel\u001b[0m\u001b[1;33m=\u001b[0m\u001b[0mstacklevel\u001b[0m\u001b[1;33m,\u001b[0m\u001b[1;33m\u001b[0m\u001b[1;33m\u001b[0m\u001b[0m\n\u001b[0;32m    310\u001b[0m                 )\n\u001b[1;32m--> 311\u001b[1;33m             \u001b[1;32mreturn\u001b[0m \u001b[0mfunc\u001b[0m\u001b[1;33m(\u001b[0m\u001b[1;33m*\u001b[0m\u001b[0margs\u001b[0m\u001b[1;33m,\u001b[0m \u001b[1;33m**\u001b[0m\u001b[0mkwargs\u001b[0m\u001b[1;33m)\u001b[0m\u001b[1;33m\u001b[0m\u001b[1;33m\u001b[0m\u001b[0m\n\u001b[0m\u001b[0;32m    312\u001b[0m \u001b[1;33m\u001b[0m\u001b[0m\n\u001b[0;32m    313\u001b[0m         \u001b[1;32mreturn\u001b[0m \u001b[0mwrapper\u001b[0m\u001b[1;33m\u001b[0m\u001b[1;33m\u001b[0m\u001b[0m\n",
      "\u001b[1;32m~\\Anaconda3\\lib\\site-packages\\pandas\\core\\frame.py\u001b[0m in \u001b[0;36mwhere\u001b[1;34m(self, cond, other, inplace, axis, level, errors, try_cast)\u001b[0m\n\u001b[0;32m  10734\u001b[0m         \u001b[0mtry_cast\u001b[0m\u001b[1;33m=\u001b[0m\u001b[0mlib\u001b[0m\u001b[1;33m.\u001b[0m\u001b[0mno_default\u001b[0m\u001b[1;33m,\u001b[0m\u001b[1;33m\u001b[0m\u001b[1;33m\u001b[0m\u001b[0m\n\u001b[0;32m  10735\u001b[0m     ):\n\u001b[1;32m> 10736\u001b[1;33m         \u001b[1;32mreturn\u001b[0m \u001b[0msuper\u001b[0m\u001b[1;33m(\u001b[0m\u001b[1;33m)\u001b[0m\u001b[1;33m.\u001b[0m\u001b[0mwhere\u001b[0m\u001b[1;33m(\u001b[0m\u001b[0mcond\u001b[0m\u001b[1;33m,\u001b[0m \u001b[0mother\u001b[0m\u001b[1;33m,\u001b[0m \u001b[0minplace\u001b[0m\u001b[1;33m,\u001b[0m \u001b[0maxis\u001b[0m\u001b[1;33m,\u001b[0m \u001b[0mlevel\u001b[0m\u001b[1;33m,\u001b[0m \u001b[0merrors\u001b[0m\u001b[1;33m,\u001b[0m \u001b[0mtry_cast\u001b[0m\u001b[1;33m)\u001b[0m\u001b[1;33m\u001b[0m\u001b[1;33m\u001b[0m\u001b[0m\n\u001b[0m\u001b[0;32m  10737\u001b[0m \u001b[1;33m\u001b[0m\u001b[0m\n\u001b[0;32m  10738\u001b[0m     @deprecate_nonkeyword_arguments(\n",
      "\u001b[1;32m~\\Anaconda3\\lib\\site-packages\\pandas\\core\\generic.py\u001b[0m in \u001b[0;36mwhere\u001b[1;34m(self, cond, other, inplace, axis, level, errors, try_cast)\u001b[0m\n\u001b[0;32m   9030\u001b[0m             )\n\u001b[0;32m   9031\u001b[0m \u001b[1;33m\u001b[0m\u001b[0m\n\u001b[1;32m-> 9032\u001b[1;33m         \u001b[1;32mreturn\u001b[0m \u001b[0mself\u001b[0m\u001b[1;33m.\u001b[0m\u001b[0m_where\u001b[0m\u001b[1;33m(\u001b[0m\u001b[0mcond\u001b[0m\u001b[1;33m,\u001b[0m \u001b[0mother\u001b[0m\u001b[1;33m,\u001b[0m \u001b[0minplace\u001b[0m\u001b[1;33m,\u001b[0m \u001b[0maxis\u001b[0m\u001b[1;33m,\u001b[0m \u001b[0mlevel\u001b[0m\u001b[1;33m,\u001b[0m \u001b[0merrors\u001b[0m\u001b[1;33m=\u001b[0m\u001b[0merrors\u001b[0m\u001b[1;33m)\u001b[0m\u001b[1;33m\u001b[0m\u001b[1;33m\u001b[0m\u001b[0m\n\u001b[0m\u001b[0;32m   9033\u001b[0m \u001b[1;33m\u001b[0m\u001b[0m\n\u001b[0;32m   9034\u001b[0m     \u001b[1;33m@\u001b[0m\u001b[0mfinal\u001b[0m\u001b[1;33m\u001b[0m\u001b[1;33m\u001b[0m\u001b[0m\n",
      "\u001b[1;32m~\\Anaconda3\\lib\\site-packages\\pandas\\core\\generic.py\u001b[0m in \u001b[0;36m_where\u001b[1;34m(self, cond, other, inplace, axis, level, errors)\u001b[0m\n\u001b[0;32m   8769\u001b[0m                 \u001b[0mcond\u001b[0m \u001b[1;33m=\u001b[0m \u001b[0mnp\u001b[0m\u001b[1;33m.\u001b[0m\u001b[0masanyarray\u001b[0m\u001b[1;33m(\u001b[0m\u001b[0mcond\u001b[0m\u001b[1;33m)\u001b[0m\u001b[1;33m\u001b[0m\u001b[1;33m\u001b[0m\u001b[0m\n\u001b[0;32m   8770\u001b[0m             \u001b[1;32mif\u001b[0m \u001b[0mcond\u001b[0m\u001b[1;33m.\u001b[0m\u001b[0mshape\u001b[0m \u001b[1;33m!=\u001b[0m \u001b[0mself\u001b[0m\u001b[1;33m.\u001b[0m\u001b[0mshape\u001b[0m\u001b[1;33m:\u001b[0m\u001b[1;33m\u001b[0m\u001b[1;33m\u001b[0m\u001b[0m\n\u001b[1;32m-> 8771\u001b[1;33m                 \u001b[1;32mraise\u001b[0m \u001b[0mValueError\u001b[0m\u001b[1;33m(\u001b[0m\u001b[1;34m\"Array conditional must be same shape as self\"\u001b[0m\u001b[1;33m)\u001b[0m\u001b[1;33m\u001b[0m\u001b[1;33m\u001b[0m\u001b[0m\n\u001b[0m\u001b[0;32m   8772\u001b[0m             \u001b[0mcond\u001b[0m \u001b[1;33m=\u001b[0m \u001b[0mself\u001b[0m\u001b[1;33m.\u001b[0m\u001b[0m_constructor\u001b[0m\u001b[1;33m(\u001b[0m\u001b[0mcond\u001b[0m\u001b[1;33m,\u001b[0m \u001b[1;33m**\u001b[0m\u001b[0mself\u001b[0m\u001b[1;33m.\u001b[0m\u001b[0m_construct_axes_dict\u001b[0m\u001b[1;33m(\u001b[0m\u001b[1;33m)\u001b[0m\u001b[1;33m)\u001b[0m\u001b[1;33m\u001b[0m\u001b[1;33m\u001b[0m\u001b[0m\n\u001b[0;32m   8773\u001b[0m \u001b[1;33m\u001b[0m\u001b[0m\n",
      "\u001b[1;31mValueError\u001b[0m: Array conditional must be same shape as self"
     ]
    }
   ],
   "source": [
    "df.where(df.id.isdigit())"
   ]
  }
 ],
 "metadata": {
  "kernelspec": {
   "display_name": "Python 3 (ipykernel)",
   "language": "python",
   "name": "python3"
  },
  "language_info": {
   "codemirror_mode": {
    "name": "ipython",
    "version": 3
   },
   "file_extension": ".py",
   "mimetype": "text/x-python",
   "name": "python",
   "nbconvert_exporter": "python",
   "pygments_lexer": "ipython3",
   "version": "3.9.7"
  },
  "toc": {
   "base_numbering": 1,
   "nav_menu": {},
   "number_sections": false,
   "sideBar": true,
   "skip_h1_title": false,
   "title_cell": "Table of Contents",
   "title_sidebar": "Contents",
   "toc_cell": false,
   "toc_position": {},
   "toc_section_display": true,
   "toc_window_display": false
  }
 },
 "nbformat": 4,
 "nbformat_minor": 5
}
