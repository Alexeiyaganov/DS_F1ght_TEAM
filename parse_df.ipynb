{
 "cells": [
  {
   "cell_type": "code",
   "execution_count": 1,
   "id": "89061001",
   "metadata": {},
   "outputs": [],
   "source": [
    "import pandas as pd\n",
    "import numpy as np\n"
   ]
  },
  {
   "cell_type": "code",
   "execution_count": 2,
   "id": "3f2eff81",
   "metadata": {},
   "outputs": [],
   "source": [
    "df = pd.read_csv('row_papersdata_v13.csv')"
   ]
  },
  {
   "cell_type": "code",
   "execution_count": 3,
   "id": "efd37990",
   "metadata": {},
   "outputs": [
    {
     "data": {
      "text/html": [
       "<div>\n",
       "<style scoped>\n",
       "    .dataframe tbody tr th:only-of-type {\n",
       "        vertical-align: middle;\n",
       "    }\n",
       "\n",
       "    .dataframe tbody tr th {\n",
       "        vertical-align: top;\n",
       "    }\n",
       "\n",
       "    .dataframe thead th {\n",
       "        text-align: right;\n",
       "    }\n",
       "</style>\n",
       "<table border=\"1\" class=\"dataframe\">\n",
       "  <thead>\n",
       "    <tr style=\"text-align: right;\">\n",
       "      <th></th>\n",
       "      <th>_id</th>\n",
       "      <th>title</th>\n",
       "      <th>authors</th>\n",
       "      <th>venue</th>\n",
       "      <th>year</th>\n",
       "      <th>keywords</th>\n",
       "      <th>fos</th>\n",
       "      <th>references</th>\n",
       "      <th>n_citation</th>\n",
       "      <th>page_start</th>\n",
       "      <th>page_end</th>\n",
       "      <th>lang</th>\n",
       "      <th>volume</th>\n",
       "      <th>issue</th>\n",
       "      <th>issn</th>\n",
       "      <th>isbn</th>\n",
       "      <th>doi</th>\n",
       "      <th>pdf</th>\n",
       "      <th>url</th>\n",
       "      <th>abstract</th>\n",
       "    </tr>\n",
       "  </thead>\n",
       "  <tbody>\n",
       "    <tr>\n",
       "      <th>0</th>\n",
       "      <td>53e99784b7602d9701f3e151</td>\n",
       "      <td>A solution to the problem of touching and brok...</td>\n",
       "      <td>[{'_id': '53f46797dabfaeb22f542630', 'name': '...</td>\n",
       "      <td>{'_id': '53a72a4920f7420be8bfa51b', 'name_d': ...</td>\n",
       "      <td>1993.0</td>\n",
       "      <td>['handwriting recognition', 'prototypes', 'ima...</td>\n",
       "      <td>['Intelligent character recognition', 'Pattern...</td>\n",
       "      <td>['53e99cf5b7602d97025ace63', '557e8a7a6fee0fe9...</td>\n",
       "      <td>17.0</td>\n",
       "      <td>602</td>\n",
       "      <td>605</td>\n",
       "      <td>en</td>\n",
       "      <td>NaN</td>\n",
       "      <td>NaN</td>\n",
       "      <td>NaN</td>\n",
       "      <td>NaN</td>\n",
       "      <td>10.1109/ICDAR.1993.395663</td>\n",
       "      <td>NaN</td>\n",
       "      <td>['http://dx.doi.org/10.1109/ICDAR.1993.395663']</td>\n",
       "      <td>NaN</td>\n",
       "    </tr>\n",
       "    <tr>\n",
       "      <th>1</th>\n",
       "      <td>53e99784b7602d9701f3e161</td>\n",
       "      <td>360°</td>\n",
       "      <td>[{'_id': '53f46946dabfaec09f24b4ed', 'name': '...</td>\n",
       "      <td>{'_id': '5390a74a20f70186a0e8b40b', 'raw': 'AC...</td>\n",
       "      <td>2009.0</td>\n",
       "      <td>['global high technology', 'daily short-distan...</td>\n",
       "      <td>NaN</td>\n",
       "      <td>NaN</td>\n",
       "      <td>NaN</td>\n",
       "      <td>39</td>\n",
       "      <td>39</td>\n",
       "      <td>en</td>\n",
       "      <td>NaN</td>\n",
       "      <td>NaN</td>\n",
       "      <td>NaN</td>\n",
       "      <td>NaN</td>\n",
       "      <td>10.1145/1665137.1665166</td>\n",
       "      <td>NaN</td>\n",
       "      <td>NaN</td>\n",
       "      <td>360° represents the concerns that are addresse...</td>\n",
       "    </tr>\n",
       "    <tr>\n",
       "      <th>2</th>\n",
       "      <td>53e99784b7602d9701f3f992</td>\n",
       "      <td>Firewalls.</td>\n",
       "      <td>[{'_id': '53f453aedabfaeb22f4f637d', 'name': '...</td>\n",
       "      <td>{'raw': 'Encyclopedia of Cryptography and Secu...</td>\n",
       "      <td>2011.0</td>\n",
       "      <td>[]</td>\n",
       "      <td>NaN</td>\n",
       "      <td>NaN</td>\n",
       "      <td>0.0</td>\n",
       "      <td>474</td>\n",
       "      <td>482</td>\n",
       "      <td>en</td>\n",
       "      <td>NaN</td>\n",
       "      <td>NaN</td>\n",
       "      <td>NaN</td>\n",
       "      <td>NaN</td>\n",
       "      <td>NaN</td>\n",
       "      <td>NaN</td>\n",
       "      <td>['http://dx.doi.org/10.1007/978-1-4419-5906-5_...</td>\n",
       "      <td>NaN</td>\n",
       "    </tr>\n",
       "    <tr>\n",
       "      <th>3</th>\n",
       "      <td>53e99784b7602d9701f3f62a</td>\n",
       "      <td>Flubber</td>\n",
       "      <td>[{'_id': '53f4309ddabfaeb1a7bb434b', 'name': '...</td>\n",
       "      <td>{'_id': '5736ae3ad39c4f40a797600a', 'raw': 'SI...</td>\n",
       "      <td>1998.0</td>\n",
       "      <td>[]</td>\n",
       "      <td>NaN</td>\n",
       "      <td>NaN</td>\n",
       "      <td>0.0</td>\n",
       "      <td>127</td>\n",
       "      <td>127</td>\n",
       "      <td>en</td>\n",
       "      <td>NaN</td>\n",
       "      <td>NaN</td>\n",
       "      <td>NaN</td>\n",
       "      <td>1-58113-045-7</td>\n",
       "      <td>10.1145/281388.281867</td>\n",
       "      <td>NaN</td>\n",
       "      <td>['http://dx.doi.org/10.1145/281388.281867', 'h...</td>\n",
       "      <td>NaN</td>\n",
       "    </tr>\n",
       "    <tr>\n",
       "      <th>4</th>\n",
       "      <td>53e99784b7602d9701f3f64a</td>\n",
       "      <td>Forum</td>\n",
       "      <td>[{'_id': '560175ee45cedb3395e5a3c7', 'name': '...</td>\n",
       "      <td>{'_id': '555036f57cea80f954169e28', 'raw': 'Co...</td>\n",
       "      <td>2005.0</td>\n",
       "      <td>[]</td>\n",
       "      <td>NaN</td>\n",
       "      <td>NaN</td>\n",
       "      <td>0.0</td>\n",
       "      <td>11</td>\n",
       "      <td>13</td>\n",
       "      <td>en</td>\n",
       "      <td>48</td>\n",
       "      <td>2</td>\n",
       "      <td>NaN</td>\n",
       "      <td>NaN</td>\n",
       "      <td>10.1145/1053291.1053303</td>\n",
       "      <td>//static.aminer.org/pdf/PDF/000/926/575/forum.pdf</td>\n",
       "      <td>['http://doi.acm.org/10.1145/1042091.1042103']</td>\n",
       "      <td>NaN</td>\n",
       "    </tr>\n",
       "    <tr>\n",
       "      <th>...</th>\n",
       "      <td>...</td>\n",
       "      <td>...</td>\n",
       "      <td>...</td>\n",
       "      <td>...</td>\n",
       "      <td>...</td>\n",
       "      <td>...</td>\n",
       "      <td>...</td>\n",
       "      <td>...</td>\n",
       "      <td>...</td>\n",
       "      <td>...</td>\n",
       "      <td>...</td>\n",
       "      <td>...</td>\n",
       "      <td>...</td>\n",
       "      <td>...</td>\n",
       "      <td>...</td>\n",
       "      <td>...</td>\n",
       "      <td>...</td>\n",
       "      <td>...</td>\n",
       "      <td>...</td>\n",
       "      <td>...</td>\n",
       "    </tr>\n",
       "    <tr>\n",
       "      <th>385519</th>\n",
       "      <td>6085416891e01180c31e93a2</td>\n",
       "      <td>Design of Cash Advance Payment System in a Dev...</td>\n",
       "      <td>[{'name': 'Saka John'}, {'name': 'Jacob O. Meb...</td>\n",
       "      <td>{'sid': 'conf/icta2', 't': 'C', 'raw': 'ICTA'}</td>\n",
       "      <td>2020.0</td>\n",
       "      <td>NaN</td>\n",
       "      <td>NaN</td>\n",
       "      <td>NaN</td>\n",
       "      <td>NaN</td>\n",
       "      <td>703</td>\n",
       "      <td>714</td>\n",
       "      <td>NaN</td>\n",
       "      <td>NaN</td>\n",
       "      <td>NaN</td>\n",
       "      <td>NaN</td>\n",
       "      <td>NaN</td>\n",
       "      <td>10.1007/978-3-030-69143-1_53</td>\n",
       "      <td>NaN</td>\n",
       "      <td>['https://dblp.org/rec/conf/icta2/JohnMOJ20', ...</td>\n",
       "      <td>NaN</td>\n",
       "    </tr>\n",
       "    <tr>\n",
       "      <th>385520</th>\n",
       "      <td>6085416891e01180c31e93aa</td>\n",
       "      <td>A Survey for Recommender System for Groups.</td>\n",
       "      <td>[{'name': 'Ananya Misra'}]</td>\n",
       "      <td>{'sid': 'conf/icta2', 't': 'C', 'raw': 'ICTA'}</td>\n",
       "      <td>2020.0</td>\n",
       "      <td>NaN</td>\n",
       "      <td>NaN</td>\n",
       "      <td>NaN</td>\n",
       "      <td>NaN</td>\n",
       "      <td>26</td>\n",
       "      <td>40</td>\n",
       "      <td>NaN</td>\n",
       "      <td>NaN</td>\n",
       "      <td>NaN</td>\n",
       "      <td>NaN</td>\n",
       "      <td>NaN</td>\n",
       "      <td>10.1007/978-3-030-69143-1_3</td>\n",
       "      <td>NaN</td>\n",
       "      <td>['https://dblp.org/rec/conf/icta2/Misra20', 'h...</td>\n",
       "      <td>NaN</td>\n",
       "    </tr>\n",
       "    <tr>\n",
       "      <th>385521</th>\n",
       "      <td>6085416891e01180c31e93b4</td>\n",
       "      <td>An Improved Hybridization in the Diagnosis of ...</td>\n",
       "      <td>[{'name': 'Idowu Dauda Oladipo'}, {'name': 'Ab...</td>\n",
       "      <td>{'sid': 'conf/icta2', 't': 'C', 'raw': 'ICTA'}</td>\n",
       "      <td>2020.0</td>\n",
       "      <td>NaN</td>\n",
       "      <td>NaN</td>\n",
       "      <td>NaN</td>\n",
       "      <td>NaN</td>\n",
       "      <td>272</td>\n",
       "      <td>285</td>\n",
       "      <td>NaN</td>\n",
       "      <td>NaN</td>\n",
       "      <td>NaN</td>\n",
       "      <td>NaN</td>\n",
       "      <td>NaN</td>\n",
       "      <td>10.1007/978-3-030-69143-1_22</td>\n",
       "      <td>NaN</td>\n",
       "      <td>['https://dblp.org/rec/conf/icta2/OladipoBAA20...</td>\n",
       "      <td>NaN</td>\n",
       "    </tr>\n",
       "    <tr>\n",
       "      <th>385522</th>\n",
       "      <td>6085416891e01180c31e93b7</td>\n",
       "      <td>Analysis and Classification of Biomedical Data...</td>\n",
       "      <td>[{'name': 'Sujata Panda'}, {'name': 'Hima Bind...</td>\n",
       "      <td>{'sid': 'conf/icta2', 't': 'C', 'raw': 'ICTA'}</td>\n",
       "      <td>2020.0</td>\n",
       "      <td>NaN</td>\n",
       "      <td>NaN</td>\n",
       "      <td>NaN</td>\n",
       "      <td>NaN</td>\n",
       "      <td>107</td>\n",
       "      <td>118</td>\n",
       "      <td>NaN</td>\n",
       "      <td>NaN</td>\n",
       "      <td>NaN</td>\n",
       "      <td>NaN</td>\n",
       "      <td>NaN</td>\n",
       "      <td>10.1007/978-3-030-69143-1_9</td>\n",
       "      <td>NaN</td>\n",
       "      <td>['https://dblp.org/rec/conf/icta2/PandaM20', '...</td>\n",
       "      <td>NaN</td>\n",
       "    </tr>\n",
       "    <tr>\n",
       "      <th>385523</th>\n",
       "      <td>6085416891e01180c31e93bc</td>\n",
       "      <td>Formulation and Optimization of Overcurrent Re...</td>\n",
       "      <td>[{'name': 'Ahmed Tijani Salawudeen'}, {'name':...</td>\n",
       "      <td>{'sid': 'conf/icta2', 't': 'C', 'raw': 'ICTA'}</td>\n",
       "      <td>2020.0</td>\n",
       "      <td>NaN</td>\n",
       "      <td>NaN</td>\n",
       "      <td>NaN</td>\n",
       "      <td>NaN</td>\n",
       "      <td>389</td>\n",
       "      <td>402</td>\n",
       "      <td>NaN</td>\n",
       "      <td>NaN</td>\n",
       "      <td>NaN</td>\n",
       "      <td>NaN</td>\n",
       "      <td>NaN</td>\n",
       "      <td>10.1007/978-3-030-69143-1_30</td>\n",
       "      <td>NaN</td>\n",
       "      <td>['https://dblp.org/rec/conf/icta2/SalawudeenOO...</td>\n",
       "      <td>NaN</td>\n",
       "    </tr>\n",
       "  </tbody>\n",
       "</table>\n",
       "<p>385524 rows × 20 columns</p>\n",
       "</div>"
      ],
      "text/plain": [
       "                             _id  \\\n",
       "0       53e99784b7602d9701f3e151   \n",
       "1       53e99784b7602d9701f3e161   \n",
       "2       53e99784b7602d9701f3f992   \n",
       "3       53e99784b7602d9701f3f62a   \n",
       "4       53e99784b7602d9701f3f64a   \n",
       "...                          ...   \n",
       "385519  6085416891e01180c31e93a2   \n",
       "385520  6085416891e01180c31e93aa   \n",
       "385521  6085416891e01180c31e93b4   \n",
       "385522  6085416891e01180c31e93b7   \n",
       "385523  6085416891e01180c31e93bc   \n",
       "\n",
       "                                                    title  \\\n",
       "0       A solution to the problem of touching and brok...   \n",
       "1                                                    360°   \n",
       "2                                              Firewalls.   \n",
       "3                                                 Flubber   \n",
       "4                                                   Forum   \n",
       "...                                                   ...   \n",
       "385519  Design of Cash Advance Payment System in a Dev...   \n",
       "385520        A Survey for Recommender System for Groups.   \n",
       "385521  An Improved Hybridization in the Diagnosis of ...   \n",
       "385522  Analysis and Classification of Biomedical Data...   \n",
       "385523  Formulation and Optimization of Overcurrent Re...   \n",
       "\n",
       "                                                  authors  \\\n",
       "0       [{'_id': '53f46797dabfaeb22f542630', 'name': '...   \n",
       "1       [{'_id': '53f46946dabfaec09f24b4ed', 'name': '...   \n",
       "2       [{'_id': '53f453aedabfaeb22f4f637d', 'name': '...   \n",
       "3       [{'_id': '53f4309ddabfaeb1a7bb434b', 'name': '...   \n",
       "4       [{'_id': '560175ee45cedb3395e5a3c7', 'name': '...   \n",
       "...                                                   ...   \n",
       "385519  [{'name': 'Saka John'}, {'name': 'Jacob O. Meb...   \n",
       "385520                         [{'name': 'Ananya Misra'}]   \n",
       "385521  [{'name': 'Idowu Dauda Oladipo'}, {'name': 'Ab...   \n",
       "385522  [{'name': 'Sujata Panda'}, {'name': 'Hima Bind...   \n",
       "385523  [{'name': 'Ahmed Tijani Salawudeen'}, {'name':...   \n",
       "\n",
       "                                                    venue    year  \\\n",
       "0       {'_id': '53a72a4920f7420be8bfa51b', 'name_d': ...  1993.0   \n",
       "1       {'_id': '5390a74a20f70186a0e8b40b', 'raw': 'AC...  2009.0   \n",
       "2       {'raw': 'Encyclopedia of Cryptography and Secu...  2011.0   \n",
       "3       {'_id': '5736ae3ad39c4f40a797600a', 'raw': 'SI...  1998.0   \n",
       "4       {'_id': '555036f57cea80f954169e28', 'raw': 'Co...  2005.0   \n",
       "...                                                   ...     ...   \n",
       "385519     {'sid': 'conf/icta2', 't': 'C', 'raw': 'ICTA'}  2020.0   \n",
       "385520     {'sid': 'conf/icta2', 't': 'C', 'raw': 'ICTA'}  2020.0   \n",
       "385521     {'sid': 'conf/icta2', 't': 'C', 'raw': 'ICTA'}  2020.0   \n",
       "385522     {'sid': 'conf/icta2', 't': 'C', 'raw': 'ICTA'}  2020.0   \n",
       "385523     {'sid': 'conf/icta2', 't': 'C', 'raw': 'ICTA'}  2020.0   \n",
       "\n",
       "                                                 keywords  \\\n",
       "0       ['handwriting recognition', 'prototypes', 'ima...   \n",
       "1       ['global high technology', 'daily short-distan...   \n",
       "2                                                      []   \n",
       "3                                                      []   \n",
       "4                                                      []   \n",
       "...                                                   ...   \n",
       "385519                                                NaN   \n",
       "385520                                                NaN   \n",
       "385521                                                NaN   \n",
       "385522                                                NaN   \n",
       "385523                                                NaN   \n",
       "\n",
       "                                                      fos  \\\n",
       "0       ['Intelligent character recognition', 'Pattern...   \n",
       "1                                                     NaN   \n",
       "2                                                     NaN   \n",
       "3                                                     NaN   \n",
       "4                                                     NaN   \n",
       "...                                                   ...   \n",
       "385519                                                NaN   \n",
       "385520                                                NaN   \n",
       "385521                                                NaN   \n",
       "385522                                                NaN   \n",
       "385523                                                NaN   \n",
       "\n",
       "                                               references  n_citation  \\\n",
       "0       ['53e99cf5b7602d97025ace63', '557e8a7a6fee0fe9...        17.0   \n",
       "1                                                     NaN         NaN   \n",
       "2                                                     NaN         0.0   \n",
       "3                                                     NaN         0.0   \n",
       "4                                                     NaN         0.0   \n",
       "...                                                   ...         ...   \n",
       "385519                                                NaN         NaN   \n",
       "385520                                                NaN         NaN   \n",
       "385521                                                NaN         NaN   \n",
       "385522                                                NaN         NaN   \n",
       "385523                                                NaN         NaN   \n",
       "\n",
       "       page_start page_end lang volume issue issn           isbn  \\\n",
       "0             602      605   en    NaN   NaN  NaN            NaN   \n",
       "1              39       39   en    NaN   NaN  NaN            NaN   \n",
       "2             474      482   en    NaN   NaN  NaN            NaN   \n",
       "3             127      127   en    NaN   NaN  NaN  1-58113-045-7   \n",
       "4              11       13   en     48     2  NaN            NaN   \n",
       "...           ...      ...  ...    ...   ...  ...            ...   \n",
       "385519        703      714  NaN    NaN   NaN  NaN            NaN   \n",
       "385520         26       40  NaN    NaN   NaN  NaN            NaN   \n",
       "385521        272      285  NaN    NaN   NaN  NaN            NaN   \n",
       "385522        107      118  NaN    NaN   NaN  NaN            NaN   \n",
       "385523        389      402  NaN    NaN   NaN  NaN            NaN   \n",
       "\n",
       "                                 doi  \\\n",
       "0          10.1109/ICDAR.1993.395663   \n",
       "1            10.1145/1665137.1665166   \n",
       "2                                NaN   \n",
       "3              10.1145/281388.281867   \n",
       "4            10.1145/1053291.1053303   \n",
       "...                              ...   \n",
       "385519  10.1007/978-3-030-69143-1_53   \n",
       "385520   10.1007/978-3-030-69143-1_3   \n",
       "385521  10.1007/978-3-030-69143-1_22   \n",
       "385522   10.1007/978-3-030-69143-1_9   \n",
       "385523  10.1007/978-3-030-69143-1_30   \n",
       "\n",
       "                                                      pdf  \\\n",
       "0                                                     NaN   \n",
       "1                                                     NaN   \n",
       "2                                                     NaN   \n",
       "3                                                     NaN   \n",
       "4       //static.aminer.org/pdf/PDF/000/926/575/forum.pdf   \n",
       "...                                                   ...   \n",
       "385519                                                NaN   \n",
       "385520                                                NaN   \n",
       "385521                                                NaN   \n",
       "385522                                                NaN   \n",
       "385523                                                NaN   \n",
       "\n",
       "                                                      url  \\\n",
       "0         ['http://dx.doi.org/10.1109/ICDAR.1993.395663']   \n",
       "1                                                     NaN   \n",
       "2       ['http://dx.doi.org/10.1007/978-1-4419-5906-5_...   \n",
       "3       ['http://dx.doi.org/10.1145/281388.281867', 'h...   \n",
       "4          ['http://doi.acm.org/10.1145/1042091.1042103']   \n",
       "...                                                   ...   \n",
       "385519  ['https://dblp.org/rec/conf/icta2/JohnMOJ20', ...   \n",
       "385520  ['https://dblp.org/rec/conf/icta2/Misra20', 'h...   \n",
       "385521  ['https://dblp.org/rec/conf/icta2/OladipoBAA20...   \n",
       "385522  ['https://dblp.org/rec/conf/icta2/PandaM20', '...   \n",
       "385523  ['https://dblp.org/rec/conf/icta2/SalawudeenOO...   \n",
       "\n",
       "                                                 abstract  \n",
       "0                                                     NaN  \n",
       "1       360° represents the concerns that are addresse...  \n",
       "2                                                     NaN  \n",
       "3                                                     NaN  \n",
       "4                                                     NaN  \n",
       "...                                                   ...  \n",
       "385519                                                NaN  \n",
       "385520                                                NaN  \n",
       "385521                                                NaN  \n",
       "385522                                                NaN  \n",
       "385523                                                NaN  \n",
       "\n",
       "[385524 rows x 20 columns]"
      ]
     },
     "execution_count": 3,
     "metadata": {},
     "output_type": "execute_result"
    }
   ],
   "source": [
    "df"
   ]
  },
  {
   "cell_type": "code",
   "execution_count": 54,
   "id": "a803d918",
   "metadata": {},
   "outputs": [],
   "source": [
    "from tqdm import tqdm\n",
    "\n",
    "import json"
   ]
  },
  {
   "cell_type": "code",
   "execution_count": 127,
   "id": "13d9551b",
   "metadata": {},
   "outputs": [],
   "source": [
    "# в needed подаем название нужной колонки\n",
    "\n",
    "needed = 'name'\n",
    "def parse(s):\n",
    "    if not (pd.isna(s) or s == '[]'):\n",
    "        p = re.compile('(?<!\\\\\\\\)\\'')\n",
    "        s = p.sub('\\\"',  s)\n",
    "        l = s[1:-1].split(sep='}, ')\n",
    "        for i in range(len(l[:-1])):\n",
    "            l[i] += '}'\n",
    "\n",
    "        for i in range(len(l)):\n",
    "            l[i] = l[i].replace('\": \"', 'AAAAA')\n",
    "            l[i] = l[i].replace('\", \"', 'BBBBB')\n",
    "            l[i] = l[i].replace('\"', \"<\")\n",
    "            l[i] = l[i].replace('AAAAA', '\": \"')\n",
    "            l[i] = l[i].replace('BBBBB', '\", \"')\n",
    "            my_list = list(l[i])\n",
    "            my_list[1] = '\"'\n",
    "            my_list[-2] = '\"'\n",
    "            l[i] = ''.join(my_list)\n",
    "#             print(l[i])\n",
    "            \n",
    "        result = []\n",
    "        for x in l:\n",
    "            result.append(json.loads(x)[needed])\n",
    "#             print(json.loads(x))\n",
    "        return(result)\n",
    "    else:\n",
    "        return([])"
   ]
  },
  {
   "cell_type": "code",
   "execution_count": 128,
   "id": "30be7013",
   "metadata": {},
   "outputs": [
    {
     "name": "stderr",
     "output_type": "stream",
     "text": [
      "77it [00:00, 15409.20it/s]\n"
     ]
    },
    {
     "ename": "JSONDecodeError",
     "evalue": "Expecting ':' delimiter: line 1 column 128 (char 127)",
     "output_type": "error",
     "traceback": [
      "\u001b[1;31m---------------------------------------------------------------------------\u001b[0m",
      "\u001b[1;31mJSONDecodeError\u001b[0m                           Traceback (most recent call last)",
      "\u001b[1;32mC:\\Users\\D0CA~1\\AppData\\Local\\Temp/ipykernel_18028/1478804779.py\u001b[0m in \u001b[0;36m<module>\u001b[1;34m\u001b[0m\n\u001b[0;32m      1\u001b[0m \u001b[0mparsed\u001b[0m \u001b[1;33m=\u001b[0m \u001b[1;33m[\u001b[0m\u001b[1;33m]\u001b[0m\u001b[1;33m\u001b[0m\u001b[1;33m\u001b[0m\u001b[0m\n\u001b[0;32m      2\u001b[0m \u001b[1;32mfor\u001b[0m \u001b[0ms\u001b[0m \u001b[1;32min\u001b[0m \u001b[0mtqdm\u001b[0m\u001b[1;33m(\u001b[0m\u001b[0mdf\u001b[0m\u001b[1;33m[\u001b[0m\u001b[1;34m'authors'\u001b[0m\u001b[1;33m]\u001b[0m\u001b[1;33m.\u001b[0m\u001b[0miloc\u001b[0m\u001b[1;33m(\u001b[0m\u001b[1;33m)\u001b[0m\u001b[1;33m)\u001b[0m\u001b[1;33m:\u001b[0m\u001b[1;33m\u001b[0m\u001b[1;33m\u001b[0m\u001b[0m\n\u001b[1;32m----> 3\u001b[1;33m     \u001b[0mparsed\u001b[0m\u001b[1;33m.\u001b[0m\u001b[0mappend\u001b[0m\u001b[1;33m(\u001b[0m\u001b[0mparse\u001b[0m\u001b[1;33m(\u001b[0m\u001b[0ms\u001b[0m\u001b[1;33m)\u001b[0m\u001b[1;33m)\u001b[0m\u001b[1;33m\u001b[0m\u001b[1;33m\u001b[0m\u001b[0m\n\u001b[0m",
      "\u001b[1;32mC:\\Users\\D0CA~1\\AppData\\Local\\Temp/ipykernel_18028/2744907363.py\u001b[0m in \u001b[0;36mparse\u001b[1;34m(s)\u001b[0m\n\u001b[0;32m     24\u001b[0m         \u001b[0mresult\u001b[0m \u001b[1;33m=\u001b[0m \u001b[1;33m[\u001b[0m\u001b[1;33m]\u001b[0m\u001b[1;33m\u001b[0m\u001b[1;33m\u001b[0m\u001b[0m\n\u001b[0;32m     25\u001b[0m         \u001b[1;32mfor\u001b[0m \u001b[0mx\u001b[0m \u001b[1;32min\u001b[0m \u001b[0ml\u001b[0m\u001b[1;33m:\u001b[0m\u001b[1;33m\u001b[0m\u001b[1;33m\u001b[0m\u001b[0m\n\u001b[1;32m---> 26\u001b[1;33m             \u001b[0mresult\u001b[0m\u001b[1;33m.\u001b[0m\u001b[0mappend\u001b[0m\u001b[1;33m(\u001b[0m\u001b[0mjson\u001b[0m\u001b[1;33m.\u001b[0m\u001b[0mloads\u001b[0m\u001b[1;33m(\u001b[0m\u001b[0mx\u001b[0m\u001b[1;33m)\u001b[0m\u001b[1;33m[\u001b[0m\u001b[0mneeded\u001b[0m\u001b[1;33m]\u001b[0m\u001b[1;33m)\u001b[0m\u001b[1;33m\u001b[0m\u001b[1;33m\u001b[0m\u001b[0m\n\u001b[0m\u001b[0;32m     27\u001b[0m \u001b[1;31m#             print(json.loads(x))\u001b[0m\u001b[1;33m\u001b[0m\u001b[1;33m\u001b[0m\u001b[0m\n\u001b[0;32m     28\u001b[0m         \u001b[1;32mreturn\u001b[0m\u001b[1;33m(\u001b[0m\u001b[0mresult\u001b[0m\u001b[1;33m)\u001b[0m\u001b[1;33m\u001b[0m\u001b[1;33m\u001b[0m\u001b[0m\n",
      "\u001b[1;32mC:\\ProgramData\\Anaconda3\\lib\\json\\__init__.py\u001b[0m in \u001b[0;36mloads\u001b[1;34m(s, cls, object_hook, parse_float, parse_int, parse_constant, object_pairs_hook, **kw)\u001b[0m\n\u001b[0;32m    344\u001b[0m             \u001b[0mparse_int\u001b[0m \u001b[1;32mis\u001b[0m \u001b[1;32mNone\u001b[0m \u001b[1;32mand\u001b[0m \u001b[0mparse_float\u001b[0m \u001b[1;32mis\u001b[0m \u001b[1;32mNone\u001b[0m \u001b[1;32mand\u001b[0m\u001b[1;33m\u001b[0m\u001b[1;33m\u001b[0m\u001b[0m\n\u001b[0;32m    345\u001b[0m             parse_constant is None and object_pairs_hook is None and not kw):\n\u001b[1;32m--> 346\u001b[1;33m         \u001b[1;32mreturn\u001b[0m \u001b[0m_default_decoder\u001b[0m\u001b[1;33m.\u001b[0m\u001b[0mdecode\u001b[0m\u001b[1;33m(\u001b[0m\u001b[0ms\u001b[0m\u001b[1;33m)\u001b[0m\u001b[1;33m\u001b[0m\u001b[1;33m\u001b[0m\u001b[0m\n\u001b[0m\u001b[0;32m    347\u001b[0m     \u001b[1;32mif\u001b[0m \u001b[0mcls\u001b[0m \u001b[1;32mis\u001b[0m \u001b[1;32mNone\u001b[0m\u001b[1;33m:\u001b[0m\u001b[1;33m\u001b[0m\u001b[1;33m\u001b[0m\u001b[0m\n\u001b[0;32m    348\u001b[0m         \u001b[0mcls\u001b[0m \u001b[1;33m=\u001b[0m \u001b[0mJSONDecoder\u001b[0m\u001b[1;33m\u001b[0m\u001b[1;33m\u001b[0m\u001b[0m\n",
      "\u001b[1;32mC:\\ProgramData\\Anaconda3\\lib\\json\\decoder.py\u001b[0m in \u001b[0;36mdecode\u001b[1;34m(self, s, _w)\u001b[0m\n\u001b[0;32m    335\u001b[0m \u001b[1;33m\u001b[0m\u001b[0m\n\u001b[0;32m    336\u001b[0m         \"\"\"\n\u001b[1;32m--> 337\u001b[1;33m         \u001b[0mobj\u001b[0m\u001b[1;33m,\u001b[0m \u001b[0mend\u001b[0m \u001b[1;33m=\u001b[0m \u001b[0mself\u001b[0m\u001b[1;33m.\u001b[0m\u001b[0mraw_decode\u001b[0m\u001b[1;33m(\u001b[0m\u001b[0ms\u001b[0m\u001b[1;33m,\u001b[0m \u001b[0midx\u001b[0m\u001b[1;33m=\u001b[0m\u001b[0m_w\u001b[0m\u001b[1;33m(\u001b[0m\u001b[0ms\u001b[0m\u001b[1;33m,\u001b[0m \u001b[1;36m0\u001b[0m\u001b[1;33m)\u001b[0m\u001b[1;33m.\u001b[0m\u001b[0mend\u001b[0m\u001b[1;33m(\u001b[0m\u001b[1;33m)\u001b[0m\u001b[1;33m)\u001b[0m\u001b[1;33m\u001b[0m\u001b[1;33m\u001b[0m\u001b[0m\n\u001b[0m\u001b[0;32m    338\u001b[0m         \u001b[0mend\u001b[0m \u001b[1;33m=\u001b[0m \u001b[0m_w\u001b[0m\u001b[1;33m(\u001b[0m\u001b[0ms\u001b[0m\u001b[1;33m,\u001b[0m \u001b[0mend\u001b[0m\u001b[1;33m)\u001b[0m\u001b[1;33m.\u001b[0m\u001b[0mend\u001b[0m\u001b[1;33m(\u001b[0m\u001b[1;33m)\u001b[0m\u001b[1;33m\u001b[0m\u001b[1;33m\u001b[0m\u001b[0m\n\u001b[0;32m    339\u001b[0m         \u001b[1;32mif\u001b[0m \u001b[0mend\u001b[0m \u001b[1;33m!=\u001b[0m \u001b[0mlen\u001b[0m\u001b[1;33m(\u001b[0m\u001b[0ms\u001b[0m\u001b[1;33m)\u001b[0m\u001b[1;33m:\u001b[0m\u001b[1;33m\u001b[0m\u001b[1;33m\u001b[0m\u001b[0m\n",
      "\u001b[1;32mC:\\ProgramData\\Anaconda3\\lib\\json\\decoder.py\u001b[0m in \u001b[0;36mraw_decode\u001b[1;34m(self, s, idx)\u001b[0m\n\u001b[0;32m    351\u001b[0m         \"\"\"\n\u001b[0;32m    352\u001b[0m         \u001b[1;32mtry\u001b[0m\u001b[1;33m:\u001b[0m\u001b[1;33m\u001b[0m\u001b[1;33m\u001b[0m\u001b[0m\n\u001b[1;32m--> 353\u001b[1;33m             \u001b[0mobj\u001b[0m\u001b[1;33m,\u001b[0m \u001b[0mend\u001b[0m \u001b[1;33m=\u001b[0m \u001b[0mself\u001b[0m\u001b[1;33m.\u001b[0m\u001b[0mscan_once\u001b[0m\u001b[1;33m(\u001b[0m\u001b[0ms\u001b[0m\u001b[1;33m,\u001b[0m \u001b[0midx\u001b[0m\u001b[1;33m)\u001b[0m\u001b[1;33m\u001b[0m\u001b[1;33m\u001b[0m\u001b[0m\n\u001b[0m\u001b[0;32m    354\u001b[0m         \u001b[1;32mexcept\u001b[0m \u001b[0mStopIteration\u001b[0m \u001b[1;32mas\u001b[0m \u001b[0merr\u001b[0m\u001b[1;33m:\u001b[0m\u001b[1;33m\u001b[0m\u001b[1;33m\u001b[0m\u001b[0m\n\u001b[0;32m    355\u001b[0m             \u001b[1;32mraise\u001b[0m \u001b[0mJSONDecodeError\u001b[0m\u001b[1;33m(\u001b[0m\u001b[1;34m\"Expecting value\"\u001b[0m\u001b[1;33m,\u001b[0m \u001b[0ms\u001b[0m\u001b[1;33m,\u001b[0m \u001b[0merr\u001b[0m\u001b[1;33m.\u001b[0m\u001b[0mvalue\u001b[0m\u001b[1;33m)\u001b[0m \u001b[1;32mfrom\u001b[0m \u001b[1;32mNone\u001b[0m\u001b[1;33m\u001b[0m\u001b[1;33m\u001b[0m\u001b[0m\n",
      "\u001b[1;31mJSONDecodeError\u001b[0m: Expecting ':' delimiter: line 1 column 128 (char 127)"
     ]
    }
   ],
   "source": [
    "# да, я знаю про apply, но сделал так чтобы смотреть, где именно ошибки\n",
    "\n",
    "parsed = []\n",
    "for s in tqdm(df['authors'].iloc()):\n",
    "    parsed.append(parse(s))"
   ]
  },
  {
   "cell_type": "code",
   "execution_count": null,
   "id": "08e208e6",
   "metadata": {},
   "outputs": [],
   "source": []
  },
  {
   "cell_type": "code",
   "execution_count": 156,
   "id": "5ecf2d07",
   "metadata": {},
   "outputs": [],
   "source": [
    "p = re.compile('(?<!\\\\\\\\)\\'')\n",
    "s = p.sub('\\\"',  s)\n",
    "l = s[1:-1].split(sep='}, ')\n",
    "for i in range(len(l[:-1])):\n",
    "    l[i] += '}'"
   ]
  },
  {
   "cell_type": "code",
   "execution_count": 157,
   "id": "17576b6f",
   "metadata": {},
   "outputs": [
    {
     "data": {
      "text/plain": [
       "['{\"_id\": \"53f43640dabfaedf4357edfc\", \"name\": \"Pradip Thomas\", \"org\": \"Tel.: +61 7 336 52915.\", \"orgs\": [\"Tel.: +61 7 336 52915.\", \"School of Journalism, University of Queensland, Brisbane, Qld. 4072, Australia\"], \"email\": \"Pradip.thomas@uq.edu.au\", \"sid\": \"51711430\"}']"
      ]
     },
     "execution_count": 157,
     "metadata": {},
     "output_type": "execute_result"
    }
   ],
   "source": [
    "l"
   ]
  },
  {
   "cell_type": "code",
   "execution_count": 158,
   "id": "b1d3278e",
   "metadata": {},
   "outputs": [
    {
     "name": "stdout",
     "output_type": "stream",
     "text": [
      "{\"_id\": \"53f43640dabfaedf4357edfc\", \"name\": \"Pradip Thomas\", \"org\": \"Tel.< +61 7 336 52915.\", \"orgs\": \"Tel.< +61 7 336 52915.\", \"School of Journalism< University of Queensland< Brisbane< Qld. 4072< Australia\", \"email\": \"Pradip.thomas@uq.edu.au\", \"sid\": \"51711430\"}\n"
     ]
    }
   ],
   "source": [
    "for i in range(len(l)):\n",
    "    l[i] = l[i].replace('\": \"', 'AAAAA')\n",
    "    l[i] = l[i].replace('\", \"', 'BBBBB')\n",
    "    l[i] = l[i].replace('\"', \"<\")\n",
    "    l[i] = l[i].replace(',', \"<\")\n",
    "    l[i] = l[i].replace(':', \"<\")\n",
    "    l[i] = l[i].replace('AAAAA', '\": \"')\n",
    "    l[i] = l[i].replace('BBBBB', '\", \"')\n",
    "    my_list = list(l[i])\n",
    "    my_list[1] = '\"'\n",
    "    my_list[-2] = '\"'\n",
    "    l[i] = ''.join(my_list)\n",
    "    print(l[i])"
   ]
  },
  {
   "cell_type": "code",
   "execution_count": 159,
   "id": "d175a254",
   "metadata": {},
   "outputs": [
    {
     "ename": "JSONDecodeError",
     "evalue": "Expecting ':' delimiter: line 1 column 209 (char 208)",
     "output_type": "error",
     "traceback": [
      "\u001b[1;31m---------------------------------------------------------------------------\u001b[0m",
      "\u001b[1;31mJSONDecodeError\u001b[0m                           Traceback (most recent call last)",
      "\u001b[1;32mC:\\Users\\D0CA~1\\AppData\\Local\\Temp/ipykernel_18028/1373126509.py\u001b[0m in \u001b[0;36m<module>\u001b[1;34m\u001b[0m\n\u001b[0;32m      1\u001b[0m \u001b[1;32mfor\u001b[0m \u001b[0mi\u001b[0m \u001b[1;32min\u001b[0m \u001b[0mrange\u001b[0m\u001b[1;33m(\u001b[0m\u001b[0mlen\u001b[0m\u001b[1;33m(\u001b[0m\u001b[0ml\u001b[0m\u001b[1;33m)\u001b[0m\u001b[1;33m)\u001b[0m\u001b[1;33m:\u001b[0m\u001b[1;33m\u001b[0m\u001b[1;33m\u001b[0m\u001b[0m\n\u001b[1;32m----> 2\u001b[1;33m     \u001b[0mprint\u001b[0m\u001b[1;33m(\u001b[0m\u001b[0mjson\u001b[0m\u001b[1;33m.\u001b[0m\u001b[0mloads\u001b[0m\u001b[1;33m(\u001b[0m\u001b[0ml\u001b[0m\u001b[1;33m[\u001b[0m\u001b[0mi\u001b[0m\u001b[1;33m]\u001b[0m\u001b[1;33m)\u001b[0m\u001b[1;33m[\u001b[0m\u001b[0mneeded\u001b[0m\u001b[1;33m]\u001b[0m\u001b[1;33m)\u001b[0m\u001b[1;33m\u001b[0m\u001b[1;33m\u001b[0m\u001b[0m\n\u001b[0m",
      "\u001b[1;32mC:\\ProgramData\\Anaconda3\\lib\\json\\__init__.py\u001b[0m in \u001b[0;36mloads\u001b[1;34m(s, cls, object_hook, parse_float, parse_int, parse_constant, object_pairs_hook, **kw)\u001b[0m\n\u001b[0;32m    344\u001b[0m             \u001b[0mparse_int\u001b[0m \u001b[1;32mis\u001b[0m \u001b[1;32mNone\u001b[0m \u001b[1;32mand\u001b[0m \u001b[0mparse_float\u001b[0m \u001b[1;32mis\u001b[0m \u001b[1;32mNone\u001b[0m \u001b[1;32mand\u001b[0m\u001b[1;33m\u001b[0m\u001b[1;33m\u001b[0m\u001b[0m\n\u001b[0;32m    345\u001b[0m             parse_constant is None and object_pairs_hook is None and not kw):\n\u001b[1;32m--> 346\u001b[1;33m         \u001b[1;32mreturn\u001b[0m \u001b[0m_default_decoder\u001b[0m\u001b[1;33m.\u001b[0m\u001b[0mdecode\u001b[0m\u001b[1;33m(\u001b[0m\u001b[0ms\u001b[0m\u001b[1;33m)\u001b[0m\u001b[1;33m\u001b[0m\u001b[1;33m\u001b[0m\u001b[0m\n\u001b[0m\u001b[0;32m    347\u001b[0m     \u001b[1;32mif\u001b[0m \u001b[0mcls\u001b[0m \u001b[1;32mis\u001b[0m \u001b[1;32mNone\u001b[0m\u001b[1;33m:\u001b[0m\u001b[1;33m\u001b[0m\u001b[1;33m\u001b[0m\u001b[0m\n\u001b[0;32m    348\u001b[0m         \u001b[0mcls\u001b[0m \u001b[1;33m=\u001b[0m \u001b[0mJSONDecoder\u001b[0m\u001b[1;33m\u001b[0m\u001b[1;33m\u001b[0m\u001b[0m\n",
      "\u001b[1;32mC:\\ProgramData\\Anaconda3\\lib\\json\\decoder.py\u001b[0m in \u001b[0;36mdecode\u001b[1;34m(self, s, _w)\u001b[0m\n\u001b[0;32m    335\u001b[0m \u001b[1;33m\u001b[0m\u001b[0m\n\u001b[0;32m    336\u001b[0m         \"\"\"\n\u001b[1;32m--> 337\u001b[1;33m         \u001b[0mobj\u001b[0m\u001b[1;33m,\u001b[0m \u001b[0mend\u001b[0m \u001b[1;33m=\u001b[0m \u001b[0mself\u001b[0m\u001b[1;33m.\u001b[0m\u001b[0mraw_decode\u001b[0m\u001b[1;33m(\u001b[0m\u001b[0ms\u001b[0m\u001b[1;33m,\u001b[0m \u001b[0midx\u001b[0m\u001b[1;33m=\u001b[0m\u001b[0m_w\u001b[0m\u001b[1;33m(\u001b[0m\u001b[0ms\u001b[0m\u001b[1;33m,\u001b[0m \u001b[1;36m0\u001b[0m\u001b[1;33m)\u001b[0m\u001b[1;33m.\u001b[0m\u001b[0mend\u001b[0m\u001b[1;33m(\u001b[0m\u001b[1;33m)\u001b[0m\u001b[1;33m)\u001b[0m\u001b[1;33m\u001b[0m\u001b[1;33m\u001b[0m\u001b[0m\n\u001b[0m\u001b[0;32m    338\u001b[0m         \u001b[0mend\u001b[0m \u001b[1;33m=\u001b[0m \u001b[0m_w\u001b[0m\u001b[1;33m(\u001b[0m\u001b[0ms\u001b[0m\u001b[1;33m,\u001b[0m \u001b[0mend\u001b[0m\u001b[1;33m)\u001b[0m\u001b[1;33m.\u001b[0m\u001b[0mend\u001b[0m\u001b[1;33m(\u001b[0m\u001b[1;33m)\u001b[0m\u001b[1;33m\u001b[0m\u001b[1;33m\u001b[0m\u001b[0m\n\u001b[0;32m    339\u001b[0m         \u001b[1;32mif\u001b[0m \u001b[0mend\u001b[0m \u001b[1;33m!=\u001b[0m \u001b[0mlen\u001b[0m\u001b[1;33m(\u001b[0m\u001b[0ms\u001b[0m\u001b[1;33m)\u001b[0m\u001b[1;33m:\u001b[0m\u001b[1;33m\u001b[0m\u001b[1;33m\u001b[0m\u001b[0m\n",
      "\u001b[1;32mC:\\ProgramData\\Anaconda3\\lib\\json\\decoder.py\u001b[0m in \u001b[0;36mraw_decode\u001b[1;34m(self, s, idx)\u001b[0m\n\u001b[0;32m    351\u001b[0m         \"\"\"\n\u001b[0;32m    352\u001b[0m         \u001b[1;32mtry\u001b[0m\u001b[1;33m:\u001b[0m\u001b[1;33m\u001b[0m\u001b[1;33m\u001b[0m\u001b[0m\n\u001b[1;32m--> 353\u001b[1;33m             \u001b[0mobj\u001b[0m\u001b[1;33m,\u001b[0m \u001b[0mend\u001b[0m \u001b[1;33m=\u001b[0m \u001b[0mself\u001b[0m\u001b[1;33m.\u001b[0m\u001b[0mscan_once\u001b[0m\u001b[1;33m(\u001b[0m\u001b[0ms\u001b[0m\u001b[1;33m,\u001b[0m \u001b[0midx\u001b[0m\u001b[1;33m)\u001b[0m\u001b[1;33m\u001b[0m\u001b[1;33m\u001b[0m\u001b[0m\n\u001b[0m\u001b[0;32m    354\u001b[0m         \u001b[1;32mexcept\u001b[0m \u001b[0mStopIteration\u001b[0m \u001b[1;32mas\u001b[0m \u001b[0merr\u001b[0m\u001b[1;33m:\u001b[0m\u001b[1;33m\u001b[0m\u001b[1;33m\u001b[0m\u001b[0m\n\u001b[0;32m    355\u001b[0m             \u001b[1;32mraise\u001b[0m \u001b[0mJSONDecodeError\u001b[0m\u001b[1;33m(\u001b[0m\u001b[1;34m\"Expecting value\"\u001b[0m\u001b[1;33m,\u001b[0m \u001b[0ms\u001b[0m\u001b[1;33m,\u001b[0m \u001b[0merr\u001b[0m\u001b[1;33m.\u001b[0m\u001b[0mvalue\u001b[0m\u001b[1;33m)\u001b[0m \u001b[1;32mfrom\u001b[0m \u001b[1;32mNone\u001b[0m\u001b[1;33m\u001b[0m\u001b[1;33m\u001b[0m\u001b[0m\n",
      "\u001b[1;31mJSONDecodeError\u001b[0m: Expecting ':' delimiter: line 1 column 209 (char 208)"
     ]
    }
   ],
   "source": [
    "for i in range(len(l)):\n",
    "    print(json.loads(l[i])[needed])"
   ]
  },
  {
   "cell_type": "code",
   "execution_count": null,
   "id": "3f0bfb81",
   "metadata": {},
   "outputs": [],
   "source": []
  },
  {
   "cell_type": "code",
   "execution_count": null,
   "id": "704226d2",
   "metadata": {},
   "outputs": [],
   "source": []
  },
  {
   "cell_type": "code",
   "execution_count": null,
   "id": "cb3c877f",
   "metadata": {},
   "outputs": [],
   "source": []
  },
  {
   "cell_type": "markdown",
   "id": "13775200",
   "metadata": {},
   "source": [
    "---"
   ]
  },
  {
   "cell_type": "markdown",
   "id": "662ff477",
   "metadata": {},
   "source": [
    "# не лезь сюда, оно тебя сожрет"
   ]
  },
  {
   "cell_type": "code",
   "execution_count": null,
   "id": "0c4cf929",
   "metadata": {},
   "outputs": [],
   "source": []
  },
  {
   "cell_type": "code",
   "execution_count": null,
   "id": "2faa6164",
   "metadata": {},
   "outputs": [],
   "source": []
  },
  {
   "cell_type": "code",
   "execution_count": 129,
   "id": "978d1f7a",
   "metadata": {},
   "outputs": [
    {
     "data": {
      "text/plain": [
       "\"[{'_id': '53f43640dabfaedf4357edfc', 'name': 'Pradip Thomas', 'org': 'Tel.: +61 7 336 52915.', 'orgs': ['Tel.: +61 7 336 52915.', 'School of Journalism, University of Queensland, Brisbane, Qld. 4072, Australia'], 'email': 'Pradip.thomas@uq.edu.au', 'sid': '51711430'}]\""
      ]
     },
     "execution_count": 129,
     "metadata": {},
     "output_type": "execute_result"
    }
   ],
   "source": [
    "s"
   ]
  },
  {
   "cell_type": "code",
   "execution_count": 77,
   "id": "313b0b56",
   "metadata": {},
   "outputs": [
    {
     "data": {
      "text/plain": [
       "\"G. D'An\""
      ]
     },
     "execution_count": 77,
     "metadata": {},
     "output_type": "execute_result"
    }
   ],
   "source": [
    "s[70:77]"
   ]
  },
  {
   "cell_type": "code",
   "execution_count": 81,
   "id": "76cd3518",
   "metadata": {},
   "outputs": [
    {
     "data": {
      "text/plain": [
       "'[{\\'_id\\': \\'53f447f5dabfaeb2ac0a0011\\', \\'name\\': \\'Saggini Raoul\\', \\'org\\': \"G. D\\'Annunzio University, Chieti, Italy School of Specialties in PRM, G. D\\'Annunzio University, Chieti, Italy.\", \\'gid\\': \\'5b86ab9de1cd8e14a3ff0ab5\\', \\'orgid\\': \\'5f71b36a1c455f439fe42b9e\\'}, {\\'_id\\': \\'5601792e45cedb3395e5e468\\', \\'name\\': \\'Bellomo Rosa Grazia\\'}, {\\'_id\\': \\'5601792e45cedb3395e5e46b\\', \\'name\\': \\'Russo Chiara\\'}]'"
      ]
     },
     "execution_count": 81,
     "metadata": {},
     "output_type": "execute_result"
    }
   ],
   "source": [
    "s1 = s\n",
    "s"
   ]
  },
  {
   "cell_type": "code",
   "execution_count": 82,
   "id": "c12c7b59",
   "metadata": {},
   "outputs": [],
   "source": [
    "p = re.compile('(?<!\\\\\\\\)\\'')\n",
    "s = p.sub('\\\"',  s)\n",
    "l = s[1:-1].split(sep='},')\n",
    "for i in range(len(l[:-1])):\n",
    "    l[i] += '}'"
   ]
  },
  {
   "cell_type": "code",
   "execution_count": 83,
   "id": "6ad4d605",
   "metadata": {},
   "outputs": [
    {
     "data": {
      "text/plain": [
       "'[{\"_id\": \"53f447f5dabfaeb2ac0a0011\", \"name\": \"Saggini Raoul\", \"org\": \"G. D\"Annunzio University, Chieti, Italy School of Specialties in PRM, G. D\"Annunzio University, Chieti, Italy.\", \"gid\": \"5b86ab9de1cd8e14a3ff0ab5\", \"orgid\": \"5f71b36a1c455f439fe42b9e\"}, {\"_id\": \"5601792e45cedb3395e5e468\", \"name\": \"Bellomo Rosa Grazia\"}, {\"_id\": \"5601792e45cedb3395e5e46b\", \"name\": \"Russo Chiara\"}]'"
      ]
     },
     "execution_count": 83,
     "metadata": {},
     "output_type": "execute_result"
    }
   ],
   "source": [
    "s"
   ]
  },
  {
   "cell_type": "code",
   "execution_count": 84,
   "id": "99eb5e66",
   "metadata": {},
   "outputs": [
    {
     "data": {
      "text/plain": [
       "['{\"_id\": \"53f447f5dabfaeb2ac0a0011\", \"name\": \"Saggini Raoul\", \"org\": \"G. D\"Annunzio University, Chieti, Italy School of Specialties in PRM, G. D\"Annunzio University, Chieti, Italy.\", \"gid\": \"5b86ab9de1cd8e14a3ff0ab5\", \"orgid\": \"5f71b36a1c455f439fe42b9e\"}',\n",
       " ' {\"_id\": \"5601792e45cedb3395e5e468\", \"name\": \"Bellomo Rosa Grazia\"}',\n",
       " ' {\"_id\": \"5601792e45cedb3395e5e46b\", \"name\": \"Russo Chiara\"}']"
      ]
     },
     "execution_count": 84,
     "metadata": {},
     "output_type": "execute_result"
    }
   ],
   "source": [
    "l"
   ]
  },
  {
   "cell_type": "code",
   "execution_count": 110,
   "id": "76dc5b3e",
   "metadata": {},
   "outputs": [
    {
     "data": {
      "text/plain": [
       "{'_id': '53f447f5dabfaeb2ac0a0011',\n",
       " 'name': 'Saggini Raoul',\n",
       " 'org': 'G. D<Annunzio University, Chieti, Italy School of Specialties in PRM, G. D<Annunzio University, Chieti, Italy.',\n",
       " 'gid': '5b86ab9de1cd8e14a3ff0ab5',\n",
       " 'orgid': '5f71b36a1c455f439fe42b9e'}"
      ]
     },
     "execution_count": 110,
     "metadata": {},
     "output_type": "execute_result"
    }
   ],
   "source": [
    "json.loads(t)"
   ]
  },
  {
   "cell_type": "code",
   "execution_count": 109,
   "id": "77e031c2",
   "metadata": {},
   "outputs": [
    {
     "data": {
      "text/plain": [
       "'{\"_id\": \"53f447f5dabfaeb2ac0a0011\", \"name\": \"Saggini Raoul\", \"org\": \"G. D<Annunzio University, Chieti, Italy School of Specialties in PRM, G. D<Annunzio University, Chieti, Italy.\", \"gid\": \"5b86ab9de1cd8e14a3ff0ab5\", \"orgid\": \"5f71b36a1c455f439fe42b9e\"}'"
      ]
     },
     "execution_count": 109,
     "metadata": {},
     "output_type": "execute_result"
    }
   ],
   "source": [
    "t = l[0].replace('\": \"', 'AAAAA')\n",
    "t = t.replace('\", \"', 'BBBBB')\n",
    "t = t.replace('\"', \"<\")\n",
    "t = t.replace('AAAAA', '\": \"')\n",
    "t = t.replace('BBBBB', '\", \"')\n",
    "my_list = list(t)\n",
    "my_list[1] = '\"'\n",
    "my_list[-2] = '\"'\n",
    "t = ''.join(my_list)\n",
    "t"
   ]
  },
  {
   "cell_type": "code",
   "execution_count": null,
   "id": "eb5164f8",
   "metadata": {},
   "outputs": [],
   "source": []
  },
  {
   "cell_type": "code",
   "execution_count": null,
   "id": "2b81e3b5",
   "metadata": {},
   "outputs": [],
   "source": []
  },
  {
   "cell_type": "code",
   "execution_count": null,
   "id": "7c600f63",
   "metadata": {},
   "outputs": [],
   "source": []
  },
  {
   "cell_type": "code",
   "execution_count": null,
   "id": "630301a8",
   "metadata": {},
   "outputs": [],
   "source": [
    "import re"
   ]
  },
  {
   "cell_type": "code",
   "execution_count": 68,
   "id": "16b1e221",
   "metadata": {},
   "outputs": [
    {
     "data": {
      "text/plain": [
       "'[{\"_id\": \"53f447f5dabfaeb2ac0a0011\", \"name\": \"Saggini Raoul\", \"org\": \"G. D\"Annunzio University, Chieti, Italy School of Specialties in PRM, G. D\"Annunzio University, Chieti, Italy.\", \"gid\": \"5b86ab9de1cd8e14a3ff0ab5\", \"orgid\": \"5f71b36a1c455f439fe42b9e\"}, {\"_id\": \"5601792e45cedb3395e5e468\", \"name\": \"Bellomo Rosa Grazia\"}, {\"_id\": \"5601792e45cedb3395e5e46b\", \"name\": \"Russo Chiara\"}]'"
      ]
     },
     "execution_count": 68,
     "metadata": {},
     "output_type": "execute_result"
    }
   ],
   "source": [
    "s"
   ]
  },
  {
   "cell_type": "code",
   "execution_count": 61,
   "id": "d883be70",
   "metadata": {},
   "outputs": [
    {
     "data": {
      "text/html": [
       "<div>\n",
       "<style scoped>\n",
       "    .dataframe tbody tr th:only-of-type {\n",
       "        vertical-align: middle;\n",
       "    }\n",
       "\n",
       "    .dataframe tbody tr th {\n",
       "        vertical-align: top;\n",
       "    }\n",
       "\n",
       "    .dataframe thead th {\n",
       "        text-align: right;\n",
       "    }\n",
       "</style>\n",
       "<table border=\"1\" class=\"dataframe\">\n",
       "  <thead>\n",
       "    <tr style=\"text-align: right;\">\n",
       "      <th></th>\n",
       "      <th>_id</th>\n",
       "      <th>title</th>\n",
       "      <th>authors</th>\n",
       "      <th>venue</th>\n",
       "      <th>year</th>\n",
       "      <th>keywords</th>\n",
       "      <th>fos</th>\n",
       "      <th>references</th>\n",
       "      <th>n_citation</th>\n",
       "      <th>page_start</th>\n",
       "      <th>page_end</th>\n",
       "      <th>lang</th>\n",
       "      <th>volume</th>\n",
       "      <th>issue</th>\n",
       "      <th>issn</th>\n",
       "      <th>isbn</th>\n",
       "      <th>doi</th>\n",
       "      <th>pdf</th>\n",
       "      <th>url</th>\n",
       "      <th>abstract</th>\n",
       "    </tr>\n",
       "  </thead>\n",
       "  <tbody>\n",
       "    <tr>\n",
       "      <th>29</th>\n",
       "      <td>53e99785b7602d9701f41524</td>\n",
       "      <td>Driftability.</td>\n",
       "      <td>[{'_id': '53f45cbddabfaee43ecd33de', 'name': '...</td>\n",
       "      <td>{'_id': '53a730db20f7420be8d10c65', 'raw': 'Sy...</td>\n",
       "      <td>2013.0</td>\n",
       "      <td>['Drift', 'Fitness', 'Selection', 'Evolution',...</td>\n",
       "      <td>NaN</td>\n",
       "      <td>NaN</td>\n",
       "      <td>0.0</td>\n",
       "      <td>3909</td>\n",
       "      <td>3928</td>\n",
       "      <td>en</td>\n",
       "      <td>190</td>\n",
       "      <td>17</td>\n",
       "      <td>0039-7857</td>\n",
       "      <td>NaN</td>\n",
       "      <td>https://doi.org/10.1007/s11229-012-0232-6</td>\n",
       "      <td>NaN</td>\n",
       "      <td>['http://dx.doi.org/10.1007/s11229-012-0232-6'...</td>\n",
       "      <td>In this paper, I argue (contra some recent phi...</td>\n",
       "    </tr>\n",
       "    <tr>\n",
       "      <th>30</th>\n",
       "      <td>53e99785b7602d9701f418d3</td>\n",
       "      <td>Diagnostik</td>\n",
       "      <td>[{'_id': '53f4bb7edabfaeda9977b494', 'name': '...</td>\n",
       "      <td>{'_id': '5550371d7cea80f954174685', 'raw': 'KI...</td>\n",
       "      <td>1994.0</td>\n",
       "      <td>[]</td>\n",
       "      <td>NaN</td>\n",
       "      <td>NaN</td>\n",
       "      <td>7.0</td>\n",
       "      <td>NaN</td>\n",
       "      <td>NaN</td>\n",
       "      <td>en</td>\n",
       "      <td>8</td>\n",
       "      <td>2</td>\n",
       "      <td>NaN</td>\n",
       "      <td>NaN</td>\n",
       "      <td>NaN</td>\n",
       "      <td>NaN</td>\n",
       "      <td>NaN</td>\n",
       "      <td>NaN</td>\n",
       "    </tr>\n",
       "    <tr>\n",
       "      <th>31</th>\n",
       "      <td>53e99785b7602d9701f418e4</td>\n",
       "      <td>Digraphs.</td>\n",
       "      <td>[]</td>\n",
       "      <td>{'type': 0}</td>\n",
       "      <td>2010.0</td>\n",
       "      <td>[]</td>\n",
       "      <td>NaN</td>\n",
       "      <td>NaN</td>\n",
       "      <td>0.0</td>\n",
       "      <td>NaN</td>\n",
       "      <td>NaN</td>\n",
       "      <td>en</td>\n",
       "      <td>NaN</td>\n",
       "      <td>NaN</td>\n",
       "      <td>NaN</td>\n",
       "      <td>NaN</td>\n",
       "      <td>NaN</td>\n",
       "      <td>NaN</td>\n",
       "      <td>NaN</td>\n",
       "      <td>NaN</td>\n",
       "    </tr>\n",
       "    <tr>\n",
       "      <th>32</th>\n",
       "      <td>53e99785b7602d9701f418e6</td>\n",
       "      <td>DLG.</td>\n",
       "      <td>[]</td>\n",
       "      <td>{'type': 0}</td>\n",
       "      <td>2008.0</td>\n",
       "      <td>[]</td>\n",
       "      <td>NaN</td>\n",
       "      <td>NaN</td>\n",
       "      <td>0.0</td>\n",
       "      <td>NaN</td>\n",
       "      <td>NaN</td>\n",
       "      <td>en</td>\n",
       "      <td>NaN</td>\n",
       "      <td>NaN</td>\n",
       "      <td>NaN</td>\n",
       "      <td>NaN</td>\n",
       "      <td>NaN</td>\n",
       "      <td>NaN</td>\n",
       "      <td>NaN</td>\n",
       "      <td>NaN</td>\n",
       "    </tr>\n",
       "  </tbody>\n",
       "</table>\n",
       "</div>"
      ],
      "text/plain": [
       "                         _id          title  \\\n",
       "29  53e99785b7602d9701f41524  Driftability.   \n",
       "30  53e99785b7602d9701f418d3     Diagnostik   \n",
       "31  53e99785b7602d9701f418e4      Digraphs.   \n",
       "32  53e99785b7602d9701f418e6           DLG.   \n",
       "\n",
       "                                              authors  \\\n",
       "29  [{'_id': '53f45cbddabfaee43ecd33de', 'name': '...   \n",
       "30  [{'_id': '53f4bb7edabfaeda9977b494', 'name': '...   \n",
       "31                                                 []   \n",
       "32                                                 []   \n",
       "\n",
       "                                                venue    year  \\\n",
       "29  {'_id': '53a730db20f7420be8d10c65', 'raw': 'Sy...  2013.0   \n",
       "30  {'_id': '5550371d7cea80f954174685', 'raw': 'KI...  1994.0   \n",
       "31                                        {'type': 0}  2010.0   \n",
       "32                                        {'type': 0}  2008.0   \n",
       "\n",
       "                                             keywords  fos references  \\\n",
       "29  ['Drift', 'Fitness', 'Selection', 'Evolution',...  NaN        NaN   \n",
       "30                                                 []  NaN        NaN   \n",
       "31                                                 []  NaN        NaN   \n",
       "32                                                 []  NaN        NaN   \n",
       "\n",
       "    n_citation page_start page_end lang volume issue       issn isbn  \\\n",
       "29         0.0       3909     3928   en    190    17  0039-7857  NaN   \n",
       "30         7.0        NaN      NaN   en      8     2        NaN  NaN   \n",
       "31         0.0        NaN      NaN   en    NaN   NaN        NaN  NaN   \n",
       "32         0.0        NaN      NaN   en    NaN   NaN        NaN  NaN   \n",
       "\n",
       "                                          doi  pdf  \\\n",
       "29  https://doi.org/10.1007/s11229-012-0232-6  NaN   \n",
       "30                                        NaN  NaN   \n",
       "31                                        NaN  NaN   \n",
       "32                                        NaN  NaN   \n",
       "\n",
       "                                                  url  \\\n",
       "29  ['http://dx.doi.org/10.1007/s11229-012-0232-6'...   \n",
       "30                                                NaN   \n",
       "31                                                NaN   \n",
       "32                                                NaN   \n",
       "\n",
       "                                             abstract  \n",
       "29  In this paper, I argue (contra some recent phi...  \n",
       "30                                                NaN  \n",
       "31                                                NaN  \n",
       "32                                                NaN  "
      ]
     },
     "execution_count": 61,
     "metadata": {},
     "output_type": "execute_result"
    }
   ],
   "source": [
    "df.iloc()[29:33]"
   ]
  },
  {
   "cell_type": "code",
   "execution_count": null,
   "id": "d877e80c",
   "metadata": {},
   "outputs": [],
   "source": []
  },
  {
   "cell_type": "code",
   "execution_count": 56,
   "id": "f5d51e23",
   "metadata": {},
   "outputs": [
    {
     "data": {
      "text/plain": [
       "385523"
      ]
     },
     "execution_count": 56,
     "metadata": {},
     "output_type": "execute_result"
    }
   ],
   "source": [
    "i"
   ]
  },
  {
   "cell_type": "code",
   "execution_count": 44,
   "id": "6e78522f",
   "metadata": {},
   "outputs": [
    {
     "ename": "KeyError",
     "evalue": "-1",
     "output_type": "error",
     "traceback": [
      "\u001b[1;31m---------------------------------------------------------------------------\u001b[0m",
      "\u001b[1;31mValueError\u001b[0m                                Traceback (most recent call last)",
      "\u001b[1;32mC:\\ProgramData\\Anaconda3\\lib\\site-packages\\pandas\\core\\indexes\\range.py\u001b[0m in \u001b[0;36mget_loc\u001b[1;34m(self, key, method, tolerance)\u001b[0m\n\u001b[0;32m    384\u001b[0m                 \u001b[1;32mtry\u001b[0m\u001b[1;33m:\u001b[0m\u001b[1;33m\u001b[0m\u001b[1;33m\u001b[0m\u001b[0m\n\u001b[1;32m--> 385\u001b[1;33m                     \u001b[1;32mreturn\u001b[0m \u001b[0mself\u001b[0m\u001b[1;33m.\u001b[0m\u001b[0m_range\u001b[0m\u001b[1;33m.\u001b[0m\u001b[0mindex\u001b[0m\u001b[1;33m(\u001b[0m\u001b[0mnew_key\u001b[0m\u001b[1;33m)\u001b[0m\u001b[1;33m\u001b[0m\u001b[1;33m\u001b[0m\u001b[0m\n\u001b[0m\u001b[0;32m    386\u001b[0m                 \u001b[1;32mexcept\u001b[0m \u001b[0mValueError\u001b[0m \u001b[1;32mas\u001b[0m \u001b[0merr\u001b[0m\u001b[1;33m:\u001b[0m\u001b[1;33m\u001b[0m\u001b[1;33m\u001b[0m\u001b[0m\n",
      "\u001b[1;31mValueError\u001b[0m: -1 is not in range",
      "\nThe above exception was the direct cause of the following exception:\n",
      "\u001b[1;31mKeyError\u001b[0m                                  Traceback (most recent call last)",
      "\u001b[1;32mC:\\Users\\D0CA~1\\AppData\\Local\\Temp/ipykernel_18028/227750990.py\u001b[0m in \u001b[0;36m<module>\u001b[1;34m\u001b[0m\n\u001b[1;32m----> 1\u001b[1;33m \u001b[0mpd\u001b[0m\u001b[1;33m.\u001b[0m\u001b[0misna\u001b[0m\u001b[1;33m(\u001b[0m\u001b[0mdf\u001b[0m\u001b[1;33m[\u001b[0m\u001b[1;34m'authors'\u001b[0m\u001b[1;33m]\u001b[0m\u001b[1;33m[\u001b[0m\u001b[1;33m-\u001b[0m\u001b[1;36m1\u001b[0m\u001b[1;33m]\u001b[0m\u001b[1;33m)\u001b[0m\u001b[1;33m\u001b[0m\u001b[1;33m\u001b[0m\u001b[0m\n\u001b[0m",
      "\u001b[1;32mC:\\ProgramData\\Anaconda3\\lib\\site-packages\\pandas\\core\\series.py\u001b[0m in \u001b[0;36m__getitem__\u001b[1;34m(self, key)\u001b[0m\n\u001b[0;32m    940\u001b[0m \u001b[1;33m\u001b[0m\u001b[0m\n\u001b[0;32m    941\u001b[0m         \u001b[1;32melif\u001b[0m \u001b[0mkey_is_scalar\u001b[0m\u001b[1;33m:\u001b[0m\u001b[1;33m\u001b[0m\u001b[1;33m\u001b[0m\u001b[0m\n\u001b[1;32m--> 942\u001b[1;33m             \u001b[1;32mreturn\u001b[0m \u001b[0mself\u001b[0m\u001b[1;33m.\u001b[0m\u001b[0m_get_value\u001b[0m\u001b[1;33m(\u001b[0m\u001b[0mkey\u001b[0m\u001b[1;33m)\u001b[0m\u001b[1;33m\u001b[0m\u001b[1;33m\u001b[0m\u001b[0m\n\u001b[0m\u001b[0;32m    943\u001b[0m \u001b[1;33m\u001b[0m\u001b[0m\n\u001b[0;32m    944\u001b[0m         \u001b[1;32mif\u001b[0m \u001b[0mis_hashable\u001b[0m\u001b[1;33m(\u001b[0m\u001b[0mkey\u001b[0m\u001b[1;33m)\u001b[0m\u001b[1;33m:\u001b[0m\u001b[1;33m\u001b[0m\u001b[1;33m\u001b[0m\u001b[0m\n",
      "\u001b[1;32mC:\\ProgramData\\Anaconda3\\lib\\site-packages\\pandas\\core\\series.py\u001b[0m in \u001b[0;36m_get_value\u001b[1;34m(self, label, takeable)\u001b[0m\n\u001b[0;32m   1049\u001b[0m \u001b[1;33m\u001b[0m\u001b[0m\n\u001b[0;32m   1050\u001b[0m         \u001b[1;31m# Similar to Index.get_value, but we do not fall back to positional\u001b[0m\u001b[1;33m\u001b[0m\u001b[1;33m\u001b[0m\u001b[0m\n\u001b[1;32m-> 1051\u001b[1;33m         \u001b[0mloc\u001b[0m \u001b[1;33m=\u001b[0m \u001b[0mself\u001b[0m\u001b[1;33m.\u001b[0m\u001b[0mindex\u001b[0m\u001b[1;33m.\u001b[0m\u001b[0mget_loc\u001b[0m\u001b[1;33m(\u001b[0m\u001b[0mlabel\u001b[0m\u001b[1;33m)\u001b[0m\u001b[1;33m\u001b[0m\u001b[1;33m\u001b[0m\u001b[0m\n\u001b[0m\u001b[0;32m   1052\u001b[0m         \u001b[1;32mreturn\u001b[0m \u001b[0mself\u001b[0m\u001b[1;33m.\u001b[0m\u001b[0mindex\u001b[0m\u001b[1;33m.\u001b[0m\u001b[0m_get_values_for_loc\u001b[0m\u001b[1;33m(\u001b[0m\u001b[0mself\u001b[0m\u001b[1;33m,\u001b[0m \u001b[0mloc\u001b[0m\u001b[1;33m,\u001b[0m \u001b[0mlabel\u001b[0m\u001b[1;33m)\u001b[0m\u001b[1;33m\u001b[0m\u001b[1;33m\u001b[0m\u001b[0m\n\u001b[0;32m   1053\u001b[0m \u001b[1;33m\u001b[0m\u001b[0m\n",
      "\u001b[1;32mC:\\ProgramData\\Anaconda3\\lib\\site-packages\\pandas\\core\\indexes\\range.py\u001b[0m in \u001b[0;36mget_loc\u001b[1;34m(self, key, method, tolerance)\u001b[0m\n\u001b[0;32m    385\u001b[0m                     \u001b[1;32mreturn\u001b[0m \u001b[0mself\u001b[0m\u001b[1;33m.\u001b[0m\u001b[0m_range\u001b[0m\u001b[1;33m.\u001b[0m\u001b[0mindex\u001b[0m\u001b[1;33m(\u001b[0m\u001b[0mnew_key\u001b[0m\u001b[1;33m)\u001b[0m\u001b[1;33m\u001b[0m\u001b[1;33m\u001b[0m\u001b[0m\n\u001b[0;32m    386\u001b[0m                 \u001b[1;32mexcept\u001b[0m \u001b[0mValueError\u001b[0m \u001b[1;32mas\u001b[0m \u001b[0merr\u001b[0m\u001b[1;33m:\u001b[0m\u001b[1;33m\u001b[0m\u001b[1;33m\u001b[0m\u001b[0m\n\u001b[1;32m--> 387\u001b[1;33m                     \u001b[1;32mraise\u001b[0m \u001b[0mKeyError\u001b[0m\u001b[1;33m(\u001b[0m\u001b[0mkey\u001b[0m\u001b[1;33m)\u001b[0m \u001b[1;32mfrom\u001b[0m \u001b[0merr\u001b[0m\u001b[1;33m\u001b[0m\u001b[1;33m\u001b[0m\u001b[0m\n\u001b[0m\u001b[0;32m    388\u001b[0m             \u001b[1;32mraise\u001b[0m \u001b[0mKeyError\u001b[0m\u001b[1;33m(\u001b[0m\u001b[0mkey\u001b[0m\u001b[1;33m)\u001b[0m\u001b[1;33m\u001b[0m\u001b[1;33m\u001b[0m\u001b[0m\n\u001b[0;32m    389\u001b[0m         \u001b[1;32mreturn\u001b[0m \u001b[0msuper\u001b[0m\u001b[1;33m(\u001b[0m\u001b[1;33m)\u001b[0m\u001b[1;33m.\u001b[0m\u001b[0mget_loc\u001b[0m\u001b[1;33m(\u001b[0m\u001b[0mkey\u001b[0m\u001b[1;33m,\u001b[0m \u001b[0mmethod\u001b[0m\u001b[1;33m=\u001b[0m\u001b[0mmethod\u001b[0m\u001b[1;33m,\u001b[0m \u001b[0mtolerance\u001b[0m\u001b[1;33m=\u001b[0m\u001b[0mtolerance\u001b[0m\u001b[1;33m)\u001b[0m\u001b[1;33m\u001b[0m\u001b[1;33m\u001b[0m\u001b[0m\n",
      "\u001b[1;31mKeyError\u001b[0m: -1"
     ]
    }
   ],
   "source": [
    "pd.isna(df['authors'][-1])"
   ]
  },
  {
   "cell_type": "code",
   "execution_count": 46,
   "id": "7df5de0a",
   "metadata": {},
   "outputs": [
    {
     "data": {
      "text/plain": [
       "0         [{'_id': '53f46797dabfaeb22f542630', 'name': '...\n",
       "1         [{'_id': '53f46946dabfaec09f24b4ed', 'name': '...\n",
       "2         [{'_id': '53f453aedabfaeb22f4f637d', 'name': '...\n",
       "3         [{'_id': '53f4309ddabfaeb1a7bb434b', 'name': '...\n",
       "4         [{'_id': '560175ee45cedb3395e5a3c7', 'name': '...\n",
       "                                ...                        \n",
       "385519    [{'name': 'Saka John'}, {'name': 'Jacob O. Meb...\n",
       "385520                           [{'name': 'Ananya Misra'}]\n",
       "385521    [{'name': 'Idowu Dauda Oladipo'}, {'name': 'Ab...\n",
       "385522    [{'name': 'Sujata Panda'}, {'name': 'Hima Bind...\n",
       "385523    [{'name': 'Ahmed Tijani Salawudeen'}, {'name':...\n",
       "Name: authors, Length: 385524, dtype: object"
      ]
     },
     "execution_count": 46,
     "metadata": {},
     "output_type": "execute_result"
    }
   ],
   "source": [
    "df['authors'].astype(str)"
   ]
  },
  {
   "cell_type": "code",
   "execution_count": null,
   "id": "ee507af9",
   "metadata": {},
   "outputs": [],
   "source": []
  }
 ],
 "metadata": {
  "kernelspec": {
   "display_name": "Python 3 (ipykernel)",
   "language": "python",
   "name": "python3"
  },
  "language_info": {
   "codemirror_mode": {
    "name": "ipython",
    "version": 3
   },
   "file_extension": ".py",
   "mimetype": "text/x-python",
   "name": "python",
   "nbconvert_exporter": "python",
   "pygments_lexer": "ipython3",
   "version": "3.9.7"
  }
 },
 "nbformat": 4,
 "nbformat_minor": 5
}
