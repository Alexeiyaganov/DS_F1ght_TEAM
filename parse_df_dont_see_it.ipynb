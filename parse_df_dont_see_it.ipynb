{
 "cells": [
  {
   "cell_type": "code",
   "execution_count": null,
   "id": "89061001",
   "metadata": {
    "ExecuteTime": {
     "start_time": "2022-10-07T15:41:03.098Z"
    }
   },
   "outputs": [],
   "source": [
    "import pandas as pd\n",
    "import numpy as np\n",
    "from tqdm import tqdm\n",
    "import json\n",
    "import re\n",
    "\n",
    "import ast"
   ]
  },
  {
   "cell_type": "code",
   "execution_count": null,
   "id": "3f2eff81",
   "metadata": {
    "ExecuteTime": {
     "start_time": "2022-10-07T15:41:03.099Z"
    }
   },
   "outputs": [],
   "source": [
    "df = pd.read_csv('data/row_papersdata_v13.csv')\n",
    "df.head(3)"
   ]
  },
  {
   "cell_type": "code",
   "execution_count": null,
   "id": "281bf83a",
   "metadata": {
    "ExecuteTime": {
     "start_time": "2022-10-07T15:41:03.099Z"
    }
   },
   "outputs": [],
   "source": [
    "def get_names(series, needed='name') -> list:\n",
    "    def _parse_row(row):\n",
    "        if row is not None:\n",
    "            try: values_dict = ast.literal_eval(row)\n",
    "            except: return([])\n",
    "            \n",
    "            names = [None] * len(values_dict)\n",
    "            for key, value in enumerate(values_dict):\n",
    "                try: names[key] = value[needed]\n",
    "                except: return([])\n",
    "                \n",
    "            return(names)\n",
    "        return([])\n",
    "    \n",
    "    parsed_series = [None] * series.shape[0]\n",
    "    for key, row in enumerate(tqdm(df['authors'].iloc())):\n",
    "        names = _parse_row(row)\n",
    "        parsed_series[key] = list(set(names))\n",
    "    return parsed_series"
   ]
  },
  {
   "cell_type": "code",
   "execution_count": null,
   "id": "8a2b744a",
   "metadata": {
    "ExecuteTime": {
     "start_time": "2022-10-07T15:41:03.100Z"
    },
    "scrolled": false
   },
   "outputs": [],
   "source": [
    "authors_names = get_names(df['authors'], needed='name')"
   ]
  },
  {
   "cell_type": "code",
   "execution_count": null,
   "id": "b0f95c3b",
   "metadata": {
    "ExecuteTime": {
     "start_time": "2022-10-07T15:41:03.101Z"
    }
   },
   "outputs": [],
   "source": [
    "org_names = get_names(df['authors'], needed='org')"
   ]
  },
  {
   "cell_type": "code",
   "execution_count": null,
   "id": "5d71e279",
   "metadata": {
    "ExecuteTime": {
     "start_time": "2022-10-07T15:41:03.102Z"
    }
   },
   "outputs": [],
   "source": [
    "raw_venue_names = get_names(df['venue'], needed='raw')"
   ]
  },
  {
   "cell_type": "code",
   "execution_count": null,
   "id": "448bc045",
   "metadata": {
    "ExecuteTime": {
     "start_time": "2022-10-07T15:41:03.102Z"
    }
   },
   "outputs": [],
   "source": [
    "df['auther_name'] = authors_names\n",
    "df['org_names'] = org_names"
   ]
  },
  {
   "cell_type": "code",
   "execution_count": null,
   "id": "fc903c5f",
   "metadata": {
    "ExecuteTime": {
     "start_time": "2022-10-07T15:41:03.103Z"
    }
   },
   "outputs": [],
   "source": [
    "print(f'Before: {df.shape}')\n",
    "df = df.explode('auther_name')\n",
    "# df = df.explode('org_names')\n",
    "print(f'After:  {df.shape}')"
   ]
  },
  {
   "cell_type": "code",
   "execution_count": null,
   "id": "1906529d",
   "metadata": {
    "ExecuteTime": {
     "start_time": "2022-10-07T15:41:03.104Z"
    }
   },
   "outputs": [],
   "source": [
    "df.to_csv('data/last_version.csv')"
   ]
  }
 ],
 "metadata": {
  "kernelspec": {
   "display_name": "Python 3 (ipykernel)",
   "language": "python",
   "name": "python3"
  },
  "language_info": {
   "codemirror_mode": {
    "name": "ipython",
    "version": 3
   },
   "file_extension": ".py",
   "mimetype": "text/x-python",
   "name": "python",
   "nbconvert_exporter": "python",
   "pygments_lexer": "ipython3",
   "version": "3.9.7"
  },
  "toc": {
   "base_numbering": 1,
   "nav_menu": {},
   "number_sections": false,
   "sideBar": true,
   "skip_h1_title": false,
   "title_cell": "Table of Contents",
   "title_sidebar": "Contents",
   "toc_cell": false,
   "toc_position": {},
   "toc_section_display": true,
   "toc_window_display": false
  }
 },
 "nbformat": 4,
 "nbformat_minor": 5
}
